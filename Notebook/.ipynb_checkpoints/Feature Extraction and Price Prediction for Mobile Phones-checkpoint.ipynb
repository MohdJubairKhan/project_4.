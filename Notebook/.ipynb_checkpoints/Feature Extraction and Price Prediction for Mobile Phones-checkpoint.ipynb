{
 "cells": [
  {
   "cell_type": "markdown",
   "id": "b3364169",
   "metadata": {},
   "source": [
    "# 1. Data Exploration:"
   ]
  },
  {
   "cell_type": "markdown",
   "id": "7438546f",
   "metadata": {},
   "source": [
    "# Import_Libraries"
   ]
  },
  {
   "cell_type": "code",
   "execution_count": 1,
   "id": "f2485f51",
   "metadata": {},
   "outputs": [],
   "source": [
    "import pandas as pd\n",
    "import numpy as np\n",
    "import seaborn as sns\n",
    "import matplotlib.pyplot as plt\n",
    "import warnings\n",
    "warnings.filterwarnings(\"ignore\")"
   ]
  },
  {
   "cell_type": "markdown",
   "id": "4dee5a5d",
   "metadata": {},
   "source": [
    "# Load the dataset"
   ]
  },
  {
   "cell_type": "code",
   "execution_count": 2,
   "id": "0f6f452f",
   "metadata": {},
   "outputs": [],
   "source": [
    "Processed_Flipdata = pd.read_excel('Processed_Flipdata.xlsx')"
   ]
  },
  {
   "cell_type": "markdown",
   "id": "2a8a0ee5",
   "metadata": {},
   "source": [
    "# Display the first few rows of the dataset"
   ]
  },
  {
   "cell_type": "code",
   "execution_count": 3,
   "id": "f9d7397b",
   "metadata": {},
   "outputs": [
    {
     "data": {
      "text/html": [
       "<div>\n",
       "<style scoped>\n",
       "    .dataframe tbody tr th:only-of-type {\n",
       "        vertical-align: middle;\n",
       "    }\n",
       "\n",
       "    .dataframe tbody tr th {\n",
       "        vertical-align: top;\n",
       "    }\n",
       "\n",
       "    .dataframe thead th {\n",
       "        text-align: right;\n",
       "    }\n",
       "</style>\n",
       "<table border=\"1\" class=\"dataframe\">\n",
       "  <thead>\n",
       "    <tr style=\"text-align: right;\">\n",
       "      <th></th>\n",
       "      <th>Unnamed: 0</th>\n",
       "      <th>Model</th>\n",
       "      <th>Colour</th>\n",
       "      <th>Memory</th>\n",
       "      <th>RAM</th>\n",
       "      <th>Battery_</th>\n",
       "      <th>Rear Camera</th>\n",
       "      <th>Front Camera</th>\n",
       "      <th>AI Lens</th>\n",
       "      <th>Mobile Height</th>\n",
       "      <th>Processor_</th>\n",
       "      <th>Prize</th>\n",
       "    </tr>\n",
       "  </thead>\n",
       "  <tbody>\n",
       "    <tr>\n",
       "      <th>0</th>\n",
       "      <td>0</td>\n",
       "      <td>Infinix SMART 7</td>\n",
       "      <td>Night Black</td>\n",
       "      <td>64</td>\n",
       "      <td>4</td>\n",
       "      <td>6000</td>\n",
       "      <td>13MP</td>\n",
       "      <td>5MP</td>\n",
       "      <td>1</td>\n",
       "      <td>16.76</td>\n",
       "      <td>Unisoc Spreadtrum SC9863A1</td>\n",
       "      <td>7299</td>\n",
       "    </tr>\n",
       "    <tr>\n",
       "      <th>1</th>\n",
       "      <td>1</td>\n",
       "      <td>Infinix SMART 7</td>\n",
       "      <td>Azure Blue</td>\n",
       "      <td>64</td>\n",
       "      <td>4</td>\n",
       "      <td>6000</td>\n",
       "      <td>13MP</td>\n",
       "      <td>5MP</td>\n",
       "      <td>1</td>\n",
       "      <td>16.76</td>\n",
       "      <td>Unisoc Spreadtrum SC9863A1</td>\n",
       "      <td>7299</td>\n",
       "    </tr>\n",
       "    <tr>\n",
       "      <th>2</th>\n",
       "      <td>2</td>\n",
       "      <td>MOTOROLA G32</td>\n",
       "      <td>Mineral Gray</td>\n",
       "      <td>128</td>\n",
       "      <td>8</td>\n",
       "      <td>5000</td>\n",
       "      <td>50MP</td>\n",
       "      <td>16MP</td>\n",
       "      <td>0</td>\n",
       "      <td>16.64</td>\n",
       "      <td>Qualcomm Snapdragon 680</td>\n",
       "      <td>11999</td>\n",
       "    </tr>\n",
       "    <tr>\n",
       "      <th>3</th>\n",
       "      <td>3</td>\n",
       "      <td>POCO C50</td>\n",
       "      <td>Royal Blue</td>\n",
       "      <td>32</td>\n",
       "      <td>2</td>\n",
       "      <td>5000</td>\n",
       "      <td>8MP</td>\n",
       "      <td>5MP</td>\n",
       "      <td>0</td>\n",
       "      <td>16.56</td>\n",
       "      <td>Mediatek Helio A22</td>\n",
       "      <td>5649</td>\n",
       "    </tr>\n",
       "    <tr>\n",
       "      <th>4</th>\n",
       "      <td>4</td>\n",
       "      <td>Infinix HOT 30i</td>\n",
       "      <td>Marigold</td>\n",
       "      <td>128</td>\n",
       "      <td>8</td>\n",
       "      <td>5000</td>\n",
       "      <td>50MP</td>\n",
       "      <td>5MP</td>\n",
       "      <td>1</td>\n",
       "      <td>16.76</td>\n",
       "      <td>G37</td>\n",
       "      <td>8999</td>\n",
       "    </tr>\n",
       "  </tbody>\n",
       "</table>\n",
       "</div>"
      ],
      "text/plain": [
       "   Unnamed: 0            Model        Colour  Memory  RAM  Battery_  \\\n",
       "0           0  Infinix SMART 7   Night Black      64    4      6000   \n",
       "1           1  Infinix SMART 7    Azure Blue      64    4      6000   \n",
       "2           2     MOTOROLA G32  Mineral Gray     128    8      5000   \n",
       "3           3         POCO C50    Royal Blue      32    2      5000   \n",
       "4           4  Infinix HOT 30i      Marigold     128    8      5000   \n",
       "\n",
       "  Rear Camera Front Camera  AI Lens  Mobile Height  \\\n",
       "0        13MP          5MP        1          16.76   \n",
       "1        13MP          5MP        1          16.76   \n",
       "2        50MP         16MP        0          16.64   \n",
       "3         8MP          5MP        0          16.56   \n",
       "4        50MP          5MP        1          16.76   \n",
       "\n",
       "                   Processor_  Prize  \n",
       "0  Unisoc Spreadtrum SC9863A1   7299  \n",
       "1  Unisoc Spreadtrum SC9863A1   7299  \n",
       "2     Qualcomm Snapdragon 680  11999  \n",
       "3          Mediatek Helio A22   5649  \n",
       "4                         G37   8999  "
      ]
     },
     "execution_count": 3,
     "metadata": {},
     "output_type": "execute_result"
    }
   ],
   "source": [
    "Processed_Flipdata.head(5)"
   ]
  },
  {
   "cell_type": "markdown",
   "id": "8efa8e8b",
   "metadata": {},
   "source": [
    "# Display the last few rows of the dataset"
   ]
  },
  {
   "cell_type": "code",
   "execution_count": 4,
   "id": "5f7c4b72",
   "metadata": {},
   "outputs": [
    {
     "data": {
      "text/html": [
       "<div>\n",
       "<style scoped>\n",
       "    .dataframe tbody tr th:only-of-type {\n",
       "        vertical-align: middle;\n",
       "    }\n",
       "\n",
       "    .dataframe tbody tr th {\n",
       "        vertical-align: top;\n",
       "    }\n",
       "\n",
       "    .dataframe thead th {\n",
       "        text-align: right;\n",
       "    }\n",
       "</style>\n",
       "<table border=\"1\" class=\"dataframe\">\n",
       "  <thead>\n",
       "    <tr style=\"text-align: right;\">\n",
       "      <th></th>\n",
       "      <th>Unnamed: 0</th>\n",
       "      <th>Model</th>\n",
       "      <th>Colour</th>\n",
       "      <th>Memory</th>\n",
       "      <th>RAM</th>\n",
       "      <th>Battery_</th>\n",
       "      <th>Rear Camera</th>\n",
       "      <th>Front Camera</th>\n",
       "      <th>AI Lens</th>\n",
       "      <th>Mobile Height</th>\n",
       "      <th>Processor_</th>\n",
       "      <th>Prize</th>\n",
       "    </tr>\n",
       "  </thead>\n",
       "  <tbody>\n",
       "    <tr>\n",
       "      <th>536</th>\n",
       "      <td>637</td>\n",
       "      <td>SAMSUNG Galaxy S23 5G</td>\n",
       "      <td>Cream</td>\n",
       "      <td>256</td>\n",
       "      <td>8</td>\n",
       "      <td>3900</td>\n",
       "      <td>50MP</td>\n",
       "      <td>12MP</td>\n",
       "      <td>0</td>\n",
       "      <td>15.49</td>\n",
       "      <td>Qualcomm Snapdragon 8 Gen 2</td>\n",
       "      <td>79999</td>\n",
       "    </tr>\n",
       "    <tr>\n",
       "      <th>537</th>\n",
       "      <td>638</td>\n",
       "      <td>LAVA Z21</td>\n",
       "      <td>Cyan</td>\n",
       "      <td>32</td>\n",
       "      <td>2</td>\n",
       "      <td>3100</td>\n",
       "      <td>5MP</td>\n",
       "      <td>2MP</td>\n",
       "      <td>0</td>\n",
       "      <td>12.70</td>\n",
       "      <td>Octa Core</td>\n",
       "      <td>5998</td>\n",
       "    </tr>\n",
       "    <tr>\n",
       "      <th>538</th>\n",
       "      <td>639</td>\n",
       "      <td>Tecno Spark 8T</td>\n",
       "      <td>Turquoise Cyan</td>\n",
       "      <td>64</td>\n",
       "      <td>4</td>\n",
       "      <td>5000</td>\n",
       "      <td>50MP</td>\n",
       "      <td>8MP</td>\n",
       "      <td>0</td>\n",
       "      <td>16.76</td>\n",
       "      <td>MediaTek Helio G35</td>\n",
       "      <td>9990</td>\n",
       "    </tr>\n",
       "    <tr>\n",
       "      <th>539</th>\n",
       "      <td>641</td>\n",
       "      <td>SAMSUNG Galaxy A54 5G</td>\n",
       "      <td>Awesome Lime</td>\n",
       "      <td>128</td>\n",
       "      <td>8</td>\n",
       "      <td>5000</td>\n",
       "      <td>50MP</td>\n",
       "      <td>32MP</td>\n",
       "      <td>0</td>\n",
       "      <td>16.26</td>\n",
       "      <td>Exynos 1380, Octa Core</td>\n",
       "      <td>38999</td>\n",
       "    </tr>\n",
       "    <tr>\n",
       "      <th>540</th>\n",
       "      <td>642</td>\n",
       "      <td>OPPO A77</td>\n",
       "      <td>Sky Blue</td>\n",
       "      <td>128</td>\n",
       "      <td>4</td>\n",
       "      <td>5000</td>\n",
       "      <td>50MP</td>\n",
       "      <td>8MP</td>\n",
       "      <td>0</td>\n",
       "      <td>16.66</td>\n",
       "      <td>Mediatek Helio G35</td>\n",
       "      <td>15999</td>\n",
       "    </tr>\n",
       "  </tbody>\n",
       "</table>\n",
       "</div>"
      ],
      "text/plain": [
       "     Unnamed: 0                  Model          Colour  Memory  RAM  Battery_  \\\n",
       "536         637  SAMSUNG Galaxy S23 5G           Cream     256    8      3900   \n",
       "537         638               LAVA Z21            Cyan      32    2      3100   \n",
       "538         639         Tecno Spark 8T  Turquoise Cyan      64    4      5000   \n",
       "539         641  SAMSUNG Galaxy A54 5G    Awesome Lime     128    8      5000   \n",
       "540         642               OPPO A77        Sky Blue     128    4      5000   \n",
       "\n",
       "    Rear Camera Front Camera  AI Lens  Mobile Height  \\\n",
       "536        50MP         12MP        0          15.49   \n",
       "537         5MP          2MP        0          12.70   \n",
       "538        50MP          8MP        0          16.76   \n",
       "539        50MP         32MP        0          16.26   \n",
       "540        50MP          8MP        0          16.66   \n",
       "\n",
       "                      Processor_  Prize  \n",
       "536  Qualcomm Snapdragon 8 Gen 2  79999  \n",
       "537                    Octa Core   5998  \n",
       "538           MediaTek Helio G35   9990  \n",
       "539      Exynos 1380, Octa Core   38999  \n",
       "540           Mediatek Helio G35  15999  "
      ]
     },
     "execution_count": 4,
     "metadata": {},
     "output_type": "execute_result"
    }
   ],
   "source": [
    "Processed_Flipdata.tail(5)"
   ]
  },
  {
   "cell_type": "markdown",
   "id": "08c11b78",
   "metadata": {},
   "source": [
    "# Display information about the dataset"
   ]
  },
  {
   "cell_type": "code",
   "execution_count": 5,
   "id": "e743e0f7",
   "metadata": {},
   "outputs": [
    {
     "name": "stdout",
     "output_type": "stream",
     "text": [
      "<class 'pandas.core.frame.DataFrame'>\n",
      "RangeIndex: 541 entries, 0 to 540\n",
      "Data columns (total 12 columns):\n",
      " #   Column         Non-Null Count  Dtype  \n",
      "---  ------         --------------  -----  \n",
      " 0   Unnamed: 0     541 non-null    int64  \n",
      " 1   Model          541 non-null    object \n",
      " 2   Colour         541 non-null    object \n",
      " 3   Memory         541 non-null    int64  \n",
      " 4   RAM            541 non-null    int64  \n",
      " 5   Battery_       541 non-null    int64  \n",
      " 6   Rear Camera    541 non-null    object \n",
      " 7   Front Camera   541 non-null    object \n",
      " 8   AI Lens        541 non-null    int64  \n",
      " 9   Mobile Height  541 non-null    float64\n",
      " 10  Processor_     541 non-null    object \n",
      " 11  Prize          541 non-null    int64  \n",
      "dtypes: float64(1), int64(6), object(5)\n",
      "memory usage: 50.8+ KB\n"
     ]
    }
   ],
   "source": [
    "Processed_Flipdata.info()"
   ]
  },
  {
   "cell_type": "code",
   "execution_count": 6,
   "id": "93e3bf2b",
   "metadata": {},
   "outputs": [
    {
     "data": {
      "text/plain": [
       "(541, 12)"
      ]
     },
     "execution_count": 6,
     "metadata": {},
     "output_type": "execute_result"
    }
   ],
   "source": [
    "Processed_Flipdata.shape"
   ]
  },
  {
   "cell_type": "code",
   "execution_count": 7,
   "id": "400c2d27",
   "metadata": {},
   "outputs": [
    {
     "data": {
      "text/plain": [
       "Index(['Unnamed: 0', 'Model', 'Colour', 'Memory', 'RAM', 'Battery_',\n",
       "       'Rear Camera', 'Front Camera', 'AI Lens', 'Mobile Height', 'Processor_',\n",
       "       'Prize'],\n",
       "      dtype='object')"
      ]
     },
     "execution_count": 7,
     "metadata": {},
     "output_type": "execute_result"
    }
   ],
   "source": [
    "Processed_Flipdata.columns"
   ]
  },
  {
   "cell_type": "markdown",
   "id": "d74b4677",
   "metadata": {},
   "source": [
    "# Display statistical summary of the dataset"
   ]
  },
  {
   "cell_type": "code",
   "execution_count": 8,
   "id": "fbbe899b",
   "metadata": {},
   "outputs": [
    {
     "data": {
      "text/html": [
       "<div>\n",
       "<style scoped>\n",
       "    .dataframe tbody tr th:only-of-type {\n",
       "        vertical-align: middle;\n",
       "    }\n",
       "\n",
       "    .dataframe tbody tr th {\n",
       "        vertical-align: top;\n",
       "    }\n",
       "\n",
       "    .dataframe thead th {\n",
       "        text-align: right;\n",
       "    }\n",
       "</style>\n",
       "<table border=\"1\" class=\"dataframe\">\n",
       "  <thead>\n",
       "    <tr style=\"text-align: right;\">\n",
       "      <th></th>\n",
       "      <th>Unnamed: 0</th>\n",
       "      <th>Memory</th>\n",
       "      <th>RAM</th>\n",
       "      <th>Battery_</th>\n",
       "      <th>AI Lens</th>\n",
       "      <th>Mobile Height</th>\n",
       "      <th>Prize</th>\n",
       "    </tr>\n",
       "  </thead>\n",
       "  <tbody>\n",
       "    <tr>\n",
       "      <th>count</th>\n",
       "      <td>541.000000</td>\n",
       "      <td>541.000000</td>\n",
       "      <td>541.000000</td>\n",
       "      <td>541.000000</td>\n",
       "      <td>541.000000</td>\n",
       "      <td>541.000000</td>\n",
       "      <td>541.000000</td>\n",
       "    </tr>\n",
       "    <tr>\n",
       "      <th>mean</th>\n",
       "      <td>289.711645</td>\n",
       "      <td>110.550832</td>\n",
       "      <td>5.397412</td>\n",
       "      <td>4871.587800</td>\n",
       "      <td>0.062847</td>\n",
       "      <td>16.431201</td>\n",
       "      <td>16228.375231</td>\n",
       "    </tr>\n",
       "    <tr>\n",
       "      <th>std</th>\n",
       "      <td>182.359185</td>\n",
       "      <td>60.600694</td>\n",
       "      <td>1.984923</td>\n",
       "      <td>780.148862</td>\n",
       "      <td>0.242911</td>\n",
       "      <td>2.523553</td>\n",
       "      <td>10793.588322</td>\n",
       "    </tr>\n",
       "    <tr>\n",
       "      <th>min</th>\n",
       "      <td>0.000000</td>\n",
       "      <td>16.000000</td>\n",
       "      <td>2.000000</td>\n",
       "      <td>800.000000</td>\n",
       "      <td>0.000000</td>\n",
       "      <td>4.500000</td>\n",
       "      <td>920.000000</td>\n",
       "    </tr>\n",
       "    <tr>\n",
       "      <th>25%</th>\n",
       "      <td>135.000000</td>\n",
       "      <td>64.000000</td>\n",
       "      <td>4.000000</td>\n",
       "      <td>5000.000000</td>\n",
       "      <td>0.000000</td>\n",
       "      <td>16.510000</td>\n",
       "      <td>9290.000000</td>\n",
       "    </tr>\n",
       "    <tr>\n",
       "      <th>50%</th>\n",
       "      <td>273.000000</td>\n",
       "      <td>128.000000</td>\n",
       "      <td>6.000000</td>\n",
       "      <td>5000.000000</td>\n",
       "      <td>0.000000</td>\n",
       "      <td>16.710000</td>\n",
       "      <td>13499.000000</td>\n",
       "    </tr>\n",
       "    <tr>\n",
       "      <th>75%</th>\n",
       "      <td>434.000000</td>\n",
       "      <td>128.000000</td>\n",
       "      <td>8.000000</td>\n",
       "      <td>5000.000000</td>\n",
       "      <td>0.000000</td>\n",
       "      <td>16.940000</td>\n",
       "      <td>19280.000000</td>\n",
       "    </tr>\n",
       "    <tr>\n",
       "      <th>max</th>\n",
       "      <td>642.000000</td>\n",
       "      <td>256.000000</td>\n",
       "      <td>8.000000</td>\n",
       "      <td>7000.000000</td>\n",
       "      <td>1.000000</td>\n",
       "      <td>41.940000</td>\n",
       "      <td>80999.000000</td>\n",
       "    </tr>\n",
       "  </tbody>\n",
       "</table>\n",
       "</div>"
      ],
      "text/plain": [
       "       Unnamed: 0      Memory         RAM     Battery_     AI Lens  \\\n",
       "count  541.000000  541.000000  541.000000   541.000000  541.000000   \n",
       "mean   289.711645  110.550832    5.397412  4871.587800    0.062847   \n",
       "std    182.359185   60.600694    1.984923   780.148862    0.242911   \n",
       "min      0.000000   16.000000    2.000000   800.000000    0.000000   \n",
       "25%    135.000000   64.000000    4.000000  5000.000000    0.000000   \n",
       "50%    273.000000  128.000000    6.000000  5000.000000    0.000000   \n",
       "75%    434.000000  128.000000    8.000000  5000.000000    0.000000   \n",
       "max    642.000000  256.000000    8.000000  7000.000000    1.000000   \n",
       "\n",
       "       Mobile Height         Prize  \n",
       "count     541.000000    541.000000  \n",
       "mean       16.431201  16228.375231  \n",
       "std         2.523553  10793.588322  \n",
       "min         4.500000    920.000000  \n",
       "25%        16.510000   9290.000000  \n",
       "50%        16.710000  13499.000000  \n",
       "75%        16.940000  19280.000000  \n",
       "max        41.940000  80999.000000  "
      ]
     },
     "execution_count": 8,
     "metadata": {},
     "output_type": "execute_result"
    }
   ],
   "source": [
    "Processed_Flipdata.describe()"
   ]
  },
  {
   "cell_type": "markdown",
   "id": "267472a1",
   "metadata": {},
   "source": [
    "# 2. Data Preprocessing:\n"
   ]
  },
  {
   "cell_type": "markdown",
   "id": "233f1ba1",
   "metadata": {},
   "source": [
    "# Check for missing values"
   ]
  },
  {
   "cell_type": "code",
   "execution_count": 9,
   "id": "a7c0db27",
   "metadata": {},
   "outputs": [
    {
     "data": {
      "text/plain": [
       "Unnamed: 0       0\n",
       "Model            0\n",
       "Colour           0\n",
       "Memory           0\n",
       "RAM              0\n",
       "Battery_         0\n",
       "Rear Camera      0\n",
       "Front Camera     0\n",
       "AI Lens          0\n",
       "Mobile Height    0\n",
       "Processor_       0\n",
       "Prize            0\n",
       "dtype: int64"
      ]
     },
     "execution_count": 9,
     "metadata": {},
     "output_type": "execute_result"
    }
   ],
   "source": [
    "Processed_Flipdata.isnull().sum()"
   ]
  },
  {
   "cell_type": "markdown",
   "id": "5e9b1209",
   "metadata": {},
   "source": [
    "# Check Duplicate values"
   ]
  },
  {
   "cell_type": "code",
   "execution_count": 10,
   "id": "cf2b9b8f",
   "metadata": {},
   "outputs": [
    {
     "data": {
      "text/plain": [
       "0"
      ]
     },
     "execution_count": 10,
     "metadata": {},
     "output_type": "execute_result"
    }
   ],
   "source": [
    "Processed_Flipdata.duplicated().sum()"
   ]
  },
  {
   "cell_type": "markdown",
   "id": "73dbd21e",
   "metadata": {},
   "source": [
    "# Drop unnecessary Columns"
   ]
  },
  {
   "cell_type": "code",
   "execution_count": 11,
   "id": "af310f86",
   "metadata": {},
   "outputs": [],
   "source": [
    "Processed_Flipdata=Processed_Flipdata.drop(['Unnamed: 0'], axis=1)"
   ]
  },
  {
   "cell_type": "code",
   "execution_count": 12,
   "id": "7f0b284d",
   "metadata": {},
   "outputs": [
    {
     "data": {
      "text/html": [
       "<div>\n",
       "<style scoped>\n",
       "    .dataframe tbody tr th:only-of-type {\n",
       "        vertical-align: middle;\n",
       "    }\n",
       "\n",
       "    .dataframe tbody tr th {\n",
       "        vertical-align: top;\n",
       "    }\n",
       "\n",
       "    .dataframe thead th {\n",
       "        text-align: right;\n",
       "    }\n",
       "</style>\n",
       "<table border=\"1\" class=\"dataframe\">\n",
       "  <thead>\n",
       "    <tr style=\"text-align: right;\">\n",
       "      <th></th>\n",
       "      <th>Model</th>\n",
       "      <th>Colour</th>\n",
       "      <th>Memory</th>\n",
       "      <th>RAM</th>\n",
       "      <th>Battery_</th>\n",
       "      <th>Rear Camera</th>\n",
       "      <th>Front Camera</th>\n",
       "      <th>AI Lens</th>\n",
       "      <th>Mobile Height</th>\n",
       "      <th>Processor_</th>\n",
       "      <th>Prize</th>\n",
       "    </tr>\n",
       "  </thead>\n",
       "  <tbody>\n",
       "    <tr>\n",
       "      <th>0</th>\n",
       "      <td>Infinix SMART 7</td>\n",
       "      <td>Night Black</td>\n",
       "      <td>64</td>\n",
       "      <td>4</td>\n",
       "      <td>6000</td>\n",
       "      <td>13MP</td>\n",
       "      <td>5MP</td>\n",
       "      <td>1</td>\n",
       "      <td>16.76</td>\n",
       "      <td>Unisoc Spreadtrum SC9863A1</td>\n",
       "      <td>7299</td>\n",
       "    </tr>\n",
       "    <tr>\n",
       "      <th>1</th>\n",
       "      <td>Infinix SMART 7</td>\n",
       "      <td>Azure Blue</td>\n",
       "      <td>64</td>\n",
       "      <td>4</td>\n",
       "      <td>6000</td>\n",
       "      <td>13MP</td>\n",
       "      <td>5MP</td>\n",
       "      <td>1</td>\n",
       "      <td>16.76</td>\n",
       "      <td>Unisoc Spreadtrum SC9863A1</td>\n",
       "      <td>7299</td>\n",
       "    </tr>\n",
       "    <tr>\n",
       "      <th>2</th>\n",
       "      <td>MOTOROLA G32</td>\n",
       "      <td>Mineral Gray</td>\n",
       "      <td>128</td>\n",
       "      <td>8</td>\n",
       "      <td>5000</td>\n",
       "      <td>50MP</td>\n",
       "      <td>16MP</td>\n",
       "      <td>0</td>\n",
       "      <td>16.64</td>\n",
       "      <td>Qualcomm Snapdragon 680</td>\n",
       "      <td>11999</td>\n",
       "    </tr>\n",
       "    <tr>\n",
       "      <th>3</th>\n",
       "      <td>POCO C50</td>\n",
       "      <td>Royal Blue</td>\n",
       "      <td>32</td>\n",
       "      <td>2</td>\n",
       "      <td>5000</td>\n",
       "      <td>8MP</td>\n",
       "      <td>5MP</td>\n",
       "      <td>0</td>\n",
       "      <td>16.56</td>\n",
       "      <td>Mediatek Helio A22</td>\n",
       "      <td>5649</td>\n",
       "    </tr>\n",
       "    <tr>\n",
       "      <th>4</th>\n",
       "      <td>Infinix HOT 30i</td>\n",
       "      <td>Marigold</td>\n",
       "      <td>128</td>\n",
       "      <td>8</td>\n",
       "      <td>5000</td>\n",
       "      <td>50MP</td>\n",
       "      <td>5MP</td>\n",
       "      <td>1</td>\n",
       "      <td>16.76</td>\n",
       "      <td>G37</td>\n",
       "      <td>8999</td>\n",
       "    </tr>\n",
       "  </tbody>\n",
       "</table>\n",
       "</div>"
      ],
      "text/plain": [
       "             Model        Colour  Memory  RAM  Battery_ Rear Camera  \\\n",
       "0  Infinix SMART 7   Night Black      64    4      6000        13MP   \n",
       "1  Infinix SMART 7    Azure Blue      64    4      6000        13MP   \n",
       "2     MOTOROLA G32  Mineral Gray     128    8      5000        50MP   \n",
       "3         POCO C50    Royal Blue      32    2      5000         8MP   \n",
       "4  Infinix HOT 30i      Marigold     128    8      5000        50MP   \n",
       "\n",
       "  Front Camera  AI Lens  Mobile Height                  Processor_  Prize  \n",
       "0          5MP        1          16.76  Unisoc Spreadtrum SC9863A1   7299  \n",
       "1          5MP        1          16.76  Unisoc Spreadtrum SC9863A1   7299  \n",
       "2         16MP        0          16.64     Qualcomm Snapdragon 680  11999  \n",
       "3          5MP        0          16.56          Mediatek Helio A22   5649  \n",
       "4          5MP        1          16.76                         G37   8999  "
      ]
     },
     "execution_count": 12,
     "metadata": {},
     "output_type": "execute_result"
    }
   ],
   "source": [
    "Processed_Flipdata.head(5)"
   ]
  },
  {
   "cell_type": "markdown",
   "id": "3c0bafd8",
   "metadata": {},
   "source": [
    "# Convert float column itni int64"
   ]
  },
  {
   "cell_type": "code",
   "execution_count": 13,
   "id": "62a539f8",
   "metadata": {},
   "outputs": [],
   "source": [
    "Processed_Flipdata['Mobile Height'] = Processed_Flipdata['Mobile Height'].astype('int64')"
   ]
  },
  {
   "cell_type": "code",
   "execution_count": 14,
   "id": "8cd916e6",
   "metadata": {},
   "outputs": [],
   "source": [
    "Processed_Flipdata['Front Camera'] = Processed_Flipdata['Front Camera'].apply(lambda x: int(x[:-2]))"
   ]
  },
  {
   "cell_type": "code",
   "execution_count": 15,
   "id": "7789b3e7",
   "metadata": {},
   "outputs": [],
   "source": [
    "Processed_Flipdata['Rear Camera'] = Processed_Flipdata['Rear Camera'].apply(lambda x: int(x[:-2]))"
   ]
  },
  {
   "cell_type": "code",
   "execution_count": 16,
   "id": "bbb4aa70",
   "metadata": {},
   "outputs": [
    {
     "data": {
      "text/html": [
       "<div>\n",
       "<style scoped>\n",
       "    .dataframe tbody tr th:only-of-type {\n",
       "        vertical-align: middle;\n",
       "    }\n",
       "\n",
       "    .dataframe tbody tr th {\n",
       "        vertical-align: top;\n",
       "    }\n",
       "\n",
       "    .dataframe thead th {\n",
       "        text-align: right;\n",
       "    }\n",
       "</style>\n",
       "<table border=\"1\" class=\"dataframe\">\n",
       "  <thead>\n",
       "    <tr style=\"text-align: right;\">\n",
       "      <th></th>\n",
       "      <th>Model</th>\n",
       "      <th>Colour</th>\n",
       "      <th>Memory</th>\n",
       "      <th>RAM</th>\n",
       "      <th>Battery_</th>\n",
       "      <th>Rear Camera</th>\n",
       "      <th>Front Camera</th>\n",
       "      <th>AI Lens</th>\n",
       "      <th>Mobile Height</th>\n",
       "      <th>Processor_</th>\n",
       "      <th>Prize</th>\n",
       "    </tr>\n",
       "  </thead>\n",
       "  <tbody>\n",
       "    <tr>\n",
       "      <th>0</th>\n",
       "      <td>Infinix SMART 7</td>\n",
       "      <td>Night Black</td>\n",
       "      <td>64</td>\n",
       "      <td>4</td>\n",
       "      <td>6000</td>\n",
       "      <td>13</td>\n",
       "      <td>5</td>\n",
       "      <td>1</td>\n",
       "      <td>16</td>\n",
       "      <td>Unisoc Spreadtrum SC9863A1</td>\n",
       "      <td>7299</td>\n",
       "    </tr>\n",
       "    <tr>\n",
       "      <th>1</th>\n",
       "      <td>Infinix SMART 7</td>\n",
       "      <td>Azure Blue</td>\n",
       "      <td>64</td>\n",
       "      <td>4</td>\n",
       "      <td>6000</td>\n",
       "      <td>13</td>\n",
       "      <td>5</td>\n",
       "      <td>1</td>\n",
       "      <td>16</td>\n",
       "      <td>Unisoc Spreadtrum SC9863A1</td>\n",
       "      <td>7299</td>\n",
       "    </tr>\n",
       "    <tr>\n",
       "      <th>2</th>\n",
       "      <td>MOTOROLA G32</td>\n",
       "      <td>Mineral Gray</td>\n",
       "      <td>128</td>\n",
       "      <td>8</td>\n",
       "      <td>5000</td>\n",
       "      <td>50</td>\n",
       "      <td>16</td>\n",
       "      <td>0</td>\n",
       "      <td>16</td>\n",
       "      <td>Qualcomm Snapdragon 680</td>\n",
       "      <td>11999</td>\n",
       "    </tr>\n",
       "    <tr>\n",
       "      <th>3</th>\n",
       "      <td>POCO C50</td>\n",
       "      <td>Royal Blue</td>\n",
       "      <td>32</td>\n",
       "      <td>2</td>\n",
       "      <td>5000</td>\n",
       "      <td>8</td>\n",
       "      <td>5</td>\n",
       "      <td>0</td>\n",
       "      <td>16</td>\n",
       "      <td>Mediatek Helio A22</td>\n",
       "      <td>5649</td>\n",
       "    </tr>\n",
       "    <tr>\n",
       "      <th>4</th>\n",
       "      <td>Infinix HOT 30i</td>\n",
       "      <td>Marigold</td>\n",
       "      <td>128</td>\n",
       "      <td>8</td>\n",
       "      <td>5000</td>\n",
       "      <td>50</td>\n",
       "      <td>5</td>\n",
       "      <td>1</td>\n",
       "      <td>16</td>\n",
       "      <td>G37</td>\n",
       "      <td>8999</td>\n",
       "    </tr>\n",
       "  </tbody>\n",
       "</table>\n",
       "</div>"
      ],
      "text/plain": [
       "             Model        Colour  Memory  RAM  Battery_  Rear Camera  \\\n",
       "0  Infinix SMART 7   Night Black      64    4      6000           13   \n",
       "1  Infinix SMART 7    Azure Blue      64    4      6000           13   \n",
       "2     MOTOROLA G32  Mineral Gray     128    8      5000           50   \n",
       "3         POCO C50    Royal Blue      32    2      5000            8   \n",
       "4  Infinix HOT 30i      Marigold     128    8      5000           50   \n",
       "\n",
       "   Front Camera  AI Lens  Mobile Height                  Processor_  Prize  \n",
       "0             5        1             16  Unisoc Spreadtrum SC9863A1   7299  \n",
       "1             5        1             16  Unisoc Spreadtrum SC9863A1   7299  \n",
       "2            16        0             16     Qualcomm Snapdragon 680  11999  \n",
       "3             5        0             16          Mediatek Helio A22   5649  \n",
       "4             5        1             16                         G37   8999  "
      ]
     },
     "execution_count": 16,
     "metadata": {},
     "output_type": "execute_result"
    }
   ],
   "source": [
    "Processed_Flipdata.head(5)"
   ]
  },
  {
   "cell_type": "markdown",
   "id": "87b282d0",
   "metadata": {},
   "source": [
    "# Handling inconsistencies (manually correcting data)"
   ]
  },
  {
   "cell_type": "markdown",
   "id": "6aaf0a81",
   "metadata": {},
   "source": [
    "# All Black colour category convert into Black"
   ]
  },
  {
   "cell_type": "code",
   "execution_count": 17,
   "id": "eacca227",
   "metadata": {},
   "outputs": [],
   "source": [
    "Processed_Flipdata['Colour'] = Processed_Flipdata['Colour'].replace({'Power Black','Force Black','Midnight Black','Carbon Black','OMG Black','Racing Black','Steller Black','Onyx Black','Phantom Black','Eco Black','Mirror Black ','Stripe Black','Cosmic Black','Glimmer Black','Glowing Black','Astral Black ','Submariner Black','Obsidian Black','Lunar Black','Rocking Black','Stardust Black','Endless Black','Laser Black','Elegant Black','Polar Black','Turbo Black','Space Black','Eclipse Black','Flashy Black','Matte Black','Steel Black','Stealth Black','Stellar Black','Metal Black','Starlight Black','Pure Black','Matte black','Starry Black','CHARCOAL BLACK','Prime Black ','Supersonic Black','Flash Black','Meteor Black','Night Black','Cross Black','Noble Black','Rush Black','Shadow Black','Ink Black','Jaguar Black','Speed Black','SapphireBlack','Prism Black ','Prism Black','Punk Black','Interstellar Black','Astral Black','Prime Black','Mirror Black','Black Engine','Dark Matter','Prime Black','Infinity Black','Rainy Night','Denim Black','Cyber Black','Agate Black'}, 'Black')"
   ]
  },
  {
   "cell_type": "markdown",
   "id": "6449aee8",
   "metadata": {},
   "source": [
    "# All Blue colour category convert into Blue"
   ]
  },
  {
   "cell_type": "code",
   "execution_count": 18,
   "id": "eb61dd88",
   "metadata": {},
   "outputs": [],
   "source": [
    "Processed_Flipdata['Colour'] = Processed_Flipdata['Colour'].replace({'Royal Blue','Cool Blue','Glacier Blue','Aqua Blue','Nebula Blue','Dark Blue','Marine Blue','Light Blue','Horizon Blue','Lake Blue','Pacific Blue','Ice Blue','Electric Blue','Iceberg Blue','Soulful Blue','Arctic Blue','Navy Blue','Wildcat Blue','Speed Blue','Waterfall Blue','Flash Blue','Magic Blue','Sailing Blue','Phantom Blue','Space Blue','Mystique Blue','Frosted Blue','Frost Blue','Icy Blue','Stripe Blue','FLASH BLUE','Laser Blue','Steel Blue','Oxygen Blue','Surfing Blue','Aurora Blue','UYUNI BLUE','Aquamarine Blue','Tuscany Blue','Deep Ocean Blue','Uyuni Blue','Exploratory Blue','Blue Marble','Watery Blue','Luna Blue','Baby Blue','Origin Blue','Metaverse Blue','Prime Blue','Racing Blue','Silk Blue','Midnight Blue','Lavender Blue','Azure Blue','Prism Blue','DawnBlue','Atlantic Blue','Atlantis Blue','Sunrise Blue','Lunar Blue','Sky Blue','Polar Blue'},'Blue')"
   ]
  },
  {
   "cell_type": "markdown",
   "id": "9ace8ff4",
   "metadata": {},
   "source": [
    "# All Green colour category convert into Green"
   ]
  },
  {
   "cell_type": "code",
   "execution_count": 19,
   "id": "8a873f9f",
   "metadata": {},
   "outputs": [],
   "source": [
    "Processed_Flipdata['Colour'] = Processed_Flipdata['Colour'].replace({'Light Green','Olive Green','Aurora Green','Coral Green','Nebula Green','Dark Green','Mint Green','Forest Green','Lightsaber Green','Nightsky Green','Playful Green','Playful Green','Country Green','GOAT Green','Emerald Green','Caribbean Green','Frosted Green','Blaster Green','Supernova Green','Atlantic Green','Olive Green ','Oxygen Green','Glacial Green','Bamboo Green','Opal Green','Light Sea Green'}, 'Green')"
   ]
  },
  {
   "cell_type": "markdown",
   "id": "44e7e9a5",
   "metadata": {},
   "source": [
    "# All Grey colour category convert into Grey"
   ]
  },
  {
   "cell_type": "code",
   "execution_count": 20,
   "id": "9b20c238",
   "metadata": {},
   "outputs": [],
   "source": [
    "Processed_Flipdata['Colour'] = Processed_Flipdata['Colour'].replace({'Meteorite Grey','Meteor Grey','Shadow Gray','Charcoal Grey','Midnight Gray','Mineral Gray','SLATE GREY','Cool Grey','Mithril Grey','Volcanic Grey','Meterorite Grey','Watery Grey','Carbon Gray','Cosmic grey','DEEP GRAY'},'Grey')"
   ]
  },
  {
   "cell_type": "markdown",
   "id": "81d4c491",
   "metadata": {},
   "source": [
    "# All White colour category convert into White"
   ]
  },
  {
   "cell_type": "code",
   "execution_count": 21,
   "id": "ee2b551c",
   "metadata": {},
   "outputs": [],
   "source": [
    "Processed_Flipdata['Colour'] = Processed_Flipdata['Colour'].replace({'Arctic White','Astral White','Snowstorm White','Diamond White','Pearly White','Diamond White','Creamy White','Clash White','Metallic White','Stardust White','Pearl White','Glacier White','Frost White','Halo White ','Starlight White','Paper White','Alpine White','Jade White','Halo White','White Lily','Lucent White','Astral White '}, 'White')"
   ]
  },
  {
   "cell_type": "markdown",
   "id": "caaddaf4",
   "metadata": {},
   "source": [
    "# All Red colour category convert into Red"
   ]
  },
  {
   "cell_type": "code",
   "execution_count": 22,
   "id": "8cbd36a6",
   "metadata": {},
   "outputs": [],
   "source": [
    "Processed_Flipdata['Colour'] = Processed_Flipdata['Colour'].replace({'Dark Red','Flame Red','Scarlet Red'}, 'Red')"
   ]
  },
  {
   "cell_type": "markdown",
   "id": "9cf95e3f",
   "metadata": {},
   "source": [
    "# All Gold colour category convert into Gold"
   ]
  },
  {
   "cell_type": "code",
   "execution_count": 23,
   "id": "14b3028d",
   "metadata": {},
   "outputs": [],
   "source": [
    "Processed_Flipdata['Colour'] = Processed_Flipdata['Colour'].replace({'Drizzling Gold','Sunrise Gold','Sandy Gold','Marigold','Metallica Gold','Solar Gold','Sunshine Gold','Twilight Gold','Dawn Gold ','Aurora Gold','Tahiti Gold'} , 'Gold')"
   ]
  },
  {
   "cell_type": "markdown",
   "id": "c5b3709a",
   "metadata": {},
   "source": [
    "# All Purple colour category convert into purple"
   ]
  },
  {
   "cell_type": "code",
   "execution_count": 24,
   "id": "38213a0c",
   "metadata": {},
   "outputs": [],
   "source": [
    "Processed_Flipdata['Colour'] = Processed_Flipdata['Colour'].replace({'Stardust Purple','Nebula Purple','B.A.E. Purple','Peppy Purple','Fantasy Purple','Jade Purple','Space Purple','7Â° Purple','Starry Purple','Iris Purple'} , 'Purple')"
   ]
  },
  {
   "cell_type": "markdown",
   "id": "bc929848",
   "metadata": {},
   "source": [
    "# All Silver colour category convert into Silver"
   ]
  },
  {
   "cell_type": "code",
   "execution_count": 25,
   "id": "133cbd00",
   "metadata": {},
   "outputs": [],
   "source": [
    "Processed_Flipdata['Colour'] = Processed_Flipdata['Colour'].replace({'Light Silver','Satin Silver','Quick Silver','Blade Silver','Racing Silver','Awesome Silver'} , 'Silver')"
   ]
  },
  {
   "cell_type": "markdown",
   "id": "bf864e0f",
   "metadata": {},
   "source": [
    "# All Orange colour category convert into Orange"
   ]
  },
  {
   "cell_type": "code",
   "execution_count": 26,
   "id": "300e1781",
   "metadata": {},
   "outputs": [],
   "source": [
    "Processed_Flipdata['Colour'] = Processed_Flipdata['Colour'].replace({'Coral Orange','Sunset Orange','Sunlight Orange','Sunrise Orange'} , 'Orange')"
   ]
  },
  {
   "cell_type": "code",
   "execution_count": 27,
   "id": "a10002b9",
   "metadata": {},
   "outputs": [
    {
     "data": {
      "text/plain": [
       "Colour\n",
       "Black           143\n",
       "Blue            132\n",
       "Green            52\n",
       "White            27\n",
       "Grey             21\n",
       "               ... \n",
       "Azure Glow        1\n",
       "Aqua Sky          1\n",
       "Chalk             1\n",
       "Green Apple       1\n",
       "Awesome Lime      1\n",
       "Name: count, Length: 62, dtype: int64"
      ]
     },
     "execution_count": 27,
     "metadata": {},
     "output_type": "execute_result"
    }
   ],
   "source": [
    "Processed_Flipdata['Colour'].value_counts()"
   ]
  },
  {
   "cell_type": "markdown",
   "id": "350c86dc",
   "metadata": {},
   "source": [
    "# All Samsung model category convert into SAMSUNG"
   ]
  },
  {
   "cell_type": "code",
   "execution_count": 28,
   "id": "249c7b29",
   "metadata": {},
   "outputs": [],
   "source": [
    "Processed_Flipdata['Model'] = Processed_Flipdata['Model'].replace({'SAMSUNG Galaxy A14 5G','SAMSUNG Galaxy S22 Plus 5G','SAMSUNG Galaxy Z Flip3 5G','SAMSUNG Galaxy A54 5G','SAMSUNG Galaxy F23 5G','SAMSUNG Galaxy F14 5G','SAMSUNG Galaxy F23 5G ','SAMSUNG Galaxy F13','SAMSUNG Galaxy A34 5G','SAMSUNG Galaxy A23 5G','SAMSUNG Galaxy A23','SAMSUNG Galaxy M04','SAMSUNG Galaxy F04','SAMSUNG M53 5G','SAMSUNG Galaxy A13','SAMSUNG Galaxy A04','SAMSUNG Galaxy A04e','SAMSUNG Galaxy S21 FE 5G','SAMSUNG Galaxy S23 5G'} , 'SAMSUNG')"
   ]
  },
  {
   "cell_type": "markdown",
   "id": "39d1f134",
   "metadata": {},
   "source": [
    "# All vivo model category convert vivo"
   ]
  },
  {
   "cell_type": "code",
   "execution_count": 29,
   "id": "9ca654d6",
   "metadata": {},
   "outputs": [],
   "source": [
    "Processed_Flipdata['Model'] = Processed_Flipdata['Model'].replace({'vivo Y16','vivo T2x 5G','vivo T1 44W','vivo Y100 5G','vivo Y56 5G','vivo T1 Pro 5G','vivo T2 5G','vivo V27 5G','vivo V23 5G','vivo V25 5G','vivo V25 Pro 5G','vivo Y75','vivo Y35','vivo Y565G','vivo Y21T','vivo Y33s','vivo Y12G','vivo Y1s'} , 'vivo')"
   ]
  },
  {
   "cell_type": "markdown",
   "id": "a9011629",
   "metadata": {},
   "source": [
    "# All realme model category convert realme"
   ]
  },
  {
   "cell_type": "code",
   "execution_count": 30,
   "id": "5f029e39",
   "metadata": {},
   "outputs": [],
   "source": [
    "Processed_Flipdata['Model'] = Processed_Flipdata['Model'].replace({'realme C55','realme narzo 50i Prime','realme 9 5G SE','realme C33 2023','realme 10 Pro 5G','realme 9i 5G','realme 10 Pro+ 5G','realme C33','realme C30s','realme C30','realme C31','realme Narzo 50','realme 9 Pro+ 5G','realme Narzo 50i Prime','realme Narzo 50i','realme 10','realme Narzo 30','realme GT 2','realme C35','realme 9 5G','realme Narzo 50A Prime','realme 9i','realme Narzo N55','realme X3 SuperZoom','realme Narzo 50A','realme C25s','realme 8i','realme 8','realme Narzo 30 Pro 5G','realme C11 2021','realme C21Y','realme NARZO 50A PRIME'} , 'realme')"
   ]
  },
  {
   "cell_type": "markdown",
   "id": "1b121b74",
   "metadata": {},
   "source": [
    "# All REDMI model category convert REDMI"
   ]
  },
  {
   "cell_type": "code",
   "execution_count": 31,
   "id": "fba934cf",
   "metadata": {},
   "outputs": [],
   "source": [
    "Processed_Flipdata['Model'] = Processed_Flipdata['Model'].replace({'REDMI Note 12 Pro 5G','REDMI Note 11S','REDMI 10','REDMI Note 12','REDMI K50i 5G','REDMI Note 12 Pro+ 5G','REDMI Note 12 5G','REDMI Note 11T 5G','REDMI 11 Prime','REDMI A1+','REDMI 10A SPORT','Redmi 9A Sport','redmi min','REDMI 9 Activ','redmi max','REDMI Note 9','REDMI 12c','REDMI 9i','REDMI Note 10 Lite','REDMI Note 10S','REDMI 10 Prime 2022','REDMI Note 11','redmi mono','realme narzo 50i Prime'} , 'REDMI')"
   ]
  },
  {
   "cell_type": "markdown",
   "id": "7e8713aa",
   "metadata": {},
   "source": [
    "# All MOTOROLA model category convert MOTOROLA"
   ]
  },
  {
   "cell_type": "code",
   "execution_count": 32,
   "id": "85c96e81",
   "metadata": {},
   "outputs": [],
   "source": [
    "Processed_Flipdata['Model'] = Processed_Flipdata['Model'].replace({'MOTOROLA e13','MOTOROLA G32','MOTOROLA G62 5G','MOTOROLA g52','MOTOROLA g13','MOTOROLA e32','MOTOROLA Edge 40','MOTOROLA g42','MOTOROLA Edge 30 Ultra','MOTOROLA Edge 30','MOTOROLA g31','MOTOROLA Edge 30 Fusion','MOTOROLA g73 5G','MOTOROLA g72','MOTOROLA g82 5G','MOTOROLA e22s','MOTOROLA e40','MOTOROLA G42','MOTOROLA g22'} , 'MOTOROLA')"
   ]
  },
  {
   "cell_type": "markdown",
   "id": "f73c606f",
   "metadata": {},
   "source": [
    "# All POCO model category convert POCO"
   ]
  },
  {
   "cell_type": "code",
   "execution_count": 33,
   "id": "1315bed8",
   "metadata": {},
   "outputs": [],
   "source": [
    "Processed_Flipdata['Model'] = Processed_Flipdata['Model'].replace({'POCO X5 Pro 5G','POCO F5 5G','POCO M5','POCO X5 5G','POCO X4 Pro 5G','POCO C55','POCO C50','POCO M4 5G','POCO C31','POCO M4 Pro','POCO M4 Pro 5G','POCO C51','POCO M3 Pro 5G','POCO F1','POCO X2'} , 'POCO')"
   ]
  },
  {
   "cell_type": "markdown",
   "id": "de173e02",
   "metadata": {},
   "source": [
    "# All OPPO model category convert OPPO"
   ]
  },
  {
   "cell_type": "code",
   "execution_count": 34,
   "id": "ae1ab255",
   "metadata": {},
   "outputs": [],
   "source": [
    "Processed_Flipdata['Model'] = Processed_Flipdata['Model'].replace({'OPPO A17','OPPO A17k','OPPO A77s','OPPO Reno8T 5G','OPPO F21s Pro','OPPO F21 Pro','OPPO A17K','OPPO A78 5G','OPPO A77'} ,'OPPO')"
   ]
  },
  {
   "cell_type": "markdown",
   "id": "91fa316c",
   "metadata": {},
   "source": [
    "# All Infinix model category convert Infinix"
   ]
  },
  {
   "cell_type": "code",
   "execution_count": 35,
   "id": "72fa81be",
   "metadata": {},
   "outputs": [],
   "source": [
    "Processed_Flipdata['Model'] = Processed_Flipdata['Model'].replace({'Infinix HOT 30i','Infinix HOT 20 Play','Infinix Hot 12 Pro','Infinix Hot 12','Infinix Smart 7 HD','Infinix HOT 20 Play ','Infinix Smart 6','Infinix SMART 7','Infinix Zero 5G 2023 TURBO','Infinix Zero 5G 2023','Infinix Smart 6 HD','Infinix HOT 20 5G','Infinix NOTE 12i','Infinix HOT 12 Play','Infinix Hot 11','Infinix Note 12 5G','Infinix Note 12 Pro','Infinix Zero 20','Infinix Note 12 Pro 5G','Infinix Hot 20 5G','Infinix Note 12','Infinix Smart 5A','Infinix Note 11s Free Fire Edition','Infinix Note 11s Free Fire Edition '} , 'Infinix')"
   ]
  },
  {
   "cell_type": "markdown",
   "id": "3ead36e5",
   "metadata": {},
   "source": [
    "# All Micromax model category convert Micromax"
   ]
  },
  {
   "cell_type": "code",
   "execution_count": 36,
   "id": "85e2d862",
   "metadata": {},
   "outputs": [],
   "source": [
    "Processed_Flipdata['Model'] = Processed_Flipdata['Model'].replace({'Micromax IN 2C','micromax 2','micromax 3','micromax 1','Micromax 3','micromax1'} , 'micromax')"
   ]
  },
  {
   "cell_type": "markdown",
   "id": "4ab7cb41",
   "metadata": {},
   "source": [
    "# All Tecno model category convert Tecno"
   ]
  },
  {
   "cell_type": "code",
   "execution_count": 37,
   "id": "96d88c7d",
   "metadata": {},
   "outputs": [],
   "source": [
    "Processed_Flipdata['Model'] = Processed_Flipdata['Model'].replace({'Tecno Spark 9T','Tecno Spark Go 2023 ','Tecno Spark 9','Tecno Pop 5 Pro','Tecno Pova 3','Tecno Spark 8T','Tecno Spark Go 2023'} , 'Tecno')"
   ]
  },
  {
   "cell_type": "markdown",
   "id": "58e9d857",
   "metadata": {},
   "source": [
    "# All Google Pixel model category convert Google Pixel"
   ]
  },
  {
   "cell_type": "code",
   "execution_count": 38,
   "id": "e3b32206",
   "metadata": {},
   "outputs": [],
   "source": [
    "Processed_Flipdata['Model'] = Processed_Flipdata['Model'].replace({'Google Pixel 6a','Google Pixel 7a','Google Pixel 7'} , 'Google Pixel')"
   ]
  },
  {
   "cell_type": "markdown",
   "id": "6c6d956e",
   "metadata": {},
   "source": [
    "# All APPLE model category convert APPLE"
   ]
  },
  {
   "cell_type": "code",
   "execution_count": 39,
   "id": "01abff8a",
   "metadata": {},
   "outputs": [],
   "source": [
    "Processed_Flipdata['Model'] = Processed_Flipdata['Model'].replace({'APPLE iPhone 14 Plus','APPLE iPhone 12','APPLE iPhone 11'} , 'APPLE')"
   ]
  },
  {
   "cell_type": "markdown",
   "id": "5b398425",
   "metadata": {},
   "source": [
    "# All OnePlus model category convert OnePlus"
   ]
  },
  {
   "cell_type": "code",
   "execution_count": 40,
   "id": "d91b9d63",
   "metadata": {},
   "outputs": [],
   "source": [
    "Processed_Flipdata['Model'] = Processed_Flipdata['Model'].replace({'OnePlus Nord 2T 5G ','OnePlus 8','OnePlus Nord','OnePlus Nord 2T 5G'} , 'OnePlus')"
   ]
  },
  {
   "cell_type": "markdown",
   "id": "f8688c3e",
   "metadata": {},
   "source": [
    "# All I Kall model category convert I Kall"
   ]
  },
  {
   "cell_type": "code",
   "execution_count": 41,
   "id": "f228e6c6",
   "metadata": {},
   "outputs": [],
   "source": [
    "Processed_Flipdata['Model'] = Processed_Flipdata['Model'].replace({'I Kall Z19Pro','I Kall Z19Pro Flash blue'} , 'I Kall')"
   ]
  },
  {
   "cell_type": "markdown",
   "id": "7f0c743d",
   "metadata": {},
   "source": [
    "# All Nokia model category convert Nokia"
   ]
  },
  {
   "cell_type": "code",
   "execution_count": 42,
   "id": "353e6932",
   "metadata": {},
   "outputs": [],
   "source": [
    "Processed_Flipdata['Model'] = Processed_Flipdata['Model'].replace({'Nokia G11 Plus','Nokia G11 Plus','Nokia C01 Plus'} , 'Nokia')"
   ]
  },
  {
   "cell_type": "markdown",
   "id": "8165a04f",
   "metadata": {},
   "source": [
    "# All LAVA model category convert LAVA"
   ]
  },
  {
   "cell_type": "code",
   "execution_count": 43,
   "id": "28875829",
   "metadata": {},
   "outputs": [],
   "source": [
    "Processed_Flipdata['Model'] = Processed_Flipdata['Model'].replace({'LAVA Z21','LAVA Z2'} , 'LAVA')"
   ]
  },
  {
   "cell_type": "code",
   "execution_count": 44,
   "id": "23a1afc3",
   "metadata": {},
   "outputs": [
    {
     "data": {
      "text/plain": [
       "Model\n",
       "realme             98\n",
       "REDMI              75\n",
       "Infinix            65\n",
       "vivo               62\n",
       "POCO               60\n",
       "SAMSUNG            55\n",
       "MOTOROLA           46\n",
       "Tecno              17\n",
       "OPPO               16\n",
       "micromax           14\n",
       "Google Pixel        9\n",
       "OnePlus             5\n",
       "APPLE               5\n",
       "itel A60            3\n",
       "Nokia               3\n",
       "nothing phone 1     2\n",
       "I Kall              2\n",
       "IQOO Neo 7 5G       2\n",
       "LAVA                2\n",
       "Name: count, dtype: int64"
      ]
     },
     "execution_count": 44,
     "metadata": {},
     "output_type": "execute_result"
    }
   ],
   "source": [
    "Processed_Flipdata['Model'].value_counts()"
   ]
  },
  {
   "cell_type": "markdown",
   "id": "ccf220bd",
   "metadata": {},
   "source": [
    "# Check outliers"
   ]
  },
  {
   "cell_type": "markdown",
   "id": "4ea03863",
   "metadata": {},
   "source": [
    "# Box plot for target prize column"
   ]
  },
  {
   "cell_type": "code",
   "execution_count": 45,
   "id": "511c91c4",
   "metadata": {},
   "outputs": [
    {
     "data": {
      "image/png": "[encoded data removed]",
      "text/plain": [
       "<Figure size 1000x600 with 1 Axes>"
      ]
     },
     "metadata": {},
     "output_type": "display_data"
    }
   ],
   "source": [
    "plt.figure(figsize=(10, 6))\n",
    "sns.boxplot(data=Processed_Flipdata, y='Prize')\n",
    "plt.ylabel('Prize')\n",
    "plt.title('Box Plot of Prize')\n",
    "plt.show()"
   ]
  },
  {
   "cell_type": "markdown",
   "id": "600ed825",
   "metadata": {},
   "source": [
    "# Kernel Density Estimation for target prize column"
   ]
  },
  {
   "cell_type": "code",
   "execution_count": 46,
   "id": "d0717597",
   "metadata": {},
   "outputs": [
    {
     "data": {
      "image/png": "[encoded data removed]",
      "text/plain": [
       "<Figure size 1000x600 with 1 Axes>"
      ]
     },
     "metadata": {},
     "output_type": "display_data"
    }
   ],
   "source": [
    "plt.figure(figsize=(10, 6))\n",
    "sns.kdeplot(data=Processed_Flipdata['Prize'], shade=True)\n",
    "plt.xlabel('Prize')\n",
    "plt.ylabel('Density')\n",
    "plt.title('Kernel Density Estimation of Prize')\n",
    "plt.show()"
   ]
  },
  {
   "cell_type": "markdown",
   "id": "1b28f5d7",
   "metadata": {},
   "source": [
    "# Remove Outliers"
   ]
  },
  {
   "cell_type": "code",
   "execution_count": 47,
   "id": "e73f2a19",
   "metadata": {},
   "outputs": [],
   "source": [
    "def iqr_technique(DFcolumn):\n",
    "  Q1 = np.percentile(DFcolumn, 25)\n",
    "  Q3 = np.percentile(DFcolumn, 75)\n",
    "  IQR = Q3 - Q1\n",
    "  lower_range = Q1 - (1.5 * IQR)\n",
    "  upper_range = Q3 + (1.5 * IQR)                        \n",
    "\n",
    "  return lower_range,upper_range"
   ]
  },
  {
   "cell_type": "code",
   "execution_count": 48,
   "id": "62719e79",
   "metadata": {},
   "outputs": [],
   "source": [
    "lower_bound,upper_bound = iqr_technique(Processed_Flipdata['Prize'])\n",
    "\n",
    "Processed_Flipdata = Processed_Flipdata[(Processed_Flipdata.Prize>lower_bound) & (Processed_Flipdata.Prize<upper_bound)]"
   ]
  },
  {
   "cell_type": "code",
   "execution_count": 49,
   "id": "9608ffc1",
   "metadata": {},
   "outputs": [
    {
     "data": {
      "image/png": "[encoded data removed]",
      "text/plain": [
       "<Figure size 1000x600 with 1 Axes>"
      ]
     },
     "metadata": {},
     "output_type": "display_data"
    }
   ],
   "source": [
    "plt.figure(figsize=(10, 6))\n",
    "sns.boxplot(data=Processed_Flipdata, y='Prize')\n",
    "plt.ylabel('Prize')\n",
    "plt.title('Box Plot of Prize')\n",
    "plt.show()"
   ]
  },
  {
   "cell_type": "code",
   "execution_count": 50,
   "id": "312d830b",
   "metadata": {
    "scrolled": true
   },
   "outputs": [
    {
     "data": {
      "image/png": "[encoded data removed]",
      "text/plain": [
       "<Figure size 1000x600 with 1 Axes>"
      ]
     },
     "metadata": {},
     "output_type": "display_data"
    }
   ],
   "source": [
    "plt.figure(figsize=(10, 6))\n",
    "sns.kdeplot(data=Processed_Flipdata['Prize'], shade=True)\n",
    "plt.xlabel('Prize')\n",
    "plt.ylabel('Density')\n",
    "plt.title('Kernel Density Estimation of Prize')\n",
    "plt.show()"
   ]
  },
  {
   "cell_type": "code",
   "execution_count": 51,
   "id": "8fdde646",
   "metadata": {},
   "outputs": [
    {
     "data": {
      "text/plain": [
       "(516, 11)"
      ]
     },
     "execution_count": 51,
     "metadata": {},
     "output_type": "execute_result"
    }
   ],
   "source": [
    "Processed_Flipdata.shape"
   ]
  },
  {
   "cell_type": "code",
   "execution_count": 52,
   "id": "95ee068b",
   "metadata": {},
   "outputs": [
    {
     "name": "stdout",
     "output_type": "stream",
     "text": [
      "<class 'pandas.core.frame.DataFrame'>\n",
      "Index: 516 entries, 0 to 540\n",
      "Data columns (total 11 columns):\n",
      " #   Column         Non-Null Count  Dtype \n",
      "---  ------         --------------  ----- \n",
      " 0   Model          516 non-null    object\n",
      " 1   Colour         516 non-null    object\n",
      " 2   Memory         516 non-null    int64 \n",
      " 3   RAM            516 non-null    int64 \n",
      " 4   Battery_       516 non-null    int64 \n",
      " 5   Rear Camera    516 non-null    int64 \n",
      " 6   Front Camera   516 non-null    int64 \n",
      " 7   AI Lens        516 non-null    int64 \n",
      " 8   Mobile Height  516 non-null    int64 \n",
      " 9   Processor_     516 non-null    object\n",
      " 10  Prize          516 non-null    int64 \n",
      "dtypes: int64(8), object(3)\n",
      "memory usage: 48.4+ KB\n"
     ]
    }
   ],
   "source": [
    "Processed_Flipdata.info()"
   ]
  },
  {
   "cell_type": "markdown",
   "id": "6981d2e9",
   "metadata": {},
   "source": [
    "# one hot encoding"
   ]
  },
  {
   "cell_type": "code",
   "execution_count": 53,
   "id": "9b836662",
   "metadata": {},
   "outputs": [],
   "source": [
    "encoding_Processed_Flipdata=pd.get_dummies(Processed_Flipdata, columns= ['Model','Colour','Processor_'],drop_first=True,dtype=int)"
   ]
  },
  {
   "cell_type": "code",
   "execution_count": 54,
   "id": "e4c53265",
   "metadata": {},
   "outputs": [
    {
     "data": {
      "text/html": [
       "<div>\n",
       "<style scoped>\n",
       "    .dataframe tbody tr th:only-of-type {\n",
       "        vertical-align: middle;\n",
       "    }\n",
       "\n",
       "    .dataframe tbody tr th {\n",
       "        vertical-align: top;\n",
       "    }\n",
       "\n",
       "    .dataframe thead th {\n",
       "        text-align: right;\n",
       "    }\n",
       "</style>\n",
       "<table border=\"1\" class=\"dataframe\">\n",
       "  <thead>\n",
       "    <tr style=\"text-align: right;\">\n",
       "      <th></th>\n",
       "      <th>Memory</th>\n",
       "      <th>RAM</th>\n",
       "      <th>Battery_</th>\n",
       "      <th>Rear Camera</th>\n",
       "      <th>Front Camera</th>\n",
       "      <th>AI Lens</th>\n",
       "      <th>Mobile Height</th>\n",
       "      <th>Prize</th>\n",
       "      <th>Model_I Kall</th>\n",
       "      <th>Model_IQOO Neo 7 5G</th>\n",
       "      <th>...</th>\n",
       "      <th>Processor__Unisoc SC9863A/ Unisoc SC9863A1</th>\n",
       "      <th>Processor__Unisoc Spreadtrum SC9863A1</th>\n",
       "      <th>Processor__Unisoc T606</th>\n",
       "      <th>Processor__Unisoc T610</th>\n",
       "      <th>Processor__Unisoc T612</th>\n",
       "      <th>Processor__Unisoc T612 processor</th>\n",
       "      <th>Processor__Unisoc T616</th>\n",
       "      <th>Processor__Unisoc Tiger T612 (12 nm)</th>\n",
       "      <th>Processor__Unisoc Tiger T616</th>\n",
       "      <th>Processor__snapdragon 888</th>\n",
       "    </tr>\n",
       "  </thead>\n",
       "  <tbody>\n",
       "    <tr>\n",
       "      <th>0</th>\n",
       "      <td>64</td>\n",
       "      <td>4</td>\n",
       "      <td>6000</td>\n",
       "      <td>13</td>\n",
       "      <td>5</td>\n",
       "      <td>1</td>\n",
       "      <td>16</td>\n",
       "      <td>7299</td>\n",
       "      <td>0</td>\n",
       "      <td>0</td>\n",
       "      <td>...</td>\n",
       "      <td>0</td>\n",
       "      <td>1</td>\n",
       "      <td>0</td>\n",
       "      <td>0</td>\n",
       "      <td>0</td>\n",
       "      <td>0</td>\n",
       "      <td>0</td>\n",
       "      <td>0</td>\n",
       "      <td>0</td>\n",
       "      <td>0</td>\n",
       "    </tr>\n",
       "    <tr>\n",
       "      <th>1</th>\n",
       "      <td>64</td>\n",
       "      <td>4</td>\n",
       "      <td>6000</td>\n",
       "      <td>13</td>\n",
       "      <td>5</td>\n",
       "      <td>1</td>\n",
       "      <td>16</td>\n",
       "      <td>7299</td>\n",
       "      <td>0</td>\n",
       "      <td>0</td>\n",
       "      <td>...</td>\n",
       "      <td>0</td>\n",
       "      <td>1</td>\n",
       "      <td>0</td>\n",
       "      <td>0</td>\n",
       "      <td>0</td>\n",
       "      <td>0</td>\n",
       "      <td>0</td>\n",
       "      <td>0</td>\n",
       "      <td>0</td>\n",
       "      <td>0</td>\n",
       "    </tr>\n",
       "    <tr>\n",
       "      <th>2</th>\n",
       "      <td>128</td>\n",
       "      <td>8</td>\n",
       "      <td>5000</td>\n",
       "      <td>50</td>\n",
       "      <td>16</td>\n",
       "      <td>0</td>\n",
       "      <td>16</td>\n",
       "      <td>11999</td>\n",
       "      <td>0</td>\n",
       "      <td>0</td>\n",
       "      <td>...</td>\n",
       "      <td>0</td>\n",
       "      <td>0</td>\n",
       "      <td>0</td>\n",
       "      <td>0</td>\n",
       "      <td>0</td>\n",
       "      <td>0</td>\n",
       "      <td>0</td>\n",
       "      <td>0</td>\n",
       "      <td>0</td>\n",
       "      <td>0</td>\n",
       "    </tr>\n",
       "    <tr>\n",
       "      <th>3</th>\n",
       "      <td>32</td>\n",
       "      <td>2</td>\n",
       "      <td>5000</td>\n",
       "      <td>8</td>\n",
       "      <td>5</td>\n",
       "      <td>0</td>\n",
       "      <td>16</td>\n",
       "      <td>5649</td>\n",
       "      <td>0</td>\n",
       "      <td>0</td>\n",
       "      <td>...</td>\n",
       "      <td>0</td>\n",
       "      <td>0</td>\n",
       "      <td>0</td>\n",
       "      <td>0</td>\n",
       "      <td>0</td>\n",
       "      <td>0</td>\n",
       "      <td>0</td>\n",
       "      <td>0</td>\n",
       "      <td>0</td>\n",
       "      <td>0</td>\n",
       "    </tr>\n",
       "    <tr>\n",
       "      <th>4</th>\n",
       "      <td>128</td>\n",
       "      <td>8</td>\n",
       "      <td>5000</td>\n",
       "      <td>50</td>\n",
       "      <td>5</td>\n",
       "      <td>1</td>\n",
       "      <td>16</td>\n",
       "      <td>8999</td>\n",
       "      <td>0</td>\n",
       "      <td>0</td>\n",
       "      <td>...</td>\n",
       "      <td>0</td>\n",
       "      <td>0</td>\n",
       "      <td>0</td>\n",
       "      <td>0</td>\n",
       "      <td>0</td>\n",
       "      <td>0</td>\n",
       "      <td>0</td>\n",
       "      <td>0</td>\n",
       "      <td>0</td>\n",
       "      <td>0</td>\n",
       "    </tr>\n",
       "    <tr>\n",
       "      <th>...</th>\n",
       "      <td>...</td>\n",
       "      <td>...</td>\n",
       "      <td>...</td>\n",
       "      <td>...</td>\n",
       "      <td>...</td>\n",
       "      <td>...</td>\n",
       "      <td>...</td>\n",
       "      <td>...</td>\n",
       "      <td>...</td>\n",
       "      <td>...</td>\n",
       "      <td>...</td>\n",
       "      <td>...</td>\n",
       "      <td>...</td>\n",
       "      <td>...</td>\n",
       "      <td>...</td>\n",
       "      <td>...</td>\n",
       "      <td>...</td>\n",
       "      <td>...</td>\n",
       "      <td>...</td>\n",
       "      <td>...</td>\n",
       "      <td>...</td>\n",
       "    </tr>\n",
       "    <tr>\n",
       "      <th>534</th>\n",
       "      <td>64</td>\n",
       "      <td>4</td>\n",
       "      <td>5000</td>\n",
       "      <td>50</td>\n",
       "      <td>8</td>\n",
       "      <td>0</td>\n",
       "      <td>16</td>\n",
       "      <td>9790</td>\n",
       "      <td>0</td>\n",
       "      <td>0</td>\n",
       "      <td>...</td>\n",
       "      <td>0</td>\n",
       "      <td>0</td>\n",
       "      <td>0</td>\n",
       "      <td>0</td>\n",
       "      <td>0</td>\n",
       "      <td>0</td>\n",
       "      <td>0</td>\n",
       "      <td>0</td>\n",
       "      <td>0</td>\n",
       "      <td>0</td>\n",
       "    </tr>\n",
       "    <tr>\n",
       "      <th>535</th>\n",
       "      <td>64</td>\n",
       "      <td>3</td>\n",
       "      <td>5000</td>\n",
       "      <td>13</td>\n",
       "      <td>5</td>\n",
       "      <td>0</td>\n",
       "      <td>16</td>\n",
       "      <td>9999</td>\n",
       "      <td>0</td>\n",
       "      <td>0</td>\n",
       "      <td>...</td>\n",
       "      <td>0</td>\n",
       "      <td>0</td>\n",
       "      <td>0</td>\n",
       "      <td>0</td>\n",
       "      <td>0</td>\n",
       "      <td>0</td>\n",
       "      <td>0</td>\n",
       "      <td>0</td>\n",
       "      <td>0</td>\n",
       "      <td>0</td>\n",
       "    </tr>\n",
       "    <tr>\n",
       "      <th>537</th>\n",
       "      <td>32</td>\n",
       "      <td>2</td>\n",
       "      <td>3100</td>\n",
       "      <td>5</td>\n",
       "      <td>2</td>\n",
       "      <td>0</td>\n",
       "      <td>12</td>\n",
       "      <td>5998</td>\n",
       "      <td>0</td>\n",
       "      <td>0</td>\n",
       "      <td>...</td>\n",
       "      <td>0</td>\n",
       "      <td>0</td>\n",
       "      <td>0</td>\n",
       "      <td>0</td>\n",
       "      <td>0</td>\n",
       "      <td>0</td>\n",
       "      <td>0</td>\n",
       "      <td>0</td>\n",
       "      <td>0</td>\n",
       "      <td>0</td>\n",
       "    </tr>\n",
       "    <tr>\n",
       "      <th>538</th>\n",
       "      <td>64</td>\n",
       "      <td>4</td>\n",
       "      <td>5000</td>\n",
       "      <td>50</td>\n",
       "      <td>8</td>\n",
       "      <td>0</td>\n",
       "      <td>16</td>\n",
       "      <td>9990</td>\n",
       "      <td>0</td>\n",
       "      <td>0</td>\n",
       "      <td>...</td>\n",
       "      <td>0</td>\n",
       "      <td>0</td>\n",
       "      <td>0</td>\n",
       "      <td>0</td>\n",
       "      <td>0</td>\n",
       "      <td>0</td>\n",
       "      <td>0</td>\n",
       "      <td>0</td>\n",
       "      <td>0</td>\n",
       "      <td>0</td>\n",
       "    </tr>\n",
       "    <tr>\n",
       "      <th>540</th>\n",
       "      <td>128</td>\n",
       "      <td>4</td>\n",
       "      <td>5000</td>\n",
       "      <td>50</td>\n",
       "      <td>8</td>\n",
       "      <td>0</td>\n",
       "      <td>16</td>\n",
       "      <td>15999</td>\n",
       "      <td>0</td>\n",
       "      <td>0</td>\n",
       "      <td>...</td>\n",
       "      <td>0</td>\n",
       "      <td>0</td>\n",
       "      <td>0</td>\n",
       "      <td>0</td>\n",
       "      <td>0</td>\n",
       "      <td>0</td>\n",
       "      <td>0</td>\n",
       "      <td>0</td>\n",
       "      <td>0</td>\n",
       "      <td>0</td>\n",
       "    </tr>\n",
       "  </tbody>\n",
       "</table>\n",
       "<p>516 rows × 187 columns</p>\n",
       "</div>"
      ],
      "text/plain": [
       "     Memory  RAM  Battery_  Rear Camera  Front Camera  AI Lens  Mobile Height  \\\n",
       "0        64    4      6000           13             5        1             16   \n",
       "1        64    4      6000           13             5        1             16   \n",
       "2       128    8      5000           50            16        0             16   \n",
       "3        32    2      5000            8             5        0             16   \n",
       "4       128    8      5000           50             5        1             16   \n",
       "..      ...  ...       ...          ...           ...      ...            ...   \n",
       "534      64    4      5000           50             8        0             16   \n",
       "535      64    3      5000           13             5        0             16   \n",
       "537      32    2      3100            5             2        0             12   \n",
       "538      64    4      5000           50             8        0             16   \n",
       "540     128    4      5000           50             8        0             16   \n",
       "\n",
       "     Prize  Model_I Kall  Model_IQOO Neo 7 5G  ...  \\\n",
       "0     7299             0                    0  ...   \n",
       "1     7299             0                    0  ...   \n",
       "2    11999             0                    0  ...   \n",
       "3     5649             0                    0  ...   \n",
       "4     8999             0                    0  ...   \n",
       "..     ...           ...                  ...  ...   \n",
       "534   9790             0                    0  ...   \n",
       "535   9999             0                    0  ...   \n",
       "537   5998             0                    0  ...   \n",
       "538   9990             0                    0  ...   \n",
       "540  15999             0                    0  ...   \n",
       "\n",
       "     Processor__Unisoc SC9863A/ Unisoc SC9863A1  \\\n",
       "0                                             0   \n",
       "1                                             0   \n",
       "2                                             0   \n",
       "3                                             0   \n",
       "4                                             0   \n",
       "..                                          ...   \n",
       "534                                           0   \n",
       "535                                           0   \n",
       "537                                           0   \n",
       "538                                           0   \n",
       "540                                           0   \n",
       "\n",
       "     Processor__Unisoc Spreadtrum SC9863A1  Processor__Unisoc T606  \\\n",
       "0                                        1                       0   \n",
       "1                                        1                       0   \n",
       "2                                        0                       0   \n",
       "3                                        0                       0   \n",
       "4                                        0                       0   \n",
       "..                                     ...                     ...   \n",
       "534                                      0                       0   \n",
       "535                                      0                       0   \n",
       "537                                      0                       0   \n",
       "538                                      0                       0   \n",
       "540                                      0                       0   \n",
       "\n",
       "     Processor__Unisoc T610  Processor__Unisoc T612  \\\n",
       "0                         0                       0   \n",
       "1                         0                       0   \n",
       "2                         0                       0   \n",
       "3                         0                       0   \n",
       "4                         0                       0   \n",
       "..                      ...                     ...   \n",
       "534                       0                       0   \n",
       "535                       0                       0   \n",
       "537                       0                       0   \n",
       "538                       0                       0   \n",
       "540                       0                       0   \n",
       "\n",
       "     Processor__Unisoc T612 processor  Processor__Unisoc T616  \\\n",
       "0                                   0                       0   \n",
       "1                                   0                       0   \n",
       "2                                   0                       0   \n",
       "3                                   0                       0   \n",
       "4                                   0                       0   \n",
       "..                                ...                     ...   \n",
       "534                                 0                       0   \n",
       "535                                 0                       0   \n",
       "537                                 0                       0   \n",
       "538                                 0                       0   \n",
       "540                                 0                       0   \n",
       "\n",
       "     Processor__Unisoc Tiger T612 (12 nm)  Processor__Unisoc Tiger T616  \\\n",
       "0                                       0                             0   \n",
       "1                                       0                             0   \n",
       "2                                       0                             0   \n",
       "3                                       0                             0   \n",
       "4                                       0                             0   \n",
       "..                                    ...                           ...   \n",
       "534                                     0                             0   \n",
       "535                                     0                             0   \n",
       "537                                     0                             0   \n",
       "538                                     0                             0   \n",
       "540                                     0                             0   \n",
       "\n",
       "     Processor__snapdragon 888  \n",
       "0                            0  \n",
       "1                            0  \n",
       "2                            0  \n",
       "3                            0  \n",
       "4                            0  \n",
       "..                         ...  \n",
       "534                          0  \n",
       "535                          0  \n",
       "537                          0  \n",
       "538                          0  \n",
       "540                          0  \n",
       "\n",
       "[516 rows x 187 columns]"
      ]
     },
     "execution_count": 54,
     "metadata": {},
     "output_type": "execute_result"
    }
   ],
   "source": [
    "encoding_Processed_Flipdata"
   ]
  },
  {
   "cell_type": "markdown",
   "id": "dc483b63",
   "metadata": {},
   "source": [
    "# 3. Feature Extraction:"
   ]
  },
  {
   "cell_type": "markdown",
   "id": "9a41bc6e",
   "metadata": {},
   "source": [
    "# dataset to understand its structure"
   ]
  },
  {
   "cell_type": "markdown",
   "id": "69e3d0be",
   "metadata": {},
   "source": [
    "# Histogram of 'Prize'"
   ]
  },
  {
   "cell_type": "code",
   "execution_count": 55,
   "id": "1a49998d",
   "metadata": {},
   "outputs": [
    {
     "data": {
      "image/png": "[encoded data removed]",
      "text/plain": [
       "<Figure size 640x480 with 1 Axes>"
      ]
     },
     "metadata": {},
     "output_type": "display_data"
    }
   ],
   "source": [
    "plt.hist(encoding_Processed_Flipdata['Prize'], bins=20)\n",
    "plt.xlabel('Prize')\n",
    "plt.ylabel('Frequency')\n",
    "plt.title('Distribution of Prize')\n",
    "plt.show()"
   ]
  },
  {
   "cell_type": "markdown",
   "id": "1baa71dc",
   "metadata": {},
   "source": [
    "# Box plot of 'RAM' vs. 'Prize'"
   ]
  },
  {
   "cell_type": "code",
   "execution_count": 56,
   "id": "ce01f694",
   "metadata": {},
   "outputs": [
    {
     "data": {
      "image/png": "[encoded data removed]",
      "text/plain": [
       "<Figure size 640x480 with 1 Axes>"
      ]
     },
     "metadata": {},
     "output_type": "display_data"
    }
   ],
   "source": [
    "sns.boxplot(x='RAM', y='Prize', data=encoding_Processed_Flipdata)\n",
    "plt.xlabel('RAM')\n",
    "plt.ylabel('Prize')\n",
    "plt.title('RAM vs. Prize')\n",
    "plt.show()"
   ]
  },
  {
   "cell_type": "markdown",
   "id": "89b80a03",
   "metadata": {},
   "source": [
    "# Compute the correlation matrix"
   ]
  },
  {
   "cell_type": "code",
   "execution_count": 57,
   "id": "b22c71da",
   "metadata": {},
   "outputs": [],
   "source": [
    "correlation_matrix = encoding_Processed_Flipdata.corr()"
   ]
  },
  {
   "cell_type": "code",
   "execution_count": 58,
   "id": "1d75ea62",
   "metadata": {},
   "outputs": [],
   "source": [
    "correlation_with_target = correlation_matrix['Prize'].abs().sort_values(ascending=False)"
   ]
  },
  {
   "cell_type": "markdown",
   "id": "14ced19e",
   "metadata": {},
   "source": [
    "# Select features with correlation above a threshold (e.g., 0.5)"
   ]
  },
  {
   "cell_type": "code",
   "execution_count": 59,
   "id": "631f1725",
   "metadata": {},
   "outputs": [],
   "source": [
    "highly_correlated_features = correlation_with_target[correlation_with_target > 0.5].index.tolist()"
   ]
  },
  {
   "cell_type": "code",
   "execution_count": 60,
   "id": "942ff7b9",
   "metadata": {},
   "outputs": [
    {
     "data": {
      "text/plain": [
       "['Prize', 'Memory', 'Front Camera', 'RAM', 'Rear Camera']"
      ]
     },
     "execution_count": 60,
     "metadata": {},
     "output_type": "execute_result"
    }
   ],
   "source": [
    "highly_correlated_features"
   ]
  },
  {
   "cell_type": "markdown",
   "id": "884e2d4d",
   "metadata": {},
   "source": [
    "# Feature Importance"
   ]
  },
  {
   "cell_type": "markdown",
   "id": "90625092",
   "metadata": {},
   "source": [
    "# For Random Forest:"
   ]
  },
  {
   "cell_type": "code",
   "execution_count": 61,
   "id": "7283b0fc",
   "metadata": {},
   "outputs": [],
   "source": [
    "from sklearn.ensemble import RandomForestRegressor"
   ]
  },
  {
   "cell_type": "markdown",
   "id": "99a0bc53",
   "metadata": {},
   "source": [
    "# Separate features and target variable"
   ]
  },
  {
   "cell_type": "code",
   "execution_count": 62,
   "id": "c90f14f2",
   "metadata": {},
   "outputs": [],
   "source": [
    "X = encoding_Processed_Flipdata.drop('Prize', axis=1)\n",
    "y = encoding_Processed_Flipdata['Prize']"
   ]
  },
  {
   "cell_type": "code",
   "execution_count": 63,
   "id": "3fd47121",
   "metadata": {},
   "outputs": [],
   "source": [
    "rf_model = RandomForestRegressor()"
   ]
  },
  {
   "cell_type": "code",
   "execution_count": 64,
   "id": "47df97cf",
   "metadata": {},
   "outputs": [
    {
     "data": {
      "text/html": [
       "<style>#sk-container-id-1 {color: black;}#sk-container-id-1 pre{padding: 0;}#sk-container-id-1 div.sk-toggleable {background-color: white;}#sk-container-id-1 label.sk-toggleable__label {cursor: pointer;display: block;width: 100%;margin-bottom: 0;padding: 0.3em;box-sizing: border-box;text-align: center;}#sk-container-id-1 label.sk-toggleable__label-arrow:before {content: \"▸\";float: left;margin-right: 0.25em;color: #696969;}#sk-container-id-1 label.sk-toggleable__label-arrow:hover:before {color: black;}#sk-container-id-1 div.sk-estimator:hover label.sk-toggleable__label-arrow:before {color: black;}#sk-container-id-1 div.sk-toggleable__content {max-height: 0;max-width: 0;overflow: hidden;text-align: left;background-color: #f0f8ff;}#sk-container-id-1 div.sk-toggleable__content pre {margin: 0.2em;color: black;border-radius: 0.25em;background-color: #f0f8ff;}#sk-container-id-1 input.sk-toggleable__control:checked~div.sk-toggleable__content {max-height: 200px;max-width: 100%;overflow: auto;}#sk-container-id-1 input.sk-toggleable__control:checked~label.sk-toggleable__label-arrow:before {content: \"▾\";}#sk-container-id-1 div.sk-estimator input.sk-toggleable__control:checked~label.sk-toggleable__label {background-color: #d4ebff;}#sk-container-id-1 div.sk-label input.sk-toggleable__control:checked~label.sk-toggleable__label {background-color: #d4ebff;}#sk-container-id-1 input.sk-hidden--visually {border: 0;clip: rect(1px 1px 1px 1px);clip: rect(1px, 1px, 1px, 1px);height: 1px;margin: -1px;overflow: hidden;padding: 0;position: absolute;width: 1px;}#sk-container-id-1 div.sk-estimator {font-family: monospace;background-color: #f0f8ff;border: 1px dotted black;border-radius: 0.25em;box-sizing: border-box;margin-bottom: 0.5em;}#sk-container-id-1 div.sk-estimator:hover {background-color: #d4ebff;}#sk-container-id-1 div.sk-parallel-item::after {content: \"\";width: 100%;border-bottom: 1px solid gray;flex-grow: 1;}#sk-container-id-1 div.sk-label:hover label.sk-toggleable__label {background-color: #d4ebff;}#sk-container-id-1 div.sk-serial::before {content: \"\";position: absolute;border-left: 1px solid gray;box-sizing: border-box;top: 0;bottom: 0;left: 50%;z-index: 0;}#sk-container-id-1 div.sk-serial {display: flex;flex-direction: column;align-items: center;background-color: white;padding-right: 0.2em;padding-left: 0.2em;position: relative;}#sk-container-id-1 div.sk-item {position: relative;z-index: 1;}#sk-container-id-1 div.sk-parallel {display: flex;align-items: stretch;justify-content: center;background-color: white;position: relative;}#sk-container-id-1 div.sk-item::before, #sk-container-id-1 div.sk-parallel-item::before {content: \"\";position: absolute;border-left: 1px solid gray;box-sizing: border-box;top: 0;bottom: 0;left: 50%;z-index: -1;}#sk-container-id-1 div.sk-parallel-item {display: flex;flex-direction: column;z-index: 1;position: relative;background-color: white;}#sk-container-id-1 div.sk-parallel-item:first-child::after {align-self: flex-end;width: 50%;}#sk-container-id-1 div.sk-parallel-item:last-child::after {align-self: flex-start;width: 50%;}#sk-container-id-1 div.sk-parallel-item:only-child::after {width: 0;}#sk-container-id-1 div.sk-dashed-wrapped {border: 1px dashed gray;margin: 0 0.4em 0.5em 0.4em;box-sizing: border-box;padding-bottom: 0.4em;background-color: white;}#sk-container-id-1 div.sk-label label {font-family: monospace;font-weight: bold;display: inline-block;line-height: 1.2em;}#sk-container-id-1 div.sk-label-container {text-align: center;}#sk-container-id-1 div.sk-container {/* jupyter's `normalize.less` sets `[hidden] { display: none; }` but bootstrap.min.css set `[hidden] { display: none !important; }` so we also need the `!important` here to be able to override the default hidden behavior on the sphinx rendered scikit-learn.org. See: https://github.com/scikit-learn/scikit-learn/issues/21755 */display: inline-block !important;position: relative;}#sk-container-id-1 div.sk-text-repr-fallback {display: none;}</style><div id=\"sk-container-id-1\" class=\"sk-top-container\"><div class=\"sk-text-repr-fallback\"><pre>RandomForestRegressor()</pre><b>In a Jupyter environment, please rerun this cell to show the HTML representation or trust the notebook. <br />On GitHub, the HTML representation is unable to render, please try loading this page with nbviewer.org.</b></div><div class=\"sk-container\" hidden><div class=\"sk-item\"><div class=\"sk-estimator sk-toggleable\"><input class=\"sk-toggleable__control sk-hidden--visually\" id=\"sk-estimator-id-1\" type=\"checkbox\" checked><label for=\"sk-estimator-id-1\" class=\"sk-toggleable__label sk-toggleable__label-arrow\">RandomForestRegressor</label><div class=\"sk-toggleable__content\"><pre>RandomForestRegressor()</pre></div></div></div></div></div>"
      ],
      "text/plain": [
       "RandomForestRegressor()"
      ]
     },
     "execution_count": 64,
     "metadata": {},
     "output_type": "execute_result"
    }
   ],
   "source": [
    "rf_model.fit(X, y)"
   ]
  },
  {
   "cell_type": "code",
   "execution_count": 65,
   "id": "dd485cbd",
   "metadata": {},
   "outputs": [],
   "source": [
    "feature_importances = rf_model.feature_importances_"
   ]
  },
  {
   "cell_type": "code",
   "execution_count": 66,
   "id": "455ce740",
   "metadata": {},
   "outputs": [],
   "source": [
    "important_features_rf = X.columns[feature_importances > 0.01]"
   ]
  },
  {
   "cell_type": "code",
   "execution_count": 67,
   "id": "a43aab5a",
   "metadata": {},
   "outputs": [
    {
     "data": {
      "text/plain": [
       "Index(['Memory', 'RAM', 'Battery_', 'Rear Camera', 'Front Camera',\n",
       "       'Mobile Height', 'Processor__Dimensity 1080, Octa Core ',\n",
       "       'Processor__Mediatek Dimensity 1080'],\n",
       "      dtype='object')"
      ]
     },
     "execution_count": 67,
     "metadata": {},
     "output_type": "execute_result"
    }
   ],
   "source": [
    "important_features_rf"
   ]
  },
  {
   "cell_type": "markdown",
   "id": "6077393a",
   "metadata": {},
   "source": [
    "# For Gradient Boosting:"
   ]
  },
  {
   "cell_type": "code",
   "execution_count": 68,
   "id": "6238a6ca",
   "metadata": {},
   "outputs": [],
   "source": [
    "from sklearn.ensemble import GradientBoostingRegressor"
   ]
  },
  {
   "cell_type": "code",
   "execution_count": 69,
   "id": "3d1aa264",
   "metadata": {},
   "outputs": [],
   "source": [
    "gb_model = GradientBoostingRegressor()"
   ]
  },
  {
   "cell_type": "code",
   "execution_count": 70,
   "id": "133e7462",
   "metadata": {},
   "outputs": [
    {
     "data": {
      "text/html": [
       "<style>#sk-container-id-2 {color: black;}#sk-container-id-2 pre{padding: 0;}#sk-container-id-2 div.sk-toggleable {background-color: white;}#sk-container-id-2 label.sk-toggleable__label {cursor: pointer;display: block;width: 100%;margin-bottom: 0;padding: 0.3em;box-sizing: border-box;text-align: center;}#sk-container-id-2 label.sk-toggleable__label-arrow:before {content: \"▸\";float: left;margin-right: 0.25em;color: #696969;}#sk-container-id-2 label.sk-toggleable__label-arrow:hover:before {color: black;}#sk-container-id-2 div.sk-estimator:hover label.sk-toggleable__label-arrow:before {color: black;}#sk-container-id-2 div.sk-toggleable__content {max-height: 0;max-width: 0;overflow: hidden;text-align: left;background-color: #f0f8ff;}#sk-container-id-2 div.sk-toggleable__content pre {margin: 0.2em;color: black;border-radius: 0.25em;background-color: #f0f8ff;}#sk-container-id-2 input.sk-toggleable__control:checked~div.sk-toggleable__content {max-height: 200px;max-width: 100%;overflow: auto;}#sk-container-id-2 input.sk-toggleable__control:checked~label.sk-toggleable__label-arrow:before {content: \"▾\";}#sk-container-id-2 div.sk-estimator input.sk-toggleable__control:checked~label.sk-toggleable__label {background-color: #d4ebff;}#sk-container-id-2 div.sk-label input.sk-toggleable__control:checked~label.sk-toggleable__label {background-color: #d4ebff;}#sk-container-id-2 input.sk-hidden--visually {border: 0;clip: rect(1px 1px 1px 1px);clip: rect(1px, 1px, 1px, 1px);height: 1px;margin: -1px;overflow: hidden;padding: 0;position: absolute;width: 1px;}#sk-container-id-2 div.sk-estimator {font-family: monospace;background-color: #f0f8ff;border: 1px dotted black;border-radius: 0.25em;box-sizing: border-box;margin-bottom: 0.5em;}#sk-container-id-2 div.sk-estimator:hover {background-color: #d4ebff;}#sk-container-id-2 div.sk-parallel-item::after {content: \"\";width: 100%;border-bottom: 1px solid gray;flex-grow: 1;}#sk-container-id-2 div.sk-label:hover label.sk-toggleable__label {background-color: #d4ebff;}#sk-container-id-2 div.sk-serial::before {content: \"\";position: absolute;border-left: 1px solid gray;box-sizing: border-box;top: 0;bottom: 0;left: 50%;z-index: 0;}#sk-container-id-2 div.sk-serial {display: flex;flex-direction: column;align-items: center;background-color: white;padding-right: 0.2em;padding-left: 0.2em;position: relative;}#sk-container-id-2 div.sk-item {position: relative;z-index: 1;}#sk-container-id-2 div.sk-parallel {display: flex;align-items: stretch;justify-content: center;background-color: white;position: relative;}#sk-container-id-2 div.sk-item::before, #sk-container-id-2 div.sk-parallel-item::before {content: \"\";position: absolute;border-left: 1px solid gray;box-sizing: border-box;top: 0;bottom: 0;left: 50%;z-index: -1;}#sk-container-id-2 div.sk-parallel-item {display: flex;flex-direction: column;z-index: 1;position: relative;background-color: white;}#sk-container-id-2 div.sk-parallel-item:first-child::after {align-self: flex-end;width: 50%;}#sk-container-id-2 div.sk-parallel-item:last-child::after {align-self: flex-start;width: 50%;}#sk-container-id-2 div.sk-parallel-item:only-child::after {width: 0;}#sk-container-id-2 div.sk-dashed-wrapped {border: 1px dashed gray;margin: 0 0.4em 0.5em 0.4em;box-sizing: border-box;padding-bottom: 0.4em;background-color: white;}#sk-container-id-2 div.sk-label label {font-family: monospace;font-weight: bold;display: inline-block;line-height: 1.2em;}#sk-container-id-2 div.sk-label-container {text-align: center;}#sk-container-id-2 div.sk-container {/* jupyter's `normalize.less` sets `[hidden] { display: none; }` but bootstrap.min.css set `[hidden] { display: none !important; }` so we also need the `!important` here to be able to override the default hidden behavior on the sphinx rendered scikit-learn.org. See: https://github.com/scikit-learn/scikit-learn/issues/21755 */display: inline-block !important;position: relative;}#sk-container-id-2 div.sk-text-repr-fallback {display: none;}</style><div id=\"sk-container-id-2\" class=\"sk-top-container\"><div class=\"sk-text-repr-fallback\"><pre>GradientBoostingRegressor()</pre><b>In a Jupyter environment, please rerun this cell to show the HTML representation or trust the notebook. <br />On GitHub, the HTML representation is unable to render, please try loading this page with nbviewer.org.</b></div><div class=\"sk-container\" hidden><div class=\"sk-item\"><div class=\"sk-estimator sk-toggleable\"><input class=\"sk-toggleable__control sk-hidden--visually\" id=\"sk-estimator-id-2\" type=\"checkbox\" checked><label for=\"sk-estimator-id-2\" class=\"sk-toggleable__label sk-toggleable__label-arrow\">GradientBoostingRegressor</label><div class=\"sk-toggleable__content\"><pre>GradientBoostingRegressor()</pre></div></div></div></div></div>"
      ],
      "text/plain": [
       "GradientBoostingRegressor()"
      ]
     },
     "execution_count": 70,
     "metadata": {},
     "output_type": "execute_result"
    }
   ],
   "source": [
    "gb_model.fit(X, y)"
   ]
  },
  {
   "cell_type": "code",
   "execution_count": 71,
   "id": "002a637e",
   "metadata": {},
   "outputs": [],
   "source": [
    "feature_importances = gb_model.feature_importances_"
   ]
  },
  {
   "cell_type": "code",
   "execution_count": 72,
   "id": "0cfa2f46",
   "metadata": {},
   "outputs": [],
   "source": [
    "important_features_gb = X.columns[feature_importances > 0.01]"
   ]
  },
  {
   "cell_type": "code",
   "execution_count": 73,
   "id": "f076bb26",
   "metadata": {},
   "outputs": [
    {
     "data": {
      "text/plain": [
       "Index(['Memory', 'RAM', 'Battery_', 'Rear Camera', 'Front Camera',\n",
       "       'Mobile Height', 'Model_Infinix',\n",
       "       'Processor__Dimensity 1080, Octa Core ', 'Processor__Google Tensor',\n",
       "       'Processor__Mediatek Dimensity 1080',\n",
       "       'Processor__Qualcomm Snapdragon 7+ Gen 2 (4nm)'],\n",
       "      dtype='object')"
      ]
     },
     "execution_count": 73,
     "metadata": {},
     "output_type": "execute_result"
    }
   ],
   "source": [
    "important_features_gb"
   ]
  },
  {
   "cell_type": "markdown",
   "id": "dbf72b6f",
   "metadata": {},
   "source": [
    "# Standardize the Data:"
   ]
  },
  {
   "cell_type": "code",
   "execution_count": 74,
   "id": "822b051c",
   "metadata": {},
   "outputs": [],
   "source": [
    "from sklearn.preprocessing import StandardScaler"
   ]
  },
  {
   "cell_type": "code",
   "execution_count": 75,
   "id": "dba4d8b1",
   "metadata": {},
   "outputs": [],
   "source": [
    "scaler = StandardScaler()\n",
    "X_scaled = scaler.fit_transform(X)"
   ]
  },
  {
   "cell_type": "markdown",
   "id": "785ce444",
   "metadata": {},
   "source": [
    "# Apply PCA:"
   ]
  },
  {
   "cell_type": "code",
   "execution_count": 76,
   "id": "d6df439b",
   "metadata": {},
   "outputs": [],
   "source": [
    "from sklearn.decomposition import PCA"
   ]
  },
  {
   "cell_type": "code",
   "execution_count": 77,
   "id": "1b65aeb2",
   "metadata": {},
   "outputs": [],
   "source": [
    "n_components = 5\n",
    "pca = PCA(n_components=n_components)\n",
    "X_pca = pca.fit_transform(X_scaled)"
   ]
  },
  {
   "cell_type": "code",
   "execution_count": 78,
   "id": "544d801e",
   "metadata": {},
   "outputs": [
    {
     "data": {
      "text/plain": [
       "array([[ 1.43155432, -3.5432497 ,  3.60460645, -2.61266321,  0.15004776],\n",
       "       [ 1.49728392, -3.66098733,  3.59121065, -2.46137598,  0.12246701],\n",
       "       [-1.40000402,  0.43117413, -0.42047081,  0.28426701, -0.64675352],\n",
       "       ...,\n",
       "       [ 6.10446619,  1.11831363, -1.18178806,  1.60688003, -0.97639697],\n",
       "       [ 1.82232253, -2.32379313, -0.68903073,  1.95408808, -0.52554371],\n",
       "       [ 0.38412985, -0.4211764 , -0.30669509,  0.43046972, -0.12722666]])"
      ]
     },
     "execution_count": 78,
     "metadata": {},
     "output_type": "execute_result"
    }
   ],
   "source": [
    "X_pca"
   ]
  },
  {
   "cell_type": "markdown",
   "id": "4634457d",
   "metadata": {},
   "source": [
    "# Explained Variance Ratio:"
   ]
  },
  {
   "cell_type": "code",
   "execution_count": 79,
   "id": "37c768fe",
   "metadata": {},
   "outputs": [
    {
     "name": "stdout",
     "output_type": "stream",
     "text": [
      "Explained Variance Ratio: [0.02239391 0.01876612 0.01474552 0.01455113 0.01371495]\n"
     ]
    }
   ],
   "source": [
    "explained_variance_ratio = pca.explained_variance_ratio_\n",
    "print(\"Explained Variance Ratio:\", explained_variance_ratio)"
   ]
  },
  {
   "cell_type": "markdown",
   "id": "9d67aca6",
   "metadata": {},
   "source": [
    "# Selecting Number of Components:"
   ]
  },
  {
   "cell_type": "code",
   "execution_count": 80,
   "id": "2886d53b",
   "metadata": {},
   "outputs": [
    {
     "data": {
      "image/png": "[encoded data removed]",
      "text/plain": [
       "<Figure size 640x480 with 1 Axes>"
      ]
     },
     "metadata": {},
     "output_type": "display_data"
    }
   ],
   "source": [
    "cumulative_variance_ratio = np.cumsum(explained_variance_ratio)\n",
    "plt.plot(range(1, len(cumulative_variance_ratio)+1), cumulative_variance_ratio, marker='o')\n",
    "plt.xlabel('Number of Components')\n",
    "plt.ylabel('Cumulative Explained Variance Ratio')\n",
    "plt.title('PCA: Cumulative Explained Variance Ratio')\n",
    "plt.show()"
   ]
  },
  {
   "cell_type": "markdown",
   "id": "fb7af981",
   "metadata": {},
   "source": [
    "# Visualization:"
   ]
  },
  {
   "cell_type": "markdown",
   "id": "da88e7c5",
   "metadata": {},
   "source": [
    "# Scatter Plot:"
   ]
  },
  {
   "cell_type": "code",
   "execution_count": 81,
   "id": "7e3ee965",
   "metadata": {},
   "outputs": [
    {
     "data": {
      "image/png": "[encoded data removed]",
      "text/plain": [
       "<Figure size 1000x600 with 1 Axes>"
      ]
     },
     "metadata": {},
     "output_type": "display_data"
    }
   ],
   "source": [
    "plt.figure(figsize=(10, 6))\n",
    "sns.scatterplot(x='RAM', y='Prize', data=encoding_Processed_Flipdata)\n",
    "plt.xlabel('RAM')\n",
    "plt.ylabel('Prize')\n",
    "plt.title('Scatter Plot of RAM vs. Prize')\n",
    "plt.show()"
   ]
  },
  {
   "cell_type": "markdown",
   "id": "8536cd51",
   "metadata": {},
   "source": [
    "# Histogram:"
   ]
  },
  {
   "cell_type": "code",
   "execution_count": 82,
   "id": "ef4841bd",
   "metadata": {},
   "outputs": [
    {
     "data": {
      "image/png": "[encoded data removed]",
      "text/plain": [
       "<Figure size 1000x600 with 1 Axes>"
      ]
     },
     "metadata": {},
     "output_type": "display_data"
    }
   ],
   "source": [
    "plt.figure(figsize=(10, 6))\n",
    "sns.histplot(encoding_Processed_Flipdata['Prize'], bins=20, kde=True)\n",
    "plt.xlabel('Prize')\n",
    "plt.ylabel('Frequency')\n",
    "plt.title('Histogram of Prize')\n",
    "plt.show()"
   ]
  },
  {
   "cell_type": "markdown",
   "id": "6b77ee09",
   "metadata": {},
   "source": [
    "# Box Plot:"
   ]
  },
  {
   "cell_type": "code",
   "execution_count": 83,
   "id": "401d731c",
   "metadata": {},
   "outputs": [
    {
     "data": {
      "image/png": "[encoded data removed]",
      "text/plain": [
       "<Figure size 1000x600 with 1 Axes>"
      ]
     },
     "metadata": {},
     "output_type": "display_data"
    }
   ],
   "source": [
    "plt.figure(figsize=(10, 6))\n",
    "sns.boxplot(x='Memory', y='RAM', data=encoding_Processed_Flipdata)\n",
    "plt.xlabel('Memory')\n",
    "plt.ylabel('RAM')\n",
    "plt.title('Box Plot of RAM across Memory')\n",
    "plt.show()"
   ]
  },
  {
   "cell_type": "markdown",
   "id": "19a73f1c",
   "metadata": {},
   "source": [
    "# Statistical Methods:"
   ]
  },
  {
   "cell_type": "markdown",
   "id": "bf0bc4e3",
   "metadata": {},
   "source": [
    "# T-Test:"
   ]
  },
  {
   "cell_type": "code",
   "execution_count": 84,
   "id": "4a6be503",
   "metadata": {},
   "outputs": [],
   "source": [
    "from scipy.stats import ttest_ind"
   ]
  },
  {
   "cell_type": "code",
   "execution_count": 85,
   "id": "3423e599",
   "metadata": {},
   "outputs": [],
   "source": [
    "group1 = Processed_Flipdata[Processed_Flipdata['Colour'] == 'Blue']['Prize']\n",
    "group2 = Processed_Flipdata[Processed_Flipdata['Colour'] == 'Red']['Prize']"
   ]
  },
  {
   "cell_type": "code",
   "execution_count": 86,
   "id": "443944e4",
   "metadata": {},
   "outputs": [
    {
     "name": "stdout",
     "output_type": "stream",
     "text": [
      "T-Statistic: -0.4766430558338535\n",
      "P-Value: 0.6344104165131427\n"
     ]
    }
   ],
   "source": [
    "t_statistic, p_value = ttest_ind(group1, group2)\n",
    "print(\"T-Statistic:\", t_statistic)\n",
    "print(\"P-Value:\", p_value)"
   ]
  },
  {
   "cell_type": "markdown",
   "id": "94703cff",
   "metadata": {},
   "source": [
    "# ANOVA (Analysis of Variance):"
   ]
  },
  {
   "cell_type": "code",
   "execution_count": 87,
   "id": "d47fbdeb",
   "metadata": {},
   "outputs": [],
   "source": [
    "from scipy.stats import f_oneway"
   ]
  },
  {
   "cell_type": "code",
   "execution_count": 88,
   "id": "7acbc8f1",
   "metadata": {},
   "outputs": [
    {
     "name": "stdout",
     "output_type": "stream",
     "text": [
      "F-Statistic: 2.1197578369768504\n",
      "P-Value: 2.4520352207202357e-05\n"
     ]
    }
   ],
   "source": [
    "groups = [Processed_Flipdata[Processed_Flipdata['Colour'] == colour]['Prize'] for colour in Processed_Flipdata['Colour'].unique()]\n",
    "\n",
    "f_statistic, p_value = f_oneway(*groups)\n",
    "print(\"F-Statistic:\", f_statistic)\n",
    "print(\"P-Value:\", p_value)"
   ]
  },
  {
   "cell_type": "markdown",
   "id": "c1b2769c",
   "metadata": {},
   "source": [
    "# Select Relevant Features:"
   ]
  },
  {
   "cell_type": "code",
   "execution_count": 89,
   "id": "ed2bd098",
   "metadata": {},
   "outputs": [
    {
     "data": {
      "text/plain": [
       "['Prize', 'Memory', 'Front Camera', 'RAM', 'Rear Camera']"
      ]
     },
     "execution_count": 89,
     "metadata": {},
     "output_type": "execute_result"
    }
   ],
   "source": [
    "highly_correlated_features"
   ]
  },
  {
   "cell_type": "markdown",
   "id": "d8b907a0",
   "metadata": {},
   "source": [
    "# Random Forest to identify important features."
   ]
  },
  {
   "cell_type": "code",
   "execution_count": 90,
   "id": "00591534",
   "metadata": {},
   "outputs": [
    {
     "data": {
      "text/plain": [
       "Index(['Memory', 'RAM', 'Battery_', 'Rear Camera', 'Front Camera',\n",
       "       'Mobile Height', 'Processor__Dimensity 1080, Octa Core ',\n",
       "       'Processor__Mediatek Dimensity 1080'],\n",
       "      dtype='object')"
      ]
     },
     "execution_count": 90,
     "metadata": {},
     "output_type": "execute_result"
    }
   ],
   "source": [
    "important_features_rf"
   ]
  },
  {
   "cell_type": "markdown",
   "id": "62375afb",
   "metadata": {},
   "source": [
    "# Combine Relevant Features:"
   ]
  },
  {
   "cell_type": "code",
   "execution_count": 91,
   "id": "e6556df5",
   "metadata": {},
   "outputs": [],
   "source": [
    "highly_correlated_features_set = set(highly_correlated_features)\n",
    "important_features_rf_set = set(important_features_rf)"
   ]
  },
  {
   "cell_type": "code",
   "execution_count": 92,
   "id": "d3aa7f14",
   "metadata": {},
   "outputs": [],
   "source": [
    "relevant_features_set = highly_correlated_features_set.union(important_features_rf_set)"
   ]
  },
  {
   "cell_type": "code",
   "execution_count": 93,
   "id": "17b5f95b",
   "metadata": {},
   "outputs": [],
   "source": [
    "relevant_features = list(relevant_features_set)"
   ]
  },
  {
   "cell_type": "code",
   "execution_count": 94,
   "id": "518df80f",
   "metadata": {},
   "outputs": [
    {
     "data": {
      "text/plain": [
       "['Prize',\n",
       " 'Rear Camera',\n",
       " 'Processor__Dimensity 1080, Octa Core ',\n",
       " 'Memory',\n",
       " 'RAM',\n",
       " 'Mobile Height',\n",
       " 'Processor__Mediatek Dimensity 1080',\n",
       " 'Front Camera',\n",
       " 'Battery_']"
      ]
     },
     "execution_count": 94,
     "metadata": {},
     "output_type": "execute_result"
    }
   ],
   "source": [
    "relevant_features"
   ]
  },
  {
   "cell_type": "markdown",
   "id": "1d8e0e3f",
   "metadata": {},
   "source": [
    "# 4. Model Building:"
   ]
  },
  {
   "cell_type": "markdown",
   "id": "274d1d0d",
   "metadata": {},
   "source": [
    "# Split the Dataset:"
   ]
  },
  {
   "cell_type": "code",
   "execution_count": 95,
   "id": "5bff4c3d",
   "metadata": {},
   "outputs": [],
   "source": [
    "from sklearn.model_selection import train_test_split"
   ]
  },
  {
   "cell_type": "code",
   "execution_count": 96,
   "id": "dc787025",
   "metadata": {},
   "outputs": [],
   "source": [
    "X = encoding_Processed_Flipdata[['RAM',\n",
    " 'Rear Camera',\n",
    " 'Processor__Qualcomm Snapdragon 7+ Gen 2 (4nm)',\n",
    " 'Processor__Mediatek Dimensity 1080',\n",
    " 'Processor__Dimensity 1080, Octa Core ',\n",
    " 'Front Camera',\n",
    " 'Memory',\n",
    " 'Mobile Height',\n",
    " 'Battery_']]\n",
    "Y = encoding_Processed_Flipdata['Prize']"
   ]
  },
  {
   "cell_type": "code",
   "execution_count": 97,
   "id": "ce17d225",
   "metadata": {},
   "outputs": [],
   "source": [
    "X_train, X_test, Y_train, Y_test = train_test_split(X, Y, test_size=0.2, random_state=42)"
   ]
  },
  {
   "cell_type": "code",
   "execution_count": 98,
   "id": "ec36b023",
   "metadata": {},
   "outputs": [
    {
     "data": {
      "text/html": [
       "<div>\n",
       "<style scoped>\n",
       "    .dataframe tbody tr th:only-of-type {\n",
       "        vertical-align: middle;\n",
       "    }\n",
       "\n",
       "    .dataframe tbody tr th {\n",
       "        vertical-align: top;\n",
       "    }\n",
       "\n",
       "    .dataframe thead th {\n",
       "        text-align: right;\n",
       "    }\n",
       "</style>\n",
       "<table border=\"1\" class=\"dataframe\">\n",
       "  <thead>\n",
       "    <tr style=\"text-align: right;\">\n",
       "      <th></th>\n",
       "      <th>RAM</th>\n",
       "      <th>Rear Camera</th>\n",
       "      <th>Processor__Qualcomm Snapdragon 7+ Gen 2 (4nm)</th>\n",
       "      <th>Processor__Mediatek Dimensity 1080</th>\n",
       "      <th>Processor__Dimensity 1080, Octa Core</th>\n",
       "      <th>Front Camera</th>\n",
       "      <th>Memory</th>\n",
       "      <th>Mobile Height</th>\n",
       "      <th>Battery_</th>\n",
       "    </tr>\n",
       "  </thead>\n",
       "  <tbody>\n",
       "    <tr>\n",
       "      <th>335</th>\n",
       "      <td>8</td>\n",
       "      <td>50</td>\n",
       "      <td>0</td>\n",
       "      <td>1</td>\n",
       "      <td>0</td>\n",
       "      <td>16</td>\n",
       "      <td>256</td>\n",
       "      <td>17</td>\n",
       "      <td>5000</td>\n",
       "    </tr>\n",
       "    <tr>\n",
       "      <th>173</th>\n",
       "      <td>2</td>\n",
       "      <td>8</td>\n",
       "      <td>0</td>\n",
       "      <td>0</td>\n",
       "      <td>0</td>\n",
       "      <td>5</td>\n",
       "      <td>32</td>\n",
       "      <td>16</td>\n",
       "      <td>5000</td>\n",
       "    </tr>\n",
       "    <tr>\n",
       "      <th>273</th>\n",
       "      <td>4</td>\n",
       "      <td>50</td>\n",
       "      <td>0</td>\n",
       "      <td>0</td>\n",
       "      <td>0</td>\n",
       "      <td>16</td>\n",
       "      <td>64</td>\n",
       "      <td>16</td>\n",
       "      <td>5000</td>\n",
       "    </tr>\n",
       "    <tr>\n",
       "      <th>514</th>\n",
       "      <td>4</td>\n",
       "      <td>50</td>\n",
       "      <td>0</td>\n",
       "      <td>0</td>\n",
       "      <td>0</td>\n",
       "      <td>13</td>\n",
       "      <td>64</td>\n",
       "      <td>16</td>\n",
       "      <td>5000</td>\n",
       "    </tr>\n",
       "    <tr>\n",
       "      <th>182</th>\n",
       "      <td>3</td>\n",
       "      <td>0</td>\n",
       "      <td>0</td>\n",
       "      <td>0</td>\n",
       "      <td>0</td>\n",
       "      <td>0</td>\n",
       "      <td>32</td>\n",
       "      <td>4</td>\n",
       "      <td>800</td>\n",
       "    </tr>\n",
       "    <tr>\n",
       "      <th>...</th>\n",
       "      <td>...</td>\n",
       "      <td>...</td>\n",
       "      <td>...</td>\n",
       "      <td>...</td>\n",
       "      <td>...</td>\n",
       "      <td>...</td>\n",
       "      <td>...</td>\n",
       "      <td>...</td>\n",
       "      <td>...</td>\n",
       "    </tr>\n",
       "    <tr>\n",
       "      <th>71</th>\n",
       "      <td>3</td>\n",
       "      <td>8</td>\n",
       "      <td>0</td>\n",
       "      <td>0</td>\n",
       "      <td>0</td>\n",
       "      <td>5</td>\n",
       "      <td>32</td>\n",
       "      <td>16</td>\n",
       "      <td>5000</td>\n",
       "    </tr>\n",
       "    <tr>\n",
       "      <th>106</th>\n",
       "      <td>3</td>\n",
       "      <td>8</td>\n",
       "      <td>0</td>\n",
       "      <td>0</td>\n",
       "      <td>0</td>\n",
       "      <td>5</td>\n",
       "      <td>32</td>\n",
       "      <td>16</td>\n",
       "      <td>5000</td>\n",
       "    </tr>\n",
       "    <tr>\n",
       "      <th>271</th>\n",
       "      <td>4</td>\n",
       "      <td>50</td>\n",
       "      <td>0</td>\n",
       "      <td>0</td>\n",
       "      <td>0</td>\n",
       "      <td>8</td>\n",
       "      <td>64</td>\n",
       "      <td>17</td>\n",
       "      <td>6000</td>\n",
       "    </tr>\n",
       "    <tr>\n",
       "      <th>447</th>\n",
       "      <td>8</td>\n",
       "      <td>64</td>\n",
       "      <td>0</td>\n",
       "      <td>0</td>\n",
       "      <td>0</td>\n",
       "      <td>50</td>\n",
       "      <td>128</td>\n",
       "      <td>16</td>\n",
       "      <td>4500</td>\n",
       "    </tr>\n",
       "    <tr>\n",
       "      <th>102</th>\n",
       "      <td>8</td>\n",
       "      <td>108</td>\n",
       "      <td>0</td>\n",
       "      <td>0</td>\n",
       "      <td>0</td>\n",
       "      <td>16</td>\n",
       "      <td>128</td>\n",
       "      <td>17</td>\n",
       "      <td>5000</td>\n",
       "    </tr>\n",
       "  </tbody>\n",
       "</table>\n",
       "<p>412 rows × 9 columns</p>\n",
       "</div>"
      ],
      "text/plain": [
       "     RAM  Rear Camera  Processor__Qualcomm Snapdragon 7+ Gen 2 (4nm)  \\\n",
       "335    8           50                                              0   \n",
       "173    2            8                                              0   \n",
       "273    4           50                                              0   \n",
       "514    4           50                                              0   \n",
       "182    3            0                                              0   \n",
       "..   ...          ...                                            ...   \n",
       "71     3            8                                              0   \n",
       "106    3            8                                              0   \n",
       "271    4           50                                              0   \n",
       "447    8           64                                              0   \n",
       "102    8          108                                              0   \n",
       "\n",
       "     Processor__Mediatek Dimensity 1080  \\\n",
       "335                                   1   \n",
       "173                                   0   \n",
       "273                                   0   \n",
       "514                                   0   \n",
       "182                                   0   \n",
       "..                                  ...   \n",
       "71                                    0   \n",
       "106                                   0   \n",
       "271                                   0   \n",
       "447                                   0   \n",
       "102                                   0   \n",
       "\n",
       "     Processor__Dimensity 1080, Octa Core   Front Camera  Memory  \\\n",
       "335                                      0            16     256   \n",
       "173                                      0             5      32   \n",
       "273                                      0            16      64   \n",
       "514                                      0            13      64   \n",
       "182                                      0             0      32   \n",
       "..                                     ...           ...     ...   \n",
       "71                                       0             5      32   \n",
       "106                                      0             5      32   \n",
       "271                                      0             8      64   \n",
       "447                                      0            50     128   \n",
       "102                                      0            16     128   \n",
       "\n",
       "     Mobile Height  Battery_  \n",
       "335             17      5000  \n",
       "173             16      5000  \n",
       "273             16      5000  \n",
       "514             16      5000  \n",
       "182              4       800  \n",
       "..             ...       ...  \n",
       "71              16      5000  \n",
       "106             16      5000  \n",
       "271             17      6000  \n",
       "447             16      4500  \n",
       "102             17      5000  \n",
       "\n",
       "[412 rows x 9 columns]"
      ]
     },
     "execution_count": 98,
     "metadata": {},
     "output_type": "execute_result"
    }
   ],
   "source": [
    "X_train"
   ]
  },
  {
   "cell_type": "code",
   "execution_count": 99,
   "id": "2663dd70",
   "metadata": {},
   "outputs": [
    {
     "data": {
      "text/html": [
       "<div>\n",
       "<style scoped>\n",
       "    .dataframe tbody tr th:only-of-type {\n",
       "        vertical-align: middle;\n",
       "    }\n",
       "\n",
       "    .dataframe tbody tr th {\n",
       "        vertical-align: top;\n",
       "    }\n",
       "\n",
       "    .dataframe thead th {\n",
       "        text-align: right;\n",
       "    }\n",
       "</style>\n",
       "<table border=\"1\" class=\"dataframe\">\n",
       "  <thead>\n",
       "    <tr style=\"text-align: right;\">\n",
       "      <th></th>\n",
       "      <th>RAM</th>\n",
       "      <th>Rear Camera</th>\n",
       "      <th>Processor__Qualcomm Snapdragon 7+ Gen 2 (4nm)</th>\n",
       "      <th>Processor__Mediatek Dimensity 1080</th>\n",
       "      <th>Processor__Dimensity 1080, Octa Core</th>\n",
       "      <th>Front Camera</th>\n",
       "      <th>Memory</th>\n",
       "      <th>Mobile Height</th>\n",
       "      <th>Battery_</th>\n",
       "    </tr>\n",
       "  </thead>\n",
       "  <tbody>\n",
       "    <tr>\n",
       "      <th>307</th>\n",
       "      <td>4</td>\n",
       "      <td>50</td>\n",
       "      <td>0</td>\n",
       "      <td>0</td>\n",
       "      <td>0</td>\n",
       "      <td>16</td>\n",
       "      <td>64</td>\n",
       "      <td>17</td>\n",
       "      <td>5000</td>\n",
       "    </tr>\n",
       "    <tr>\n",
       "      <th>519</th>\n",
       "      <td>3</td>\n",
       "      <td>13</td>\n",
       "      <td>0</td>\n",
       "      <td>0</td>\n",
       "      <td>0</td>\n",
       "      <td>5</td>\n",
       "      <td>32</td>\n",
       "      <td>16</td>\n",
       "      <td>5000</td>\n",
       "    </tr>\n",
       "    <tr>\n",
       "      <th>453</th>\n",
       "      <td>4</td>\n",
       "      <td>13</td>\n",
       "      <td>0</td>\n",
       "      <td>0</td>\n",
       "      <td>0</td>\n",
       "      <td>8</td>\n",
       "      <td>64</td>\n",
       "      <td>17</td>\n",
       "      <td>6000</td>\n",
       "    </tr>\n",
       "    <tr>\n",
       "      <th>153</th>\n",
       "      <td>4</td>\n",
       "      <td>13</td>\n",
       "      <td>0</td>\n",
       "      <td>0</td>\n",
       "      <td>0</td>\n",
       "      <td>5</td>\n",
       "      <td>64</td>\n",
       "      <td>16</td>\n",
       "      <td>5000</td>\n",
       "    </tr>\n",
       "    <tr>\n",
       "      <th>523</th>\n",
       "      <td>4</td>\n",
       "      <td>48</td>\n",
       "      <td>0</td>\n",
       "      <td>0</td>\n",
       "      <td>0</td>\n",
       "      <td>16</td>\n",
       "      <td>64</td>\n",
       "      <td>16</td>\n",
       "      <td>5000</td>\n",
       "    </tr>\n",
       "    <tr>\n",
       "      <th>...</th>\n",
       "      <td>...</td>\n",
       "      <td>...</td>\n",
       "      <td>...</td>\n",
       "      <td>...</td>\n",
       "      <td>...</td>\n",
       "      <td>...</td>\n",
       "      <td>...</td>\n",
       "      <td>...</td>\n",
       "      <td>...</td>\n",
       "    </tr>\n",
       "    <tr>\n",
       "      <th>167</th>\n",
       "      <td>6</td>\n",
       "      <td>50</td>\n",
       "      <td>0</td>\n",
       "      <td>0</td>\n",
       "      <td>0</td>\n",
       "      <td>16</td>\n",
       "      <td>128</td>\n",
       "      <td>16</td>\n",
       "      <td>5000</td>\n",
       "    </tr>\n",
       "    <tr>\n",
       "      <th>276</th>\n",
       "      <td>4</td>\n",
       "      <td>13</td>\n",
       "      <td>0</td>\n",
       "      <td>0</td>\n",
       "      <td>0</td>\n",
       "      <td>5</td>\n",
       "      <td>128</td>\n",
       "      <td>16</td>\n",
       "      <td>5000</td>\n",
       "    </tr>\n",
       "    <tr>\n",
       "      <th>530</th>\n",
       "      <td>4</td>\n",
       "      <td>50</td>\n",
       "      <td>0</td>\n",
       "      <td>0</td>\n",
       "      <td>0</td>\n",
       "      <td>5</td>\n",
       "      <td>128</td>\n",
       "      <td>16</td>\n",
       "      <td>5000</td>\n",
       "    </tr>\n",
       "    <tr>\n",
       "      <th>535</th>\n",
       "      <td>3</td>\n",
       "      <td>13</td>\n",
       "      <td>0</td>\n",
       "      <td>0</td>\n",
       "      <td>0</td>\n",
       "      <td>5</td>\n",
       "      <td>64</td>\n",
       "      <td>16</td>\n",
       "      <td>5000</td>\n",
       "    </tr>\n",
       "    <tr>\n",
       "      <th>325</th>\n",
       "      <td>6</td>\n",
       "      <td>64</td>\n",
       "      <td>0</td>\n",
       "      <td>0</td>\n",
       "      <td>0</td>\n",
       "      <td>20</td>\n",
       "      <td>64</td>\n",
       "      <td>16</td>\n",
       "      <td>4500</td>\n",
       "    </tr>\n",
       "  </tbody>\n",
       "</table>\n",
       "<p>104 rows × 9 columns</p>\n",
       "</div>"
      ],
      "text/plain": [
       "     RAM  Rear Camera  Processor__Qualcomm Snapdragon 7+ Gen 2 (4nm)  \\\n",
       "307    4           50                                              0   \n",
       "519    3           13                                              0   \n",
       "453    4           13                                              0   \n",
       "153    4           13                                              0   \n",
       "523    4           48                                              0   \n",
       "..   ...          ...                                            ...   \n",
       "167    6           50                                              0   \n",
       "276    4           13                                              0   \n",
       "530    4           50                                              0   \n",
       "535    3           13                                              0   \n",
       "325    6           64                                              0   \n",
       "\n",
       "     Processor__Mediatek Dimensity 1080  \\\n",
       "307                                   0   \n",
       "519                                   0   \n",
       "453                                   0   \n",
       "153                                   0   \n",
       "523                                   0   \n",
       "..                                  ...   \n",
       "167                                   0   \n",
       "276                                   0   \n",
       "530                                   0   \n",
       "535                                   0   \n",
       "325                                   0   \n",
       "\n",
       "     Processor__Dimensity 1080, Octa Core   Front Camera  Memory  \\\n",
       "307                                      0            16      64   \n",
       "519                                      0             5      32   \n",
       "453                                      0             8      64   \n",
       "153                                      0             5      64   \n",
       "523                                      0            16      64   \n",
       "..                                     ...           ...     ...   \n",
       "167                                      0            16     128   \n",
       "276                                      0             5     128   \n",
       "530                                      0             5     128   \n",
       "535                                      0             5      64   \n",
       "325                                      0            20      64   \n",
       "\n",
       "     Mobile Height  Battery_  \n",
       "307             17      5000  \n",
       "519             16      5000  \n",
       "453             17      6000  \n",
       "153             16      5000  \n",
       "523             16      5000  \n",
       "..             ...       ...  \n",
       "167             16      5000  \n",
       "276             16      5000  \n",
       "530             16      5000  \n",
       "535             16      5000  \n",
       "325             16      4500  \n",
       "\n",
       "[104 rows x 9 columns]"
      ]
     },
     "execution_count": 99,
     "metadata": {},
     "output_type": "execute_result"
    }
   ],
   "source": [
    "X_test"
   ]
  },
  {
   "cell_type": "code",
   "execution_count": 100,
   "id": "ca68d1c2",
   "metadata": {},
   "outputs": [
    {
     "data": {
      "text/plain": [
       "335    17999\n",
       "173     5999\n",
       "273    10999\n",
       "514    11999\n",
       "182     1599\n",
       "       ...  \n",
       "71      6499\n",
       "106     6299\n",
       "271     8999\n",
       "447    27999\n",
       "102    19999\n",
       "Name: Prize, Length: 412, dtype: int64"
      ]
     },
     "execution_count": 100,
     "metadata": {},
     "output_type": "execute_result"
    }
   ],
   "source": [
    "Y_train"
   ]
  },
  {
   "cell_type": "code",
   "execution_count": 101,
   "id": "72965c79",
   "metadata": {},
   "outputs": [
    {
     "data": {
      "text/plain": [
       "307    10999\n",
       "519     7280\n",
       "453     8999\n",
       "153     7961\n",
       "523    13499\n",
       "       ...  \n",
       "167    17999\n",
       "276    12990\n",
       "530    12999\n",
       "535     9999\n",
       "325    17999\n",
       "Name: Prize, Length: 104, dtype: int64"
      ]
     },
     "execution_count": 101,
     "metadata": {},
     "output_type": "execute_result"
    }
   ],
   "source": [
    "Y_test"
   ]
  },
  {
   "cell_type": "markdown",
   "id": "f46d3f70",
   "metadata": {},
   "source": [
    "# Choose a Model:"
   ]
  },
  {
   "cell_type": "code",
   "execution_count": 109,
   "id": "3d6c18db",
   "metadata": {},
   "outputs": [],
   "source": [
    "from sklearn.ensemble import RandomForestRegressor\n",
    "from sklearn.tree import DecisionTreeRegressor\n",
    "from sklearn.ensemble import GradientBoostingRegressor\n",
    "from sklearn.linear_model import LinearRegression"
   ]
  },
  {
   "cell_type": "code",
   "execution_count": 110,
   "id": "b4e444c1",
   "metadata": {},
   "outputs": [],
   "source": [
    "rf_model = RandomForestRegressor()\n",
    "dt_model = DecisionTreeRegressor()\n",
    "gr_model = GradientBoostingRegressor()\n",
    "lr_model = LinearRegression()"
   ]
  },
  {
   "cell_type": "markdown",
   "id": "f02c5e74",
   "metadata": {},
   "source": [
    "# Train the Model:"
   ]
  },
  {
   "cell_type": "code",
   "execution_count": 111,
   "id": "2a4848fc",
   "metadata": {},
   "outputs": [
    {
     "data": {
      "text/html": [
       "<style>#sk-container-id-4 {color: black;}#sk-container-id-4 pre{padding: 0;}#sk-container-id-4 div.sk-toggleable {background-color: white;}#sk-container-id-4 label.sk-toggleable__label {cursor: pointer;display: block;width: 100%;margin-bottom: 0;padding: 0.3em;box-sizing: border-box;text-align: center;}#sk-container-id-4 label.sk-toggleable__label-arrow:before {content: \"▸\";float: left;margin-right: 0.25em;color: #696969;}#sk-container-id-4 label.sk-toggleable__label-arrow:hover:before {color: black;}#sk-container-id-4 div.sk-estimator:hover label.sk-toggleable__label-arrow:before {color: black;}#sk-container-id-4 div.sk-toggleable__content {max-height: 0;max-width: 0;overflow: hidden;text-align: left;background-color: #f0f8ff;}#sk-container-id-4 div.sk-toggleable__content pre {margin: 0.2em;color: black;border-radius: 0.25em;background-color: #f0f8ff;}#sk-container-id-4 input.sk-toggleable__control:checked~div.sk-toggleable__content {max-height: 200px;max-width: 100%;overflow: auto;}#sk-container-id-4 input.sk-toggleable__control:checked~label.sk-toggleable__label-arrow:before {content: \"▾\";}#sk-container-id-4 div.sk-estimator input.sk-toggleable__control:checked~label.sk-toggleable__label {background-color: #d4ebff;}#sk-container-id-4 div.sk-label input.sk-toggleable__control:checked~label.sk-toggleable__label {background-color: #d4ebff;}#sk-container-id-4 input.sk-hidden--visually {border: 0;clip: rect(1px 1px 1px 1px);clip: rect(1px, 1px, 1px, 1px);height: 1px;margin: -1px;overflow: hidden;padding: 0;position: absolute;width: 1px;}#sk-container-id-4 div.sk-estimator {font-family: monospace;background-color: #f0f8ff;border: 1px dotted black;border-radius: 0.25em;box-sizing: border-box;margin-bottom: 0.5em;}#sk-container-id-4 div.sk-estimator:hover {background-color: #d4ebff;}#sk-container-id-4 div.sk-parallel-item::after {content: \"\";width: 100%;border-bottom: 1px solid gray;flex-grow: 1;}#sk-container-id-4 div.sk-label:hover label.sk-toggleable__label {background-color: #d4ebff;}#sk-container-id-4 div.sk-serial::before {content: \"\";position: absolute;border-left: 1px solid gray;box-sizing: border-box;top: 0;bottom: 0;left: 50%;z-index: 0;}#sk-container-id-4 div.sk-serial {display: flex;flex-direction: column;align-items: center;background-color: white;padding-right: 0.2em;padding-left: 0.2em;position: relative;}#sk-container-id-4 div.sk-item {position: relative;z-index: 1;}#sk-container-id-4 div.sk-parallel {display: flex;align-items: stretch;justify-content: center;background-color: white;position: relative;}#sk-container-id-4 div.sk-item::before, #sk-container-id-4 div.sk-parallel-item::before {content: \"\";position: absolute;border-left: 1px solid gray;box-sizing: border-box;top: 0;bottom: 0;left: 50%;z-index: -1;}#sk-container-id-4 div.sk-parallel-item {display: flex;flex-direction: column;z-index: 1;position: relative;background-color: white;}#sk-container-id-4 div.sk-parallel-item:first-child::after {align-self: flex-end;width: 50%;}#sk-container-id-4 div.sk-parallel-item:last-child::after {align-self: flex-start;width: 50%;}#sk-container-id-4 div.sk-parallel-item:only-child::after {width: 0;}#sk-container-id-4 div.sk-dashed-wrapped {border: 1px dashed gray;margin: 0 0.4em 0.5em 0.4em;box-sizing: border-box;padding-bottom: 0.4em;background-color: white;}#sk-container-id-4 div.sk-label label {font-family: monospace;font-weight: bold;display: inline-block;line-height: 1.2em;}#sk-container-id-4 div.sk-label-container {text-align: center;}#sk-container-id-4 div.sk-container {/* jupyter's `normalize.less` sets `[hidden] { display: none; }` but bootstrap.min.css set `[hidden] { display: none !important; }` so we also need the `!important` here to be able to override the default hidden behavior on the sphinx rendered scikit-learn.org. See: https://github.com/scikit-learn/scikit-learn/issues/21755 */display: inline-block !important;position: relative;}#sk-container-id-4 div.sk-text-repr-fallback {display: none;}</style><div id=\"sk-container-id-4\" class=\"sk-top-container\"><div class=\"sk-text-repr-fallback\"><pre>LinearRegression()</pre><b>In a Jupyter environment, please rerun this cell to show the HTML representation or trust the notebook. <br />On GitHub, the HTML representation is unable to render, please try loading this page with nbviewer.org.</b></div><div class=\"sk-container\" hidden><div class=\"sk-item\"><div class=\"sk-estimator sk-toggleable\"><input class=\"sk-toggleable__control sk-hidden--visually\" id=\"sk-estimator-id-4\" type=\"checkbox\" checked><label for=\"sk-estimator-id-4\" class=\"sk-toggleable__label sk-toggleable__label-arrow\">LinearRegression</label><div class=\"sk-toggleable__content\"><pre>LinearRegression()</pre></div></div></div></div></div>"
      ],
      "text/plain": [
       "LinearRegression()"
      ]
     },
     "execution_count": 111,
     "metadata": {},
     "output_type": "execute_result"
    }
   ],
   "source": [
    "rf_model.fit(X_train, Y_train)\n",
    "dt_model.fit(X_train, Y_train)\n",
    "gr_model.fit(X_train, Y_train)\n",
    "lr_model.fit(X_train, Y_train)"
   ]
  },
  {
   "cell_type": "markdown",
   "id": "a5d3fb13",
   "metadata": {},
   "source": [
    "# Make Predictions:"
   ]
  },
  {
   "cell_type": "code",
   "execution_count": 112,
   "id": "39ce97ba",
   "metadata": {},
   "outputs": [],
   "source": [
    "y_pred = rf_model.predict(X_test)\n",
    "y_pred1 = dt_model.predict(X_test)\n",
    "y_pred2 = gr_model.predict(X_test)\n",
    "y_pred3 = lr_model.predict(X_test)"
   ]
  },
  {
   "cell_type": "markdown",
   "id": "8a5240b8",
   "metadata": {},
   "source": [
    "# Evaluate the Model:"
   ]
  },
  {
   "cell_type": "code",
   "execution_count": 106,
   "id": "bdd001cd",
   "metadata": {},
   "outputs": [
    {
     "ename": "ValueError",
     "evalue": "Expected 2D array, got 1D array instead:\narray=[12335.261   8675.645   8635.466   8490.823  13340.074   6501.6406\n 19079.451  10878.547  12152.214  10838.4    15978.978  10878.547\n  9453.466  11797.842   9481.5     8083.139  10878.547   6597.7144\n 17323.338  15978.978  16028.443  30108.79    6501.6406 10878.547\n  6662.871  17409.213   6597.7144 19906.969  19439.     29383.121\n  1004.82   19439.     18339.895  10441.299  18334.012  27542.154\n 10019.     12152.214   6501.6406 15216.419  16036.169   6597.7144\n  1494.5667 20928.676  14403.185  18339.895  15978.978   8675.645\n 13333.229  12936.908  13548.423  30244.35    9278.557  10514.203\n 13340.074   6501.6406 18339.895  15978.978  10878.547   6501.6406\n  2087.23   15978.978   6501.6406 14698.875  14999.661   8490.823\n  7949.7593 20666.586   8635.466   7452.18   10441.299  25369.395\n 16191.155  19906.969  10441.299  18339.895  14698.875  30069.\n 12152.214   6501.6406 16590.637  19424.      8201.913  14641.718\n 10878.547   8490.823  10878.547   8490.823  16696.557   6501.6406\n 10878.547   5496.5996  8490.823  22104.44    9902.0205 23308.572\n  6597.7144  6597.7144 14514.136  15385.522  11889.317  10514.203\n 10511.31   22134.293 ].\nReshape your data either using array.reshape(-1, 1) if your data has a single feature or array.reshape(1, -1) if it contains a single sample.",
     "output_type": "error",
     "traceback": [
      "\u001b[1;31m---------------------------------------------------------------------------\u001b[0m",
      "\u001b[1;31mValueError\u001b[0m                                Traceback (most recent call last)",
      "Cell \u001b[1;32mIn[106], line 1\u001b[0m\n\u001b[1;32m----> 1\u001b[0m score \u001b[38;5;241m=\u001b[39m rf_model\u001b[38;5;241m.\u001b[39mscore(y_pred, Y_test)\n\u001b[0;32m      2\u001b[0m \u001b[38;5;28mprint\u001b[39m(\u001b[38;5;124mf\u001b[39m\u001b[38;5;124m'\u001b[39m\u001b[38;5;124mModel Score: \u001b[39m\u001b[38;5;132;01m{\u001b[39;00mscore\u001b[38;5;132;01m}\u001b[39;00m\u001b[38;5;124m'\u001b[39m)\n",
      "File \u001b[1;32m~\\anaconda3\\Lib\\site-packages\\sklearn\\base.py:759\u001b[0m, in \u001b[0;36mRegressorMixin.score\u001b[1;34m(self, X, y, sample_weight)\u001b[0m\n\u001b[0;32m    717\u001b[0m \u001b[38;5;250m\u001b[39m\u001b[38;5;124;03m\"\"\"Return the coefficient of determination of the prediction.\u001b[39;00m\n\u001b[0;32m    718\u001b[0m \n\u001b[0;32m    719\u001b[0m \u001b[38;5;124;03mThe coefficient of determination :math:`R^2` is defined as\u001b[39;00m\n\u001b[1;32m   (...)\u001b[0m\n\u001b[0;32m    754\u001b[0m \u001b[38;5;124;03m:class:`~sklearn.multioutput.MultiOutputRegressor`).\u001b[39;00m\n\u001b[0;32m    755\u001b[0m \u001b[38;5;124;03m\"\"\"\u001b[39;00m\n\u001b[0;32m    757\u001b[0m \u001b[38;5;28;01mfrom\u001b[39;00m \u001b[38;5;21;01m.\u001b[39;00m\u001b[38;5;21;01mmetrics\u001b[39;00m \u001b[38;5;28;01mimport\u001b[39;00m r2_score\n\u001b[1;32m--> 759\u001b[0m y_pred \u001b[38;5;241m=\u001b[39m \u001b[38;5;28mself\u001b[39m\u001b[38;5;241m.\u001b[39mpredict(X)\n\u001b[0;32m    760\u001b[0m \u001b[38;5;28;01mreturn\u001b[39;00m r2_score(y, y_pred, sample_weight\u001b[38;5;241m=\u001b[39msample_weight)\n",
      "File \u001b[1;32m~\\anaconda3\\Lib\\site-packages\\sklearn\\ensemble\\_forest.py:984\u001b[0m, in \u001b[0;36mForestRegressor.predict\u001b[1;34m(self, X)\u001b[0m\n\u001b[0;32m    982\u001b[0m check_is_fitted(\u001b[38;5;28mself\u001b[39m)\n\u001b[0;32m    983\u001b[0m \u001b[38;5;66;03m# Check data\u001b[39;00m\n\u001b[1;32m--> 984\u001b[0m X \u001b[38;5;241m=\u001b[39m \u001b[38;5;28mself\u001b[39m\u001b[38;5;241m.\u001b[39m_validate_X_predict(X)\n\u001b[0;32m    986\u001b[0m \u001b[38;5;66;03m# Assign chunk of trees to jobs\u001b[39;00m\n\u001b[0;32m    987\u001b[0m n_jobs, _, _ \u001b[38;5;241m=\u001b[39m _partition_estimators(\u001b[38;5;28mself\u001b[39m\u001b[38;5;241m.\u001b[39mn_estimators, \u001b[38;5;28mself\u001b[39m\u001b[38;5;241m.\u001b[39mn_jobs)\n",
      "File \u001b[1;32m~\\anaconda3\\Lib\\site-packages\\sklearn\\ensemble\\_forest.py:599\u001b[0m, in \u001b[0;36mBaseForest._validate_X_predict\u001b[1;34m(self, X)\u001b[0m\n\u001b[0;32m    596\u001b[0m \u001b[38;5;250m\u001b[39m\u001b[38;5;124;03m\"\"\"\u001b[39;00m\n\u001b[0;32m    597\u001b[0m \u001b[38;5;124;03mValidate X whenever one tries to predict, apply, predict_proba.\"\"\"\u001b[39;00m\n\u001b[0;32m    598\u001b[0m check_is_fitted(\u001b[38;5;28mself\u001b[39m)\n\u001b[1;32m--> 599\u001b[0m X \u001b[38;5;241m=\u001b[39m \u001b[38;5;28mself\u001b[39m\u001b[38;5;241m.\u001b[39m_validate_data(X, dtype\u001b[38;5;241m=\u001b[39mDTYPE, accept_sparse\u001b[38;5;241m=\u001b[39m\u001b[38;5;124m\"\u001b[39m\u001b[38;5;124mcsr\u001b[39m\u001b[38;5;124m\"\u001b[39m, reset\u001b[38;5;241m=\u001b[39m\u001b[38;5;28;01mFalse\u001b[39;00m)\n\u001b[0;32m    600\u001b[0m \u001b[38;5;28;01mif\u001b[39;00m issparse(X) \u001b[38;5;129;01mand\u001b[39;00m (X\u001b[38;5;241m.\u001b[39mindices\u001b[38;5;241m.\u001b[39mdtype \u001b[38;5;241m!=\u001b[39m np\u001b[38;5;241m.\u001b[39mintc \u001b[38;5;129;01mor\u001b[39;00m X\u001b[38;5;241m.\u001b[39mindptr\u001b[38;5;241m.\u001b[39mdtype \u001b[38;5;241m!=\u001b[39m np\u001b[38;5;241m.\u001b[39mintc):\n\u001b[0;32m    601\u001b[0m     \u001b[38;5;28;01mraise\u001b[39;00m \u001b[38;5;167;01mValueError\u001b[39;00m(\u001b[38;5;124m\"\u001b[39m\u001b[38;5;124mNo support for np.int64 index based sparse matrices\u001b[39m\u001b[38;5;124m\"\u001b[39m)\n",
      "File \u001b[1;32m~\\anaconda3\\Lib\\site-packages\\sklearn\\base.py:604\u001b[0m, in \u001b[0;36mBaseEstimator._validate_data\u001b[1;34m(self, X, y, reset, validate_separately, cast_to_ndarray, **check_params)\u001b[0m\n\u001b[0;32m    602\u001b[0m         out \u001b[38;5;241m=\u001b[39m X, y\n\u001b[0;32m    603\u001b[0m \u001b[38;5;28;01melif\u001b[39;00m \u001b[38;5;129;01mnot\u001b[39;00m no_val_X \u001b[38;5;129;01mand\u001b[39;00m no_val_y:\n\u001b[1;32m--> 604\u001b[0m     out \u001b[38;5;241m=\u001b[39m check_array(X, input_name\u001b[38;5;241m=\u001b[39m\u001b[38;5;124m\"\u001b[39m\u001b[38;5;124mX\u001b[39m\u001b[38;5;124m\"\u001b[39m, \u001b[38;5;241m*\u001b[39m\u001b[38;5;241m*\u001b[39mcheck_params)\n\u001b[0;32m    605\u001b[0m \u001b[38;5;28;01melif\u001b[39;00m no_val_X \u001b[38;5;129;01mand\u001b[39;00m \u001b[38;5;129;01mnot\u001b[39;00m no_val_y:\n\u001b[0;32m    606\u001b[0m     out \u001b[38;5;241m=\u001b[39m _check_y(y, \u001b[38;5;241m*\u001b[39m\u001b[38;5;241m*\u001b[39mcheck_params)\n",
      "File \u001b[1;32m~\\anaconda3\\Lib\\site-packages\\sklearn\\utils\\validation.py:940\u001b[0m, in \u001b[0;36mcheck_array\u001b[1;34m(array, accept_sparse, accept_large_sparse, dtype, order, copy, force_all_finite, ensure_2d, allow_nd, ensure_min_samples, ensure_min_features, estimator, input_name)\u001b[0m\n\u001b[0;32m    938\u001b[0m     \u001b[38;5;66;03m# If input is 1D raise error\u001b[39;00m\n\u001b[0;32m    939\u001b[0m     \u001b[38;5;28;01mif\u001b[39;00m array\u001b[38;5;241m.\u001b[39mndim \u001b[38;5;241m==\u001b[39m \u001b[38;5;241m1\u001b[39m:\n\u001b[1;32m--> 940\u001b[0m         \u001b[38;5;28;01mraise\u001b[39;00m \u001b[38;5;167;01mValueError\u001b[39;00m(\n\u001b[0;32m    941\u001b[0m             \u001b[38;5;124m\"\u001b[39m\u001b[38;5;124mExpected 2D array, got 1D array instead:\u001b[39m\u001b[38;5;130;01m\\n\u001b[39;00m\u001b[38;5;124marray=\u001b[39m\u001b[38;5;132;01m{}\u001b[39;00m\u001b[38;5;124m.\u001b[39m\u001b[38;5;130;01m\\n\u001b[39;00m\u001b[38;5;124m\"\u001b[39m\n\u001b[0;32m    942\u001b[0m             \u001b[38;5;124m\"\u001b[39m\u001b[38;5;124mReshape your data either using array.reshape(-1, 1) if \u001b[39m\u001b[38;5;124m\"\u001b[39m\n\u001b[0;32m    943\u001b[0m             \u001b[38;5;124m\"\u001b[39m\u001b[38;5;124myour data has a single feature or array.reshape(1, -1) \u001b[39m\u001b[38;5;124m\"\u001b[39m\n\u001b[0;32m    944\u001b[0m             \u001b[38;5;124m\"\u001b[39m\u001b[38;5;124mif it contains a single sample.\u001b[39m\u001b[38;5;124m\"\u001b[39m\u001b[38;5;241m.\u001b[39mformat(array)\n\u001b[0;32m    945\u001b[0m         )\n\u001b[0;32m    947\u001b[0m \u001b[38;5;28;01mif\u001b[39;00m dtype_numeric \u001b[38;5;129;01mand\u001b[39;00m \u001b[38;5;28mhasattr\u001b[39m(array\u001b[38;5;241m.\u001b[39mdtype, \u001b[38;5;124m\"\u001b[39m\u001b[38;5;124mkind\u001b[39m\u001b[38;5;124m\"\u001b[39m) \u001b[38;5;129;01mand\u001b[39;00m array\u001b[38;5;241m.\u001b[39mdtype\u001b[38;5;241m.\u001b[39mkind \u001b[38;5;129;01min\u001b[39;00m \u001b[38;5;124m\"\u001b[39m\u001b[38;5;124mUSV\u001b[39m\u001b[38;5;124m\"\u001b[39m:\n\u001b[0;32m    948\u001b[0m     \u001b[38;5;28;01mraise\u001b[39;00m \u001b[38;5;167;01mValueError\u001b[39;00m(\n\u001b[0;32m    949\u001b[0m         \u001b[38;5;124m\"\u001b[39m\u001b[38;5;124mdtype=\u001b[39m\u001b[38;5;124m'\u001b[39m\u001b[38;5;124mnumeric\u001b[39m\u001b[38;5;124m'\u001b[39m\u001b[38;5;124m is not compatible with arrays of bytes/strings.\u001b[39m\u001b[38;5;124m\"\u001b[39m\n\u001b[0;32m    950\u001b[0m         \u001b[38;5;124m\"\u001b[39m\u001b[38;5;124mConvert your data to numeric values explicitly instead.\u001b[39m\u001b[38;5;124m\"\u001b[39m\n\u001b[0;32m    951\u001b[0m     )\n",
      "\u001b[1;31mValueError\u001b[0m: Expected 2D array, got 1D array instead:\narray=[12335.261   8675.645   8635.466   8490.823  13340.074   6501.6406\n 19079.451  10878.547  12152.214  10838.4    15978.978  10878.547\n  9453.466  11797.842   9481.5     8083.139  10878.547   6597.7144\n 17323.338  15978.978  16028.443  30108.79    6501.6406 10878.547\n  6662.871  17409.213   6597.7144 19906.969  19439.     29383.121\n  1004.82   19439.     18339.895  10441.299  18334.012  27542.154\n 10019.     12152.214   6501.6406 15216.419  16036.169   6597.7144\n  1494.5667 20928.676  14403.185  18339.895  15978.978   8675.645\n 13333.229  12936.908  13548.423  30244.35    9278.557  10514.203\n 13340.074   6501.6406 18339.895  15978.978  10878.547   6501.6406\n  2087.23   15978.978   6501.6406 14698.875  14999.661   8490.823\n  7949.7593 20666.586   8635.466   7452.18   10441.299  25369.395\n 16191.155  19906.969  10441.299  18339.895  14698.875  30069.\n 12152.214   6501.6406 16590.637  19424.      8201.913  14641.718\n 10878.547   8490.823  10878.547   8490.823  16696.557   6501.6406\n 10878.547   5496.5996  8490.823  22104.44    9902.0205 23308.572\n  6597.7144  6597.7144 14514.136  15385.522  11889.317  10514.203\n 10511.31   22134.293 ].\nReshape your data either using array.reshape(-1, 1) if your data has a single feature or array.reshape(1, -1) if it contains a single sample."
     ]
    }
   ],
   "source": [
    "score = rf_model.score(y_pred, Y_test)\n",
    "print(f'Model Score: {score}')"
   ]
  },
  {
   "cell_type": "code",
   "execution_count": 107,
   "id": "6ea34e29",
   "metadata": {},
   "outputs": [
    {
     "ename": "ValueError",
     "evalue": "Expected 2D array, got 1D array instead:\narray=[12179.      8622.714   8624.      8501.546  13499.      6511.\n 18997.2    10897.15   12179.     10999.     16046.619  10897.15\n  8999.     11999.      9499.      8020.3335 10897.15    6622.143\n 16999.     16046.619  15999.     29999.      6511.     10897.15\n  6656.143  17332.334   6622.143  19999.     17999.     29999.\n   920.     17999.     18380.611  10496.363  18249.     32999.\n  9999.     12179.      6511.     14999.     16082.333   6622.143\n  1299.     18999.     14496.75   18380.611  16046.619   8622.714\n 13244.546  12499.     13490.     32999.      8622.714  10499.\n 13499.      6511.     18380.611  16046.619  10897.15    6511.\n  1422.     16046.619   6511.     13999.     15124.      8501.546\n  7749.     20999.      8624.      7299.     10496.363  25999.\n 16249.     19999.     10496.363  18380.611  13999.     32999.\n 12179.      6511.     16999.     17999.      8223.333  14490.\n 10897.15    8501.546  10897.15    8501.546  16999.      6511.\n 10897.15    6299.      8501.546  25996.      9999.     23999.\n  6622.143   6622.143  14999.     15361.818  11697.333  10499.\n 10749.     23377.2   ].\nReshape your data either using array.reshape(-1, 1) if your data has a single feature or array.reshape(1, -1) if it contains a single sample.",
     "output_type": "error",
     "traceback": [
      "\u001b[1;31m---------------------------------------------------------------------------\u001b[0m",
      "\u001b[1;31mValueError\u001b[0m                                Traceback (most recent call last)",
      "Cell \u001b[1;32mIn[107], line 1\u001b[0m\n\u001b[1;32m----> 1\u001b[0m score \u001b[38;5;241m=\u001b[39m dt_model\u001b[38;5;241m.\u001b[39mscore(y_pred1, Y_test)\n\u001b[0;32m      2\u001b[0m \u001b[38;5;28mprint\u001b[39m(\u001b[38;5;124mf\u001b[39m\u001b[38;5;124m'\u001b[39m\u001b[38;5;124mModel Score: \u001b[39m\u001b[38;5;132;01m{\u001b[39;00mscore\u001b[38;5;132;01m}\u001b[39;00m\u001b[38;5;124m'\u001b[39m)\n",
      "File \u001b[1;32m~\\anaconda3\\Lib\\site-packages\\sklearn\\base.py:759\u001b[0m, in \u001b[0;36mRegressorMixin.score\u001b[1;34m(self, X, y, sample_weight)\u001b[0m\n\u001b[0;32m    717\u001b[0m \u001b[38;5;250m\u001b[39m\u001b[38;5;124;03m\"\"\"Return the coefficient of determination of the prediction.\u001b[39;00m\n\u001b[0;32m    718\u001b[0m \n\u001b[0;32m    719\u001b[0m \u001b[38;5;124;03mThe coefficient of determination :math:`R^2` is defined as\u001b[39;00m\n\u001b[1;32m   (...)\u001b[0m\n\u001b[0;32m    754\u001b[0m \u001b[38;5;124;03m:class:`~sklearn.multioutput.MultiOutputRegressor`).\u001b[39;00m\n\u001b[0;32m    755\u001b[0m \u001b[38;5;124;03m\"\"\"\u001b[39;00m\n\u001b[0;32m    757\u001b[0m \u001b[38;5;28;01mfrom\u001b[39;00m \u001b[38;5;21;01m.\u001b[39;00m\u001b[38;5;21;01mmetrics\u001b[39;00m \u001b[38;5;28;01mimport\u001b[39;00m r2_score\n\u001b[1;32m--> 759\u001b[0m y_pred \u001b[38;5;241m=\u001b[39m \u001b[38;5;28mself\u001b[39m\u001b[38;5;241m.\u001b[39mpredict(X)\n\u001b[0;32m    760\u001b[0m \u001b[38;5;28;01mreturn\u001b[39;00m r2_score(y, y_pred, sample_weight\u001b[38;5;241m=\u001b[39msample_weight)\n",
      "File \u001b[1;32m~\\anaconda3\\Lib\\site-packages\\sklearn\\tree\\_classes.py:500\u001b[0m, in \u001b[0;36mBaseDecisionTree.predict\u001b[1;34m(self, X, check_input)\u001b[0m\n\u001b[0;32m    477\u001b[0m \u001b[38;5;250m\u001b[39m\u001b[38;5;124;03m\"\"\"Predict class or regression value for X.\u001b[39;00m\n\u001b[0;32m    478\u001b[0m \n\u001b[0;32m    479\u001b[0m \u001b[38;5;124;03mFor a classification model, the predicted class for each sample in X is\u001b[39;00m\n\u001b[1;32m   (...)\u001b[0m\n\u001b[0;32m    497\u001b[0m \u001b[38;5;124;03m    The predicted classes, or the predict values.\u001b[39;00m\n\u001b[0;32m    498\u001b[0m \u001b[38;5;124;03m\"\"\"\u001b[39;00m\n\u001b[0;32m    499\u001b[0m check_is_fitted(\u001b[38;5;28mself\u001b[39m)\n\u001b[1;32m--> 500\u001b[0m X \u001b[38;5;241m=\u001b[39m \u001b[38;5;28mself\u001b[39m\u001b[38;5;241m.\u001b[39m_validate_X_predict(X, check_input)\n\u001b[0;32m    501\u001b[0m proba \u001b[38;5;241m=\u001b[39m \u001b[38;5;28mself\u001b[39m\u001b[38;5;241m.\u001b[39mtree_\u001b[38;5;241m.\u001b[39mpredict(X)\n\u001b[0;32m    502\u001b[0m n_samples \u001b[38;5;241m=\u001b[39m X\u001b[38;5;241m.\u001b[39mshape[\u001b[38;5;241m0\u001b[39m]\n",
      "File \u001b[1;32m~\\anaconda3\\Lib\\site-packages\\sklearn\\tree\\_classes.py:460\u001b[0m, in \u001b[0;36mBaseDecisionTree._validate_X_predict\u001b[1;34m(self, X, check_input)\u001b[0m\n\u001b[0;32m    458\u001b[0m \u001b[38;5;28;01melse\u001b[39;00m:\n\u001b[0;32m    459\u001b[0m     force_all_finite \u001b[38;5;241m=\u001b[39m \u001b[38;5;28;01mTrue\u001b[39;00m\n\u001b[1;32m--> 460\u001b[0m X \u001b[38;5;241m=\u001b[39m \u001b[38;5;28mself\u001b[39m\u001b[38;5;241m.\u001b[39m_validate_data(\n\u001b[0;32m    461\u001b[0m     X,\n\u001b[0;32m    462\u001b[0m     dtype\u001b[38;5;241m=\u001b[39mDTYPE,\n\u001b[0;32m    463\u001b[0m     accept_sparse\u001b[38;5;241m=\u001b[39m\u001b[38;5;124m\"\u001b[39m\u001b[38;5;124mcsr\u001b[39m\u001b[38;5;124m\"\u001b[39m,\n\u001b[0;32m    464\u001b[0m     reset\u001b[38;5;241m=\u001b[39m\u001b[38;5;28;01mFalse\u001b[39;00m,\n\u001b[0;32m    465\u001b[0m     force_all_finite\u001b[38;5;241m=\u001b[39mforce_all_finite,\n\u001b[0;32m    466\u001b[0m )\n\u001b[0;32m    467\u001b[0m \u001b[38;5;28;01mif\u001b[39;00m issparse(X) \u001b[38;5;129;01mand\u001b[39;00m (\n\u001b[0;32m    468\u001b[0m     X\u001b[38;5;241m.\u001b[39mindices\u001b[38;5;241m.\u001b[39mdtype \u001b[38;5;241m!=\u001b[39m np\u001b[38;5;241m.\u001b[39mintc \u001b[38;5;129;01mor\u001b[39;00m X\u001b[38;5;241m.\u001b[39mindptr\u001b[38;5;241m.\u001b[39mdtype \u001b[38;5;241m!=\u001b[39m np\u001b[38;5;241m.\u001b[39mintc\n\u001b[0;32m    469\u001b[0m ):\n\u001b[0;32m    470\u001b[0m     \u001b[38;5;28;01mraise\u001b[39;00m \u001b[38;5;167;01mValueError\u001b[39;00m(\u001b[38;5;124m\"\u001b[39m\u001b[38;5;124mNo support for np.int64 index based sparse matrices\u001b[39m\u001b[38;5;124m\"\u001b[39m)\n",
      "File \u001b[1;32m~\\anaconda3\\Lib\\site-packages\\sklearn\\base.py:604\u001b[0m, in \u001b[0;36mBaseEstimator._validate_data\u001b[1;34m(self, X, y, reset, validate_separately, cast_to_ndarray, **check_params)\u001b[0m\n\u001b[0;32m    602\u001b[0m         out \u001b[38;5;241m=\u001b[39m X, y\n\u001b[0;32m    603\u001b[0m \u001b[38;5;28;01melif\u001b[39;00m \u001b[38;5;129;01mnot\u001b[39;00m no_val_X \u001b[38;5;129;01mand\u001b[39;00m no_val_y:\n\u001b[1;32m--> 604\u001b[0m     out \u001b[38;5;241m=\u001b[39m check_array(X, input_name\u001b[38;5;241m=\u001b[39m\u001b[38;5;124m\"\u001b[39m\u001b[38;5;124mX\u001b[39m\u001b[38;5;124m\"\u001b[39m, \u001b[38;5;241m*\u001b[39m\u001b[38;5;241m*\u001b[39mcheck_params)\n\u001b[0;32m    605\u001b[0m \u001b[38;5;28;01melif\u001b[39;00m no_val_X \u001b[38;5;129;01mand\u001b[39;00m \u001b[38;5;129;01mnot\u001b[39;00m no_val_y:\n\u001b[0;32m    606\u001b[0m     out \u001b[38;5;241m=\u001b[39m _check_y(y, \u001b[38;5;241m*\u001b[39m\u001b[38;5;241m*\u001b[39mcheck_params)\n",
      "File \u001b[1;32m~\\anaconda3\\Lib\\site-packages\\sklearn\\utils\\validation.py:940\u001b[0m, in \u001b[0;36mcheck_array\u001b[1;34m(array, accept_sparse, accept_large_sparse, dtype, order, copy, force_all_finite, ensure_2d, allow_nd, ensure_min_samples, ensure_min_features, estimator, input_name)\u001b[0m\n\u001b[0;32m    938\u001b[0m     \u001b[38;5;66;03m# If input is 1D raise error\u001b[39;00m\n\u001b[0;32m    939\u001b[0m     \u001b[38;5;28;01mif\u001b[39;00m array\u001b[38;5;241m.\u001b[39mndim \u001b[38;5;241m==\u001b[39m \u001b[38;5;241m1\u001b[39m:\n\u001b[1;32m--> 940\u001b[0m         \u001b[38;5;28;01mraise\u001b[39;00m \u001b[38;5;167;01mValueError\u001b[39;00m(\n\u001b[0;32m    941\u001b[0m             \u001b[38;5;124m\"\u001b[39m\u001b[38;5;124mExpected 2D array, got 1D array instead:\u001b[39m\u001b[38;5;130;01m\\n\u001b[39;00m\u001b[38;5;124marray=\u001b[39m\u001b[38;5;132;01m{}\u001b[39;00m\u001b[38;5;124m.\u001b[39m\u001b[38;5;130;01m\\n\u001b[39;00m\u001b[38;5;124m\"\u001b[39m\n\u001b[0;32m    942\u001b[0m             \u001b[38;5;124m\"\u001b[39m\u001b[38;5;124mReshape your data either using array.reshape(-1, 1) if \u001b[39m\u001b[38;5;124m\"\u001b[39m\n\u001b[0;32m    943\u001b[0m             \u001b[38;5;124m\"\u001b[39m\u001b[38;5;124myour data has a single feature or array.reshape(1, -1) \u001b[39m\u001b[38;5;124m\"\u001b[39m\n\u001b[0;32m    944\u001b[0m             \u001b[38;5;124m\"\u001b[39m\u001b[38;5;124mif it contains a single sample.\u001b[39m\u001b[38;5;124m\"\u001b[39m\u001b[38;5;241m.\u001b[39mformat(array)\n\u001b[0;32m    945\u001b[0m         )\n\u001b[0;32m    947\u001b[0m \u001b[38;5;28;01mif\u001b[39;00m dtype_numeric \u001b[38;5;129;01mand\u001b[39;00m \u001b[38;5;28mhasattr\u001b[39m(array\u001b[38;5;241m.\u001b[39mdtype, \u001b[38;5;124m\"\u001b[39m\u001b[38;5;124mkind\u001b[39m\u001b[38;5;124m\"\u001b[39m) \u001b[38;5;129;01mand\u001b[39;00m array\u001b[38;5;241m.\u001b[39mdtype\u001b[38;5;241m.\u001b[39mkind \u001b[38;5;129;01min\u001b[39;00m \u001b[38;5;124m\"\u001b[39m\u001b[38;5;124mUSV\u001b[39m\u001b[38;5;124m\"\u001b[39m:\n\u001b[0;32m    948\u001b[0m     \u001b[38;5;28;01mraise\u001b[39;00m \u001b[38;5;167;01mValueError\u001b[39;00m(\n\u001b[0;32m    949\u001b[0m         \u001b[38;5;124m\"\u001b[39m\u001b[38;5;124mdtype=\u001b[39m\u001b[38;5;124m'\u001b[39m\u001b[38;5;124mnumeric\u001b[39m\u001b[38;5;124m'\u001b[39m\u001b[38;5;124m is not compatible with arrays of bytes/strings.\u001b[39m\u001b[38;5;124m\"\u001b[39m\n\u001b[0;32m    950\u001b[0m         \u001b[38;5;124m\"\u001b[39m\u001b[38;5;124mConvert your data to numeric values explicitly instead.\u001b[39m\u001b[38;5;124m\"\u001b[39m\n\u001b[0;32m    951\u001b[0m     )\n",
      "\u001b[1;31mValueError\u001b[0m: Expected 2D array, got 1D array instead:\narray=[12179.      8622.714   8624.      8501.546  13499.      6511.\n 18997.2    10897.15   12179.     10999.     16046.619  10897.15\n  8999.     11999.      9499.      8020.3335 10897.15    6622.143\n 16999.     16046.619  15999.     29999.      6511.     10897.15\n  6656.143  17332.334   6622.143  19999.     17999.     29999.\n   920.     17999.     18380.611  10496.363  18249.     32999.\n  9999.     12179.      6511.     14999.     16082.333   6622.143\n  1299.     18999.     14496.75   18380.611  16046.619   8622.714\n 13244.546  12499.     13490.     32999.      8622.714  10499.\n 13499.      6511.     18380.611  16046.619  10897.15    6511.\n  1422.     16046.619   6511.     13999.     15124.      8501.546\n  7749.     20999.      8624.      7299.     10496.363  25999.\n 16249.     19999.     10496.363  18380.611  13999.     32999.\n 12179.      6511.     16999.     17999.      8223.333  14490.\n 10897.15    8501.546  10897.15    8501.546  16999.      6511.\n 10897.15    6299.      8501.546  25996.      9999.     23999.\n  6622.143   6622.143  14999.     15361.818  11697.333  10499.\n 10749.     23377.2   ].\nReshape your data either using array.reshape(-1, 1) if your data has a single feature or array.reshape(1, -1) if it contains a single sample."
     ]
    }
   ],
   "source": [
    "score = dt_model.score(y_pred1, Y_test)\n",
    "print(f'Model Score: {score}')"
   ]
  },
  {
   "cell_type": "code",
   "execution_count": 108,
   "id": "6f19c083",
   "metadata": {},
   "outputs": [
    {
     "ename": "ValueError",
     "evalue": "Expected 2D array, got 1D array instead:\narray=[12790.173   8474.83    8728.082   8822.134  12448.29    6670.2217\n 19202.309  10614.295  12790.173  10948.137  14758.794  10614.295\n  9120.121  12943.171   9077.554   9727.616  10614.295   7546.6235\n 18020.088  14758.794  18361.97   29978.012   6670.2217 10614.295\n  6924.5264 17048.367   7546.6235 19175.78   18882.06   23581.336\n  1440.3011 18882.06   18361.97    9664.318  16976.22   27373.967\n 12259.427  12790.173   6670.2217 15085.863  18735.51    7546.6235\n  2325.178  21410.396  13344.169  18361.97   14758.794   8474.83\n 12991.876  16235.455  13663.126  30849.502   9380.3125 10951.431\n 12448.29    6670.2217 18361.97   14758.794  10614.295   6670.2217\n  2036.1422 14758.794   6670.2217 15682.248  14713.856   8822.134\n  9522.765  18766.639   8728.082   8037.5244  9664.318  24288.889\n 15552.2705 19175.78    9664.318  18361.97   15682.248  32182.514\n 12790.173   6670.2217 15112.739  21290.795   7970.7075 15526.607\n 10614.295   8822.134  10614.295   8822.134  16383.655   6670.2217\n 10614.295   5446.7695  8822.134  16138.274  10472.742  23646.084\n  7546.6235  7546.6235 14531.867  16577.338  10604.969  10951.431\n  8822.134  20458.16  ].\nReshape your data either using array.reshape(-1, 1) if your data has a single feature or array.reshape(1, -1) if it contains a single sample.",
     "output_type": "error",
     "traceback": [
      "\u001b[1;31m---------------------------------------------------------------------------\u001b[0m",
      "\u001b[1;31mValueError\u001b[0m                                Traceback (most recent call last)",
      "Cell \u001b[1;32mIn[108], line 1\u001b[0m\n\u001b[1;32m----> 1\u001b[0m score \u001b[38;5;241m=\u001b[39m gr_model\u001b[38;5;241m.\u001b[39mscore(y_pred2, Y_test)\n\u001b[0;32m      2\u001b[0m \u001b[38;5;28mprint\u001b[39m(\u001b[38;5;124mf\u001b[39m\u001b[38;5;124m'\u001b[39m\u001b[38;5;124mModel Score: \u001b[39m\u001b[38;5;132;01m{\u001b[39;00mscore\u001b[38;5;132;01m}\u001b[39;00m\u001b[38;5;124m'\u001b[39m)\n",
      "File \u001b[1;32m~\\anaconda3\\Lib\\site-packages\\sklearn\\base.py:759\u001b[0m, in \u001b[0;36mRegressorMixin.score\u001b[1;34m(self, X, y, sample_weight)\u001b[0m\n\u001b[0;32m    717\u001b[0m \u001b[38;5;250m\u001b[39m\u001b[38;5;124;03m\"\"\"Return the coefficient of determination of the prediction.\u001b[39;00m\n\u001b[0;32m    718\u001b[0m \n\u001b[0;32m    719\u001b[0m \u001b[38;5;124;03mThe coefficient of determination :math:`R^2` is defined as\u001b[39;00m\n\u001b[1;32m   (...)\u001b[0m\n\u001b[0;32m    754\u001b[0m \u001b[38;5;124;03m:class:`~sklearn.multioutput.MultiOutputRegressor`).\u001b[39;00m\n\u001b[0;32m    755\u001b[0m \u001b[38;5;124;03m\"\"\"\u001b[39;00m\n\u001b[0;32m    757\u001b[0m \u001b[38;5;28;01mfrom\u001b[39;00m \u001b[38;5;21;01m.\u001b[39;00m\u001b[38;5;21;01mmetrics\u001b[39;00m \u001b[38;5;28;01mimport\u001b[39;00m r2_score\n\u001b[1;32m--> 759\u001b[0m y_pred \u001b[38;5;241m=\u001b[39m \u001b[38;5;28mself\u001b[39m\u001b[38;5;241m.\u001b[39mpredict(X)\n\u001b[0;32m    760\u001b[0m \u001b[38;5;28;01mreturn\u001b[39;00m r2_score(y, y_pred, sample_weight\u001b[38;5;241m=\u001b[39msample_weight)\n",
      "File \u001b[1;32m~\\anaconda3\\Lib\\site-packages\\sklearn\\ensemble\\_gb.py:1779\u001b[0m, in \u001b[0;36mGradientBoostingRegressor.predict\u001b[1;34m(self, X)\u001b[0m\n\u001b[0;32m   1764\u001b[0m \u001b[38;5;28;01mdef\u001b[39;00m \u001b[38;5;21mpredict\u001b[39m(\u001b[38;5;28mself\u001b[39m, X):\n\u001b[0;32m   1765\u001b[0m \u001b[38;5;250m    \u001b[39m\u001b[38;5;124;03m\"\"\"Predict regression target for X.\u001b[39;00m\n\u001b[0;32m   1766\u001b[0m \n\u001b[0;32m   1767\u001b[0m \u001b[38;5;124;03m    Parameters\u001b[39;00m\n\u001b[1;32m   (...)\u001b[0m\n\u001b[0;32m   1777\u001b[0m \u001b[38;5;124;03m        The predicted values.\u001b[39;00m\n\u001b[0;32m   1778\u001b[0m \u001b[38;5;124;03m    \"\"\"\u001b[39;00m\n\u001b[1;32m-> 1779\u001b[0m     X \u001b[38;5;241m=\u001b[39m \u001b[38;5;28mself\u001b[39m\u001b[38;5;241m.\u001b[39m_validate_data(\n\u001b[0;32m   1780\u001b[0m         X, dtype\u001b[38;5;241m=\u001b[39mDTYPE, order\u001b[38;5;241m=\u001b[39m\u001b[38;5;124m\"\u001b[39m\u001b[38;5;124mC\u001b[39m\u001b[38;5;124m\"\u001b[39m, accept_sparse\u001b[38;5;241m=\u001b[39m\u001b[38;5;124m\"\u001b[39m\u001b[38;5;124mcsr\u001b[39m\u001b[38;5;124m\"\u001b[39m, reset\u001b[38;5;241m=\u001b[39m\u001b[38;5;28;01mFalse\u001b[39;00m\n\u001b[0;32m   1781\u001b[0m     )\n\u001b[0;32m   1782\u001b[0m     \u001b[38;5;66;03m# In regression we can directly return the raw value from the trees.\u001b[39;00m\n\u001b[0;32m   1783\u001b[0m     \u001b[38;5;28;01mreturn\u001b[39;00m \u001b[38;5;28mself\u001b[39m\u001b[38;5;241m.\u001b[39m_raw_predict(X)\u001b[38;5;241m.\u001b[39mravel()\n",
      "File \u001b[1;32m~\\anaconda3\\Lib\\site-packages\\sklearn\\base.py:604\u001b[0m, in \u001b[0;36mBaseEstimator._validate_data\u001b[1;34m(self, X, y, reset, validate_separately, cast_to_ndarray, **check_params)\u001b[0m\n\u001b[0;32m    602\u001b[0m         out \u001b[38;5;241m=\u001b[39m X, y\n\u001b[0;32m    603\u001b[0m \u001b[38;5;28;01melif\u001b[39;00m \u001b[38;5;129;01mnot\u001b[39;00m no_val_X \u001b[38;5;129;01mand\u001b[39;00m no_val_y:\n\u001b[1;32m--> 604\u001b[0m     out \u001b[38;5;241m=\u001b[39m check_array(X, input_name\u001b[38;5;241m=\u001b[39m\u001b[38;5;124m\"\u001b[39m\u001b[38;5;124mX\u001b[39m\u001b[38;5;124m\"\u001b[39m, \u001b[38;5;241m*\u001b[39m\u001b[38;5;241m*\u001b[39mcheck_params)\n\u001b[0;32m    605\u001b[0m \u001b[38;5;28;01melif\u001b[39;00m no_val_X \u001b[38;5;129;01mand\u001b[39;00m \u001b[38;5;129;01mnot\u001b[39;00m no_val_y:\n\u001b[0;32m    606\u001b[0m     out \u001b[38;5;241m=\u001b[39m _check_y(y, \u001b[38;5;241m*\u001b[39m\u001b[38;5;241m*\u001b[39mcheck_params)\n",
      "File \u001b[1;32m~\\anaconda3\\Lib\\site-packages\\sklearn\\utils\\validation.py:940\u001b[0m, in \u001b[0;36mcheck_array\u001b[1;34m(array, accept_sparse, accept_large_sparse, dtype, order, copy, force_all_finite, ensure_2d, allow_nd, ensure_min_samples, ensure_min_features, estimator, input_name)\u001b[0m\n\u001b[0;32m    938\u001b[0m     \u001b[38;5;66;03m# If input is 1D raise error\u001b[39;00m\n\u001b[0;32m    939\u001b[0m     \u001b[38;5;28;01mif\u001b[39;00m array\u001b[38;5;241m.\u001b[39mndim \u001b[38;5;241m==\u001b[39m \u001b[38;5;241m1\u001b[39m:\n\u001b[1;32m--> 940\u001b[0m         \u001b[38;5;28;01mraise\u001b[39;00m \u001b[38;5;167;01mValueError\u001b[39;00m(\n\u001b[0;32m    941\u001b[0m             \u001b[38;5;124m\"\u001b[39m\u001b[38;5;124mExpected 2D array, got 1D array instead:\u001b[39m\u001b[38;5;130;01m\\n\u001b[39;00m\u001b[38;5;124marray=\u001b[39m\u001b[38;5;132;01m{}\u001b[39;00m\u001b[38;5;124m.\u001b[39m\u001b[38;5;130;01m\\n\u001b[39;00m\u001b[38;5;124m\"\u001b[39m\n\u001b[0;32m    942\u001b[0m             \u001b[38;5;124m\"\u001b[39m\u001b[38;5;124mReshape your data either using array.reshape(-1, 1) if \u001b[39m\u001b[38;5;124m\"\u001b[39m\n\u001b[0;32m    943\u001b[0m             \u001b[38;5;124m\"\u001b[39m\u001b[38;5;124myour data has a single feature or array.reshape(1, -1) \u001b[39m\u001b[38;5;124m\"\u001b[39m\n\u001b[0;32m    944\u001b[0m             \u001b[38;5;124m\"\u001b[39m\u001b[38;5;124mif it contains a single sample.\u001b[39m\u001b[38;5;124m\"\u001b[39m\u001b[38;5;241m.\u001b[39mformat(array)\n\u001b[0;32m    945\u001b[0m         )\n\u001b[0;32m    947\u001b[0m \u001b[38;5;28;01mif\u001b[39;00m dtype_numeric \u001b[38;5;129;01mand\u001b[39;00m \u001b[38;5;28mhasattr\u001b[39m(array\u001b[38;5;241m.\u001b[39mdtype, \u001b[38;5;124m\"\u001b[39m\u001b[38;5;124mkind\u001b[39m\u001b[38;5;124m\"\u001b[39m) \u001b[38;5;129;01mand\u001b[39;00m array\u001b[38;5;241m.\u001b[39mdtype\u001b[38;5;241m.\u001b[39mkind \u001b[38;5;129;01min\u001b[39;00m \u001b[38;5;124m\"\u001b[39m\u001b[38;5;124mUSV\u001b[39m\u001b[38;5;124m\"\u001b[39m:\n\u001b[0;32m    948\u001b[0m     \u001b[38;5;28;01mraise\u001b[39;00m \u001b[38;5;167;01mValueError\u001b[39;00m(\n\u001b[0;32m    949\u001b[0m         \u001b[38;5;124m\"\u001b[39m\u001b[38;5;124mdtype=\u001b[39m\u001b[38;5;124m'\u001b[39m\u001b[38;5;124mnumeric\u001b[39m\u001b[38;5;124m'\u001b[39m\u001b[38;5;124m is not compatible with arrays of bytes/strings.\u001b[39m\u001b[38;5;124m\"\u001b[39m\n\u001b[0;32m    950\u001b[0m         \u001b[38;5;124m\"\u001b[39m\u001b[38;5;124mConvert your data to numeric values explicitly instead.\u001b[39m\u001b[38;5;124m\"\u001b[39m\n\u001b[0;32m    951\u001b[0m     )\n",
      "\u001b[1;31mValueError\u001b[0m: Expected 2D array, got 1D array instead:\narray=[12790.173   8474.83    8728.082   8822.134  12448.29    6670.2217\n 19202.309  10614.295  12790.173  10948.137  14758.794  10614.295\n  9120.121  12943.171   9077.554   9727.616  10614.295   7546.6235\n 18020.088  14758.794  18361.97   29978.012   6670.2217 10614.295\n  6924.5264 17048.367   7546.6235 19175.78   18882.06   23581.336\n  1440.3011 18882.06   18361.97    9664.318  16976.22   27373.967\n 12259.427  12790.173   6670.2217 15085.863  18735.51    7546.6235\n  2325.178  21410.396  13344.169  18361.97   14758.794   8474.83\n 12991.876  16235.455  13663.126  30849.502   9380.3125 10951.431\n 12448.29    6670.2217 18361.97   14758.794  10614.295   6670.2217\n  2036.1422 14758.794   6670.2217 15682.248  14713.856   8822.134\n  9522.765  18766.639   8728.082   8037.5244  9664.318  24288.889\n 15552.2705 19175.78    9664.318  18361.97   15682.248  32182.514\n 12790.173   6670.2217 15112.739  21290.795   7970.7075 15526.607\n 10614.295   8822.134  10614.295   8822.134  16383.655   6670.2217\n 10614.295   5446.7695  8822.134  16138.274  10472.742  23646.084\n  7546.6235  7546.6235 14531.867  16577.338  10604.969  10951.431\n  8822.134  20458.16  ].\nReshape your data either using array.reshape(-1, 1) if your data has a single feature or array.reshape(1, -1) if it contains a single sample."
     ]
    }
   ],
   "source": [
    "score = gr_model.score(y_pred2, Y_test)\n",
    "print(f'Model Score: {score}')"
   ]
  },
  {
   "cell_type": "code",
   "execution_count": 113,
   "id": "53f11e5d",
   "metadata": {},
   "outputs": [
    {
     "ename": "ValueError",
     "evalue": "Expected 2D array, got 1D array instead:\narray=[13426.49619634  7150.99093488 10448.55766179  8930.88075703\n 13200.97083238  6062.70042982 18844.13834953 11048.75856182\n 13270.41709481 14459.97121113 14608.53820612 11048.75856182\n  8435.74678979 13520.31119831 10900.19156683  9764.0027069\n 11048.75856182  6977.37527881 18590.10017466 14608.53820612\n 18815.62553862 33055.51608239  6062.70042982 11048.75856182\n  6927.91540299 15997.07478924  6977.37527881 20829.56714903\n 28013.6950189  18395.30851041  1806.26837661 28013.6950189\n 18659.54643709 10215.63661194 15927.62852682 27906.17054365\n 12878.10825979 13270.41709481  6062.70042982 14266.64484291\n 19145.67027409  6977.37527881 11848.38490063 15940.94245059\n 12437.29514494 18659.54643709 14608.53820612  7150.99093488\n 12779.18850815 16771.31999376 14696.20094463 28046.2839625\n  7984.11288475 11946.06655828 13200.97083238  6062.70042982\n 18659.54643709 14608.53820612 11048.75856182  6062.70042982\n  3680.48696609 14608.53820612  6062.70042982 17080.09084262\n 15000.84704114  8930.88075703 10371.71571347 17826.42448722\n 10448.55766179  9459.35661038 10215.63661194 24396.7560247\n 16437.8879041  20829.56714903 10215.63661194 18659.54643709\n 17080.09084262 34094.6449195  13270.41709481  6062.70042982\n 14098.27882884 21217.83811745  8757.26510096 16525.5506426\n 11048.75856182  8930.88075703 11048.75856182  8930.88075703\n 15585.89062978  6062.70042982 11048.75856182  3167.61258843\n  8930.88075703 16632.35723583 11204.83766335 22567.40632673\n  6977.37527881  6977.37527881 15255.84589431 16830.19673912\n 10661.31070336 11946.06655828  8016.20590804 16432.4819696 ].\nReshape your data either using array.reshape(-1, 1) if your data has a single feature or array.reshape(1, -1) if it contains a single sample.",
     "output_type": "error",
     "traceback": [
      "\u001b[1;31m---------------------------------------------------------------------------\u001b[0m",
      "\u001b[1;31mValueError\u001b[0m                                Traceback (most recent call last)",
      "Cell \u001b[1;32mIn[113], line 1\u001b[0m\n\u001b[1;32m----> 1\u001b[0m score \u001b[38;5;241m=\u001b[39m lr_model\u001b[38;5;241m.\u001b[39mscore(y_pred3, Y_test)\n\u001b[0;32m      2\u001b[0m \u001b[38;5;28mprint\u001b[39m(\u001b[38;5;124mf\u001b[39m\u001b[38;5;124m'\u001b[39m\u001b[38;5;124mModel Score: \u001b[39m\u001b[38;5;132;01m{\u001b[39;00mscore\u001b[38;5;132;01m}\u001b[39;00m\u001b[38;5;124m'\u001b[39m)\n",
      "File \u001b[1;32m~\\anaconda3\\Lib\\site-packages\\sklearn\\base.py:759\u001b[0m, in \u001b[0;36mRegressorMixin.score\u001b[1;34m(self, X, y, sample_weight)\u001b[0m\n\u001b[0;32m    717\u001b[0m \u001b[38;5;250m\u001b[39m\u001b[38;5;124;03m\"\"\"Return the coefficient of determination of the prediction.\u001b[39;00m\n\u001b[0;32m    718\u001b[0m \n\u001b[0;32m    719\u001b[0m \u001b[38;5;124;03mThe coefficient of determination :math:`R^2` is defined as\u001b[39;00m\n\u001b[1;32m   (...)\u001b[0m\n\u001b[0;32m    754\u001b[0m \u001b[38;5;124;03m:class:`~sklearn.multioutput.MultiOutputRegressor`).\u001b[39;00m\n\u001b[0;32m    755\u001b[0m \u001b[38;5;124;03m\"\"\"\u001b[39;00m\n\u001b[0;32m    757\u001b[0m \u001b[38;5;28;01mfrom\u001b[39;00m \u001b[38;5;21;01m.\u001b[39;00m\u001b[38;5;21;01mmetrics\u001b[39;00m \u001b[38;5;28;01mimport\u001b[39;00m r2_score\n\u001b[1;32m--> 759\u001b[0m y_pred \u001b[38;5;241m=\u001b[39m \u001b[38;5;28mself\u001b[39m\u001b[38;5;241m.\u001b[39mpredict(X)\n\u001b[0;32m    760\u001b[0m \u001b[38;5;28;01mreturn\u001b[39;00m r2_score(y, y_pred, sample_weight\u001b[38;5;241m=\u001b[39msample_weight)\n",
      "File \u001b[1;32m~\\anaconda3\\Lib\\site-packages\\sklearn\\linear_model\\_base.py:386\u001b[0m, in \u001b[0;36mLinearModel.predict\u001b[1;34m(self, X)\u001b[0m\n\u001b[0;32m    372\u001b[0m \u001b[38;5;28;01mdef\u001b[39;00m \u001b[38;5;21mpredict\u001b[39m(\u001b[38;5;28mself\u001b[39m, X):\n\u001b[0;32m    373\u001b[0m \u001b[38;5;250m    \u001b[39m\u001b[38;5;124;03m\"\"\"\u001b[39;00m\n\u001b[0;32m    374\u001b[0m \u001b[38;5;124;03m    Predict using the linear model.\u001b[39;00m\n\u001b[0;32m    375\u001b[0m \n\u001b[1;32m   (...)\u001b[0m\n\u001b[0;32m    384\u001b[0m \u001b[38;5;124;03m        Returns predicted values.\u001b[39;00m\n\u001b[0;32m    385\u001b[0m \u001b[38;5;124;03m    \"\"\"\u001b[39;00m\n\u001b[1;32m--> 386\u001b[0m     \u001b[38;5;28;01mreturn\u001b[39;00m \u001b[38;5;28mself\u001b[39m\u001b[38;5;241m.\u001b[39m_decision_function(X)\n",
      "File \u001b[1;32m~\\anaconda3\\Lib\\site-packages\\sklearn\\linear_model\\_base.py:369\u001b[0m, in \u001b[0;36mLinearModel._decision_function\u001b[1;34m(self, X)\u001b[0m\n\u001b[0;32m    366\u001b[0m \u001b[38;5;28;01mdef\u001b[39;00m \u001b[38;5;21m_decision_function\u001b[39m(\u001b[38;5;28mself\u001b[39m, X):\n\u001b[0;32m    367\u001b[0m     check_is_fitted(\u001b[38;5;28mself\u001b[39m)\n\u001b[1;32m--> 369\u001b[0m     X \u001b[38;5;241m=\u001b[39m \u001b[38;5;28mself\u001b[39m\u001b[38;5;241m.\u001b[39m_validate_data(X, accept_sparse\u001b[38;5;241m=\u001b[39m[\u001b[38;5;124m\"\u001b[39m\u001b[38;5;124mcsr\u001b[39m\u001b[38;5;124m\"\u001b[39m, \u001b[38;5;124m\"\u001b[39m\u001b[38;5;124mcsc\u001b[39m\u001b[38;5;124m\"\u001b[39m, \u001b[38;5;124m\"\u001b[39m\u001b[38;5;124mcoo\u001b[39m\u001b[38;5;124m\"\u001b[39m], reset\u001b[38;5;241m=\u001b[39m\u001b[38;5;28;01mFalse\u001b[39;00m)\n\u001b[0;32m    370\u001b[0m     \u001b[38;5;28;01mreturn\u001b[39;00m safe_sparse_dot(X, \u001b[38;5;28mself\u001b[39m\u001b[38;5;241m.\u001b[39mcoef_\u001b[38;5;241m.\u001b[39mT, dense_output\u001b[38;5;241m=\u001b[39m\u001b[38;5;28;01mTrue\u001b[39;00m) \u001b[38;5;241m+\u001b[39m \u001b[38;5;28mself\u001b[39m\u001b[38;5;241m.\u001b[39mintercept_\n",
      "File \u001b[1;32m~\\anaconda3\\Lib\\site-packages\\sklearn\\base.py:604\u001b[0m, in \u001b[0;36mBaseEstimator._validate_data\u001b[1;34m(self, X, y, reset, validate_separately, cast_to_ndarray, **check_params)\u001b[0m\n\u001b[0;32m    602\u001b[0m         out \u001b[38;5;241m=\u001b[39m X, y\n\u001b[0;32m    603\u001b[0m \u001b[38;5;28;01melif\u001b[39;00m \u001b[38;5;129;01mnot\u001b[39;00m no_val_X \u001b[38;5;129;01mand\u001b[39;00m no_val_y:\n\u001b[1;32m--> 604\u001b[0m     out \u001b[38;5;241m=\u001b[39m check_array(X, input_name\u001b[38;5;241m=\u001b[39m\u001b[38;5;124m\"\u001b[39m\u001b[38;5;124mX\u001b[39m\u001b[38;5;124m\"\u001b[39m, \u001b[38;5;241m*\u001b[39m\u001b[38;5;241m*\u001b[39mcheck_params)\n\u001b[0;32m    605\u001b[0m \u001b[38;5;28;01melif\u001b[39;00m no_val_X \u001b[38;5;129;01mand\u001b[39;00m \u001b[38;5;129;01mnot\u001b[39;00m no_val_y:\n\u001b[0;32m    606\u001b[0m     out \u001b[38;5;241m=\u001b[39m _check_y(y, \u001b[38;5;241m*\u001b[39m\u001b[38;5;241m*\u001b[39mcheck_params)\n",
      "File \u001b[1;32m~\\anaconda3\\Lib\\site-packages\\sklearn\\utils\\validation.py:940\u001b[0m, in \u001b[0;36mcheck_array\u001b[1;34m(array, accept_sparse, accept_large_sparse, dtype, order, copy, force_all_finite, ensure_2d, allow_nd, ensure_min_samples, ensure_min_features, estimator, input_name)\u001b[0m\n\u001b[0;32m    938\u001b[0m     \u001b[38;5;66;03m# If input is 1D raise error\u001b[39;00m\n\u001b[0;32m    939\u001b[0m     \u001b[38;5;28;01mif\u001b[39;00m array\u001b[38;5;241m.\u001b[39mndim \u001b[38;5;241m==\u001b[39m \u001b[38;5;241m1\u001b[39m:\n\u001b[1;32m--> 940\u001b[0m         \u001b[38;5;28;01mraise\u001b[39;00m \u001b[38;5;167;01mValueError\u001b[39;00m(\n\u001b[0;32m    941\u001b[0m             \u001b[38;5;124m\"\u001b[39m\u001b[38;5;124mExpected 2D array, got 1D array instead:\u001b[39m\u001b[38;5;130;01m\\n\u001b[39;00m\u001b[38;5;124marray=\u001b[39m\u001b[38;5;132;01m{}\u001b[39;00m\u001b[38;5;124m.\u001b[39m\u001b[38;5;130;01m\\n\u001b[39;00m\u001b[38;5;124m\"\u001b[39m\n\u001b[0;32m    942\u001b[0m             \u001b[38;5;124m\"\u001b[39m\u001b[38;5;124mReshape your data either using array.reshape(-1, 1) if \u001b[39m\u001b[38;5;124m\"\u001b[39m\n\u001b[0;32m    943\u001b[0m             \u001b[38;5;124m\"\u001b[39m\u001b[38;5;124myour data has a single feature or array.reshape(1, -1) \u001b[39m\u001b[38;5;124m\"\u001b[39m\n\u001b[0;32m    944\u001b[0m             \u001b[38;5;124m\"\u001b[39m\u001b[38;5;124mif it contains a single sample.\u001b[39m\u001b[38;5;124m\"\u001b[39m\u001b[38;5;241m.\u001b[39mformat(array)\n\u001b[0;32m    945\u001b[0m         )\n\u001b[0;32m    947\u001b[0m \u001b[38;5;28;01mif\u001b[39;00m dtype_numeric \u001b[38;5;129;01mand\u001b[39;00m \u001b[38;5;28mhasattr\u001b[39m(array\u001b[38;5;241m.\u001b[39mdtype, \u001b[38;5;124m\"\u001b[39m\u001b[38;5;124mkind\u001b[39m\u001b[38;5;124m\"\u001b[39m) \u001b[38;5;129;01mand\u001b[39;00m array\u001b[38;5;241m.\u001b[39mdtype\u001b[38;5;241m.\u001b[39mkind \u001b[38;5;129;01min\u001b[39;00m \u001b[38;5;124m\"\u001b[39m\u001b[38;5;124mUSV\u001b[39m\u001b[38;5;124m\"\u001b[39m:\n\u001b[0;32m    948\u001b[0m     \u001b[38;5;28;01mraise\u001b[39;00m \u001b[38;5;167;01mValueError\u001b[39;00m(\n\u001b[0;32m    949\u001b[0m         \u001b[38;5;124m\"\u001b[39m\u001b[38;5;124mdtype=\u001b[39m\u001b[38;5;124m'\u001b[39m\u001b[38;5;124mnumeric\u001b[39m\u001b[38;5;124m'\u001b[39m\u001b[38;5;124m is not compatible with arrays of bytes/strings.\u001b[39m\u001b[38;5;124m\"\u001b[39m\n\u001b[0;32m    950\u001b[0m         \u001b[38;5;124m\"\u001b[39m\u001b[38;5;124mConvert your data to numeric values explicitly instead.\u001b[39m\u001b[38;5;124m\"\u001b[39m\n\u001b[0;32m    951\u001b[0m     )\n",
      "\u001b[1;31mValueError\u001b[0m: Expected 2D array, got 1D array instead:\narray=[13426.49619634  7150.99093488 10448.55766179  8930.88075703\n 13200.97083238  6062.70042982 18844.13834953 11048.75856182\n 13270.41709481 14459.97121113 14608.53820612 11048.75856182\n  8435.74678979 13520.31119831 10900.19156683  9764.0027069\n 11048.75856182  6977.37527881 18590.10017466 14608.53820612\n 18815.62553862 33055.51608239  6062.70042982 11048.75856182\n  6927.91540299 15997.07478924  6977.37527881 20829.56714903\n 28013.6950189  18395.30851041  1806.26837661 28013.6950189\n 18659.54643709 10215.63661194 15927.62852682 27906.17054365\n 12878.10825979 13270.41709481  6062.70042982 14266.64484291\n 19145.67027409  6977.37527881 11848.38490063 15940.94245059\n 12437.29514494 18659.54643709 14608.53820612  7150.99093488\n 12779.18850815 16771.31999376 14696.20094463 28046.2839625\n  7984.11288475 11946.06655828 13200.97083238  6062.70042982\n 18659.54643709 14608.53820612 11048.75856182  6062.70042982\n  3680.48696609 14608.53820612  6062.70042982 17080.09084262\n 15000.84704114  8930.88075703 10371.71571347 17826.42448722\n 10448.55766179  9459.35661038 10215.63661194 24396.7560247\n 16437.8879041  20829.56714903 10215.63661194 18659.54643709\n 17080.09084262 34094.6449195  13270.41709481  6062.70042982\n 14098.27882884 21217.83811745  8757.26510096 16525.5506426\n 11048.75856182  8930.88075703 11048.75856182  8930.88075703\n 15585.89062978  6062.70042982 11048.75856182  3167.61258843\n  8930.88075703 16632.35723583 11204.83766335 22567.40632673\n  6977.37527881  6977.37527881 15255.84589431 16830.19673912\n 10661.31070336 11946.06655828  8016.20590804 16432.4819696 ].\nReshape your data either using array.reshape(-1, 1) if your data has a single feature or array.reshape(1, -1) if it contains a single sample."
     ]
    }
   ],
   "source": [
    "score = lr_model.score(y_pred3, Y_test)\n",
    "print(f'Model Score: {score}')"
   ]
  },
  {
   "cell_type": "code",
   "execution_count": null,
   "id": "435b2136",
   "metadata": {},
   "outputs": [],
   "source": [
    "encoding_Processed_Flipdata.columns.values[60:90]"
   ]
  },
  {
   "cell_type": "code",
   "execution_count": null,
   "id": "f73571e1",
   "metadata": {},
   "outputs": [],
   "source": [
    "from sklearn.metrics import mean_absolute_error, mean_squared_error, r2_score\n",
    "\n",
    "mae = mean_absolute_error(y_test, y_pred)\n",
    "mse = mean_squared_error(y_test, y_pred)\n",
    "r2 = r2_score(y_test, y_pred)\n",
    "\n",
    "print(\"Mean Absolute Error:\", mae)\n",
    "print(\"Mean Squared Error:\", mse)\n",
    "print(\"R-squared:\", r2)"
   ]
  },
  {
   "cell_type": "code",
   "execution_count": null,
   "id": "b59be284",
   "metadata": {},
   "outputs": [],
   "source": []
  },
  {
   "cell_type": "code",
   "execution_count": null,
   "id": "82d6a309",
   "metadata": {},
   "outputs": [],
   "source": [
    "#from sklearn.model_selection import train_test_split"
   ]
  },
  {
   "cell_type": "code",
   "execution_count": null,
   "id": "cd641637",
   "metadata": {},
   "outputs": [],
   "source": [
    "#X=encoding_Processed_Flipdata.drop('Prize',axis=1)\n",
    "#Y=encoding_Processed_Flipdata.Prize"
   ]
  },
  {
   "cell_type": "code",
   "execution_count": null,
   "id": "183b52b4",
   "metadata": {},
   "outputs": [],
   "source": [
    "#X"
   ]
  },
  {
   "cell_type": "code",
   "execution_count": null,
   "id": "9d6f05d6",
   "metadata": {},
   "outputs": [],
   "source": [
    "#Y"
   ]
  },
  {
   "cell_type": "code",
   "execution_count": null,
   "id": "4cb15711",
   "metadata": {},
   "outputs": [],
   "source": [
    "#X_train, X_test, Y_train, Y_test = train_test_split(X, Y, test_size=0.2, random_state=2)"
   ]
  },
  {
   "cell_type": "code",
   "execution_count": null,
   "id": "ca143ebb",
   "metadata": {},
   "outputs": [],
   "source": [
    "#from sklearn.preprocessing import StandardScaler"
   ]
  },
  {
   "cell_type": "code",
   "execution_count": null,
   "id": "4a9d8c36",
   "metadata": {},
   "outputs": [],
   "source": [
    "#scaler = StandardScaler()"
   ]
  },
  {
   "cell_type": "code",
   "execution_count": null,
   "id": "9a3b3314",
   "metadata": {},
   "outputs": [],
   "source": [
    "#X_train_scaled=scaler.fit_transform(X_train)\n",
    "#X_test_scaled=scaler.transform(X_test)"
   ]
  },
  {
   "cell_type": "code",
   "execution_count": null,
   "id": "8d854c1a",
   "metadata": {},
   "outputs": [],
   "source": [
    "#X_train_scaled"
   ]
  },
  {
   "cell_type": "code",
   "execution_count": null,
   "id": "f0a28d44",
   "metadata": {},
   "outputs": [],
   "source": [
    "#X_test_scaled"
   ]
  },
  {
   "cell_type": "code",
   "execution_count": null,
   "id": "5754456c",
   "metadata": {},
   "outputs": [],
   "source": [
    "#pd.DataFrame(X_train_scaled,columns=X_train.columns)"
   ]
  },
  {
   "cell_type": "code",
   "execution_count": null,
   "id": "751a1047",
   "metadata": {},
   "outputs": [],
   "source": [
    "#from sklearn.ensemble import RandomForestRegressor"
   ]
  },
  {
   "cell_type": "code",
   "execution_count": null,
   "id": "e15acc82",
   "metadata": {},
   "outputs": [],
   "source": [
    "#model = RandomForestRegressor()"
   ]
  },
  {
   "cell_type": "code",
   "execution_count": null,
   "id": "d908e7e5",
   "metadata": {},
   "outputs": [],
   "source": [
    "#model.fit(X_train_scaled,Y_train)"
   ]
  },
  {
   "cell_type": "code",
   "execution_count": null,
   "id": "9ad6f4e1",
   "metadata": {},
   "outputs": [],
   "source": [
    "#y_pred = model.predict(X_test_scaled)"
   ]
  },
  {
   "cell_type": "code",
   "execution_count": null,
   "id": "52bf6821",
   "metadata": {},
   "outputs": [],
   "source": [
    "#y_pred"
   ]
  },
  {
   "cell_type": "code",
   "execution_count": null,
   "id": "516f4c35",
   "metadata": {},
   "outputs": [],
   "source": [
    "#score = model.score(X_test_scaled, Y_test)\n",
    "print(f'Model Score: {score}')"
   ]
  },
  {
   "cell_type": "code",
   "execution_count": null,
   "id": "d95614fb",
   "metadata": {},
   "outputs": [],
   "source": []
  }
 ],
 "metadata": {
  "kernelspec": {
   "display_name": "Python 3 (ipykernel)",
   "language": "python",
   "name": "python3"
  },
  "language_info": {
   "codemirror_mode": {
    "name": "ipython",
    "version": 3
   },
   "file_extension": ".py",
   "mimetype": "text/x-python",
   "name": "python",
   "nbconvert_exporter": "python",
   "pygments_lexer": "ipython3",
   "version": "3.11.5"
  }
 },
 "nbformat": 4,
 "nbformat_minor": 5
}
