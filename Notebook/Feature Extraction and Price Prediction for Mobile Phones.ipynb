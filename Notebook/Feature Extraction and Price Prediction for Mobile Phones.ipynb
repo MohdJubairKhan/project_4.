{
 "cells": [
  {
   "cell_type": "markdown",
   "id": "b3364169",
   "metadata": {},
   "source": [
    "# 1. Data Exploration:"
   ]
  },
  {
   "cell_type": "markdown",
   "id": "7438546f",
   "metadata": {},
   "source": [
    "# Import_Libraries"
   ]
  },
  {
   "cell_type": "code",
   "execution_count": 1,
   "id": "f2485f51",
   "metadata": {},
   "outputs": [],
   "source": [
    "import pandas as pd\n",
    "import numpy as np\n",
    "import seaborn as sns\n",
    "import matplotlib.pyplot as plt\n",
    "import warnings\n",
    "warnings.filterwarnings(\"ignore\")"
   ]
  },
  {
   "cell_type": "markdown",
   "id": "4dee5a5d",
   "metadata": {},
   "source": [
    "# Load the dataset"
   ]
  },
  {
   "cell_type": "code",
   "execution_count": 2,
   "id": "0f6f452f",
   "metadata": {},
   "outputs": [],
   "source": [
    "Processed_Flipdata = pd.read_excel('Processed_Flipdata.xlsx')"
   ]
  },
  {
   "cell_type": "markdown",
   "id": "2a8a0ee5",
   "metadata": {},
   "source": [
    "# Display the first few rows of the dataset"
   ]
  },
  {
   "cell_type": "code",
   "execution_count": 3,
   "id": "f9d7397b",
   "metadata": {},
   "outputs": [
    {
     "data": {
      "text/html": [
       "<div>\n",
       "<style scoped>\n",
       "    .dataframe tbody tr th:only-of-type {\n",
       "        vertical-align: middle;\n",
       "    }\n",
       "\n",
       "    .dataframe tbody tr th {\n",
       "        vertical-align: top;\n",
       "    }\n",
       "\n",
       "    .dataframe thead th {\n",
       "        text-align: right;\n",
       "    }\n",
       "</style>\n",
       "<table border=\"1\" class=\"dataframe\">\n",
       "  <thead>\n",
       "    <tr style=\"text-align: right;\">\n",
       "      <th></th>\n",
       "      <th>Unnamed: 0</th>\n",
       "      <th>Model</th>\n",
       "      <th>Colour</th>\n",
       "      <th>Memory</th>\n",
       "      <th>RAM</th>\n",
       "      <th>Battery_</th>\n",
       "      <th>Rear Camera</th>\n",
       "      <th>Front Camera</th>\n",
       "      <th>AI Lens</th>\n",
       "      <th>Mobile Height</th>\n",
       "      <th>Processor_</th>\n",
       "      <th>Prize</th>\n",
       "    </tr>\n",
       "  </thead>\n",
       "  <tbody>\n",
       "    <tr>\n",
       "      <th>0</th>\n",
       "      <td>0</td>\n",
       "      <td>Infinix SMART 7</td>\n",
       "      <td>Night Black</td>\n",
       "      <td>64</td>\n",
       "      <td>4</td>\n",
       "      <td>6000</td>\n",
       "      <td>13MP</td>\n",
       "      <td>5MP</td>\n",
       "      <td>1</td>\n",
       "      <td>16.76</td>\n",
       "      <td>Unisoc Spreadtrum SC9863A1</td>\n",
       "      <td>7299</td>\n",
       "    </tr>\n",
       "    <tr>\n",
       "      <th>1</th>\n",
       "      <td>1</td>\n",
       "      <td>Infinix SMART 7</td>\n",
       "      <td>Azure Blue</td>\n",
       "      <td>64</td>\n",
       "      <td>4</td>\n",
       "      <td>6000</td>\n",
       "      <td>13MP</td>\n",
       "      <td>5MP</td>\n",
       "      <td>1</td>\n",
       "      <td>16.76</td>\n",
       "      <td>Unisoc Spreadtrum SC9863A1</td>\n",
       "      <td>7299</td>\n",
       "    </tr>\n",
       "    <tr>\n",
       "      <th>2</th>\n",
       "      <td>2</td>\n",
       "      <td>MOTOROLA G32</td>\n",
       "      <td>Mineral Gray</td>\n",
       "      <td>128</td>\n",
       "      <td>8</td>\n",
       "      <td>5000</td>\n",
       "      <td>50MP</td>\n",
       "      <td>16MP</td>\n",
       "      <td>0</td>\n",
       "      <td>16.64</td>\n",
       "      <td>Qualcomm Snapdragon 680</td>\n",
       "      <td>11999</td>\n",
       "    </tr>\n",
       "    <tr>\n",
       "      <th>3</th>\n",
       "      <td>3</td>\n",
       "      <td>POCO C50</td>\n",
       "      <td>Royal Blue</td>\n",
       "      <td>32</td>\n",
       "      <td>2</td>\n",
       "      <td>5000</td>\n",
       "      <td>8MP</td>\n",
       "      <td>5MP</td>\n",
       "      <td>0</td>\n",
       "      <td>16.56</td>\n",
       "      <td>Mediatek Helio A22</td>\n",
       "      <td>5649</td>\n",
       "    </tr>\n",
       "    <tr>\n",
       "      <th>4</th>\n",
       "      <td>4</td>\n",
       "      <td>Infinix HOT 30i</td>\n",
       "      <td>Marigold</td>\n",
       "      <td>128</td>\n",
       "      <td>8</td>\n",
       "      <td>5000</td>\n",
       "      <td>50MP</td>\n",
       "      <td>5MP</td>\n",
       "      <td>1</td>\n",
       "      <td>16.76</td>\n",
       "      <td>G37</td>\n",
       "      <td>8999</td>\n",
       "    </tr>\n",
       "  </tbody>\n",
       "</table>\n",
       "</div>"
      ],
      "text/plain": [
       "   Unnamed: 0            Model        Colour  Memory  RAM  Battery_  \\\n",
       "0           0  Infinix SMART 7   Night Black      64    4      6000   \n",
       "1           1  Infinix SMART 7    Azure Blue      64    4      6000   \n",
       "2           2     MOTOROLA G32  Mineral Gray     128    8      5000   \n",
       "3           3         POCO C50    Royal Blue      32    2      5000   \n",
       "4           4  Infinix HOT 30i      Marigold     128    8      5000   \n",
       "\n",
       "  Rear Camera Front Camera  AI Lens  Mobile Height  \\\n",
       "0        13MP          5MP        1          16.76   \n",
       "1        13MP          5MP        1          16.76   \n",
       "2        50MP         16MP        0          16.64   \n",
       "3         8MP          5MP        0          16.56   \n",
       "4        50MP          5MP        1          16.76   \n",
       "\n",
       "                   Processor_  Prize  \n",
       "0  Unisoc Spreadtrum SC9863A1   7299  \n",
       "1  Unisoc Spreadtrum SC9863A1   7299  \n",
       "2     Qualcomm Snapdragon 680  11999  \n",
       "3          Mediatek Helio A22   5649  \n",
       "4                         G37   8999  "
      ]
     },
     "execution_count": 3,
     "metadata": {},
     "output_type": "execute_result"
    }
   ],
   "source": [
    "Processed_Flipdata.head(5)"
   ]
  },
  {
   "cell_type": "markdown",
   "id": "8efa8e8b",
   "metadata": {},
   "source": [
    "# Display the last few rows of the dataset"
   ]
  },
  {
   "cell_type": "code",
   "execution_count": 4,
   "id": "5f7c4b72",
   "metadata": {},
   "outputs": [
    {
     "data": {
      "text/html": [
       "<div>\n",
       "<style scoped>\n",
       "    .dataframe tbody tr th:only-of-type {\n",
       "        vertical-align: middle;\n",
       "    }\n",
       "\n",
       "    .dataframe tbody tr th {\n",
       "        vertical-align: top;\n",
       "    }\n",
       "\n",
       "    .dataframe thead th {\n",
       "        text-align: right;\n",
       "    }\n",
       "</style>\n",
       "<table border=\"1\" class=\"dataframe\">\n",
       "  <thead>\n",
       "    <tr style=\"text-align: right;\">\n",
       "      <th></th>\n",
       "      <th>Unnamed: 0</th>\n",
       "      <th>Model</th>\n",
       "      <th>Colour</th>\n",
       "      <th>Memory</th>\n",
       "      <th>RAM</th>\n",
       "      <th>Battery_</th>\n",
       "      <th>Rear Camera</th>\n",
       "      <th>Front Camera</th>\n",
       "      <th>AI Lens</th>\n",
       "      <th>Mobile Height</th>\n",
       "      <th>Processor_</th>\n",
       "      <th>Prize</th>\n",
       "    </tr>\n",
       "  </thead>\n",
       "  <tbody>\n",
       "    <tr>\n",
       "      <th>536</th>\n",
       "      <td>637</td>\n",
       "      <td>SAMSUNG Galaxy S23 5G</td>\n",
       "      <td>Cream</td>\n",
       "      <td>256</td>\n",
       "      <td>8</td>\n",
       "      <td>3900</td>\n",
       "      <td>50MP</td>\n",
       "      <td>12MP</td>\n",
       "      <td>0</td>\n",
       "      <td>15.49</td>\n",
       "      <td>Qualcomm Snapdragon 8 Gen 2</td>\n",
       "      <td>79999</td>\n",
       "    </tr>\n",
       "    <tr>\n",
       "      <th>537</th>\n",
       "      <td>638</td>\n",
       "      <td>LAVA Z21</td>\n",
       "      <td>Cyan</td>\n",
       "      <td>32</td>\n",
       "      <td>2</td>\n",
       "      <td>3100</td>\n",
       "      <td>5MP</td>\n",
       "      <td>2MP</td>\n",
       "      <td>0</td>\n",
       "      <td>12.70</td>\n",
       "      <td>Octa Core</td>\n",
       "      <td>5998</td>\n",
       "    </tr>\n",
       "    <tr>\n",
       "      <th>538</th>\n",
       "      <td>639</td>\n",
       "      <td>Tecno Spark 8T</td>\n",
       "      <td>Turquoise Cyan</td>\n",
       "      <td>64</td>\n",
       "      <td>4</td>\n",
       "      <td>5000</td>\n",
       "      <td>50MP</td>\n",
       "      <td>8MP</td>\n",
       "      <td>0</td>\n",
       "      <td>16.76</td>\n",
       "      <td>MediaTek Helio G35</td>\n",
       "      <td>9990</td>\n",
       "    </tr>\n",
       "    <tr>\n",
       "      <th>539</th>\n",
       "      <td>641</td>\n",
       "      <td>SAMSUNG Galaxy A54 5G</td>\n",
       "      <td>Awesome Lime</td>\n",
       "      <td>128</td>\n",
       "      <td>8</td>\n",
       "      <td>5000</td>\n",
       "      <td>50MP</td>\n",
       "      <td>32MP</td>\n",
       "      <td>0</td>\n",
       "      <td>16.26</td>\n",
       "      <td>Exynos 1380, Octa Core</td>\n",
       "      <td>38999</td>\n",
       "    </tr>\n",
       "    <tr>\n",
       "      <th>540</th>\n",
       "      <td>642</td>\n",
       "      <td>OPPO A77</td>\n",
       "      <td>Sky Blue</td>\n",
       "      <td>128</td>\n",
       "      <td>4</td>\n",
       "      <td>5000</td>\n",
       "      <td>50MP</td>\n",
       "      <td>8MP</td>\n",
       "      <td>0</td>\n",
       "      <td>16.66</td>\n",
       "      <td>Mediatek Helio G35</td>\n",
       "      <td>15999</td>\n",
       "    </tr>\n",
       "  </tbody>\n",
       "</table>\n",
       "</div>"
      ],
      "text/plain": [
       "     Unnamed: 0                  Model          Colour  Memory  RAM  Battery_  \\\n",
       "536         637  SAMSUNG Galaxy S23 5G           Cream     256    8      3900   \n",
       "537         638               LAVA Z21            Cyan      32    2      3100   \n",
       "538         639         Tecno Spark 8T  Turquoise Cyan      64    4      5000   \n",
       "539         641  SAMSUNG Galaxy A54 5G    Awesome Lime     128    8      5000   \n",
       "540         642               OPPO A77        Sky Blue     128    4      5000   \n",
       "\n",
       "    Rear Camera Front Camera  AI Lens  Mobile Height  \\\n",
       "536        50MP         12MP        0          15.49   \n",
       "537         5MP          2MP        0          12.70   \n",
       "538        50MP          8MP        0          16.76   \n",
       "539        50MP         32MP        0          16.26   \n",
       "540        50MP          8MP        0          16.66   \n",
       "\n",
       "                      Processor_  Prize  \n",
       "536  Qualcomm Snapdragon 8 Gen 2  79999  \n",
       "537                    Octa Core   5998  \n",
       "538           MediaTek Helio G35   9990  \n",
       "539      Exynos 1380, Octa Core   38999  \n",
       "540           Mediatek Helio G35  15999  "
      ]
     },
     "execution_count": 4,
     "metadata": {},
     "output_type": "execute_result"
    }
   ],
   "source": [
    "Processed_Flipdata.tail(5)"
   ]
  },
  {
   "cell_type": "markdown",
   "id": "08c11b78",
   "metadata": {},
   "source": [
    "# Display information about the dataset"
   ]
  },
  {
   "cell_type": "code",
   "execution_count": 5,
   "id": "e743e0f7",
   "metadata": {},
   "outputs": [
    {
     "name": "stdout",
     "output_type": "stream",
     "text": [
      "<class 'pandas.core.frame.DataFrame'>\n",
      "RangeIndex: 541 entries, 0 to 540\n",
      "Data columns (total 12 columns):\n",
      " #   Column         Non-Null Count  Dtype  \n",
      "---  ------         --------------  -----  \n",
      " 0   Unnamed: 0     541 non-null    int64  \n",
      " 1   Model          541 non-null    object \n",
      " 2   Colour         541 non-null    object \n",
      " 3   Memory         541 non-null    int64  \n",
      " 4   RAM            541 non-null    int64  \n",
      " 5   Battery_       541 non-null    int64  \n",
      " 6   Rear Camera    541 non-null    object \n",
      " 7   Front Camera   541 non-null    object \n",
      " 8   AI Lens        541 non-null    int64  \n",
      " 9   Mobile Height  541 non-null    float64\n",
      " 10  Processor_     541 non-null    object \n",
      " 11  Prize          541 non-null    int64  \n",
      "dtypes: float64(1), int64(6), object(5)\n",
      "memory usage: 50.8+ KB\n"
     ]
    }
   ],
   "source": [
    "Processed_Flipdata.info()"
   ]
  },
  {
   "cell_type": "code",
   "execution_count": 6,
   "id": "93e3bf2b",
   "metadata": {},
   "outputs": [
    {
     "data": {
      "text/plain": [
       "(541, 12)"
      ]
     },
     "execution_count": 6,
     "metadata": {},
     "output_type": "execute_result"
    }
   ],
   "source": [
    "Processed_Flipdata.shape"
   ]
  },
  {
   "cell_type": "code",
   "execution_count": 7,
   "id": "400c2d27",
   "metadata": {},
   "outputs": [
    {
     "data": {
      "text/plain": [
       "Index(['Unnamed: 0', 'Model', 'Colour', 'Memory', 'RAM', 'Battery_',\n",
       "       'Rear Camera', 'Front Camera', 'AI Lens', 'Mobile Height', 'Processor_',\n",
       "       'Prize'],\n",
       "      dtype='object')"
      ]
     },
     "execution_count": 7,
     "metadata": {},
     "output_type": "execute_result"
    }
   ],
   "source": [
    "Processed_Flipdata.columns"
   ]
  },
  {
   "cell_type": "markdown",
   "id": "d74b4677",
   "metadata": {},
   "source": [
    "# Display statistical summary of the dataset"
   ]
  },
  {
   "cell_type": "code",
   "execution_count": 8,
   "id": "fbbe899b",
   "metadata": {},
   "outputs": [
    {
     "data": {
      "text/html": [
       "<div>\n",
       "<style scoped>\n",
       "    .dataframe tbody tr th:only-of-type {\n",
       "        vertical-align: middle;\n",
       "    }\n",
       "\n",
       "    .dataframe tbody tr th {\n",
       "        vertical-align: top;\n",
       "    }\n",
       "\n",
       "    .dataframe thead th {\n",
       "        text-align: right;\n",
       "    }\n",
       "</style>\n",
       "<table border=\"1\" class=\"dataframe\">\n",
       "  <thead>\n",
       "    <tr style=\"text-align: right;\">\n",
       "      <th></th>\n",
       "      <th>Unnamed: 0</th>\n",
       "      <th>Memory</th>\n",
       "      <th>RAM</th>\n",
       "      <th>Battery_</th>\n",
       "      <th>AI Lens</th>\n",
       "      <th>Mobile Height</th>\n",
       "      <th>Prize</th>\n",
       "    </tr>\n",
       "  </thead>\n",
       "  <tbody>\n",
       "    <tr>\n",
       "      <th>count</th>\n",
       "      <td>541.000000</td>\n",
       "      <td>541.000000</td>\n",
       "      <td>541.000000</td>\n",
       "      <td>541.000000</td>\n",
       "      <td>541.000000</td>\n",
       "      <td>541.000000</td>\n",
       "      <td>541.000000</td>\n",
       "    </tr>\n",
       "    <tr>\n",
       "      <th>mean</th>\n",
       "      <td>289.711645</td>\n",
       "      <td>110.550832</td>\n",
       "      <td>5.397412</td>\n",
       "      <td>4871.587800</td>\n",
       "      <td>0.062847</td>\n",
       "      <td>16.431201</td>\n",
       "      <td>16228.375231</td>\n",
       "    </tr>\n",
       "    <tr>\n",
       "      <th>std</th>\n",
       "      <td>182.359185</td>\n",
       "      <td>60.600694</td>\n",
       "      <td>1.984923</td>\n",
       "      <td>780.148862</td>\n",
       "      <td>0.242911</td>\n",
       "      <td>2.523553</td>\n",
       "      <td>10793.588322</td>\n",
       "    </tr>\n",
       "    <tr>\n",
       "      <th>min</th>\n",
       "      <td>0.000000</td>\n",
       "      <td>16.000000</td>\n",
       "      <td>2.000000</td>\n",
       "      <td>800.000000</td>\n",
       "      <td>0.000000</td>\n",
       "      <td>4.500000</td>\n",
       "      <td>920.000000</td>\n",
       "    </tr>\n",
       "    <tr>\n",
       "      <th>25%</th>\n",
       "      <td>135.000000</td>\n",
       "      <td>64.000000</td>\n",
       "      <td>4.000000</td>\n",
       "      <td>5000.000000</td>\n",
       "      <td>0.000000</td>\n",
       "      <td>16.510000</td>\n",
       "      <td>9290.000000</td>\n",
       "    </tr>\n",
       "    <tr>\n",
       "      <th>50%</th>\n",
       "      <td>273.000000</td>\n",
       "      <td>128.000000</td>\n",
       "      <td>6.000000</td>\n",
       "      <td>5000.000000</td>\n",
       "      <td>0.000000</td>\n",
       "      <td>16.710000</td>\n",
       "      <td>13499.000000</td>\n",
       "    </tr>\n",
       "    <tr>\n",
       "      <th>75%</th>\n",
       "      <td>434.000000</td>\n",
       "      <td>128.000000</td>\n",
       "      <td>8.000000</td>\n",
       "      <td>5000.000000</td>\n",
       "      <td>0.000000</td>\n",
       "      <td>16.940000</td>\n",
       "      <td>19280.000000</td>\n",
       "    </tr>\n",
       "    <tr>\n",
       "      <th>max</th>\n",
       "      <td>642.000000</td>\n",
       "      <td>256.000000</td>\n",
       "      <td>8.000000</td>\n",
       "      <td>7000.000000</td>\n",
       "      <td>1.000000</td>\n",
       "      <td>41.940000</td>\n",
       "      <td>80999.000000</td>\n",
       "    </tr>\n",
       "  </tbody>\n",
       "</table>\n",
       "</div>"
      ],
      "text/plain": [
       "       Unnamed: 0      Memory         RAM     Battery_     AI Lens  \\\n",
       "count  541.000000  541.000000  541.000000   541.000000  541.000000   \n",
       "mean   289.711645  110.550832    5.397412  4871.587800    0.062847   \n",
       "std    182.359185   60.600694    1.984923   780.148862    0.242911   \n",
       "min      0.000000   16.000000    2.000000   800.000000    0.000000   \n",
       "25%    135.000000   64.000000    4.000000  5000.000000    0.000000   \n",
       "50%    273.000000  128.000000    6.000000  5000.000000    0.000000   \n",
       "75%    434.000000  128.000000    8.000000  5000.000000    0.000000   \n",
       "max    642.000000  256.000000    8.000000  7000.000000    1.000000   \n",
       "\n",
       "       Mobile Height         Prize  \n",
       "count     541.000000    541.000000  \n",
       "mean       16.431201  16228.375231  \n",
       "std         2.523553  10793.588322  \n",
       "min         4.500000    920.000000  \n",
       "25%        16.510000   9290.000000  \n",
       "50%        16.710000  13499.000000  \n",
       "75%        16.940000  19280.000000  \n",
       "max        41.940000  80999.000000  "
      ]
     },
     "execution_count": 8,
     "metadata": {},
     "output_type": "execute_result"
    }
   ],
   "source": [
    "Processed_Flipdata.describe()"
   ]
  },
  {
   "cell_type": "markdown",
   "id": "267472a1",
   "metadata": {},
   "source": [
    "# 2. Data Preprocessing:\n"
   ]
  },
  {
   "cell_type": "markdown",
   "id": "233f1ba1",
   "metadata": {},
   "source": [
    "# Check for missing values"
   ]
  },
  {
   "cell_type": "code",
   "execution_count": 9,
   "id": "a7c0db27",
   "metadata": {},
   "outputs": [
    {
     "data": {
      "text/plain": [
       "Unnamed: 0       0\n",
       "Model            0\n",
       "Colour           0\n",
       "Memory           0\n",
       "RAM              0\n",
       "Battery_         0\n",
       "Rear Camera      0\n",
       "Front Camera     0\n",
       "AI Lens          0\n",
       "Mobile Height    0\n",
       "Processor_       0\n",
       "Prize            0\n",
       "dtype: int64"
      ]
     },
     "execution_count": 9,
     "metadata": {},
     "output_type": "execute_result"
    }
   ],
   "source": [
    "Processed_Flipdata.isnull().sum()"
   ]
  },
  {
   "cell_type": "markdown",
   "id": "73dbd21e",
   "metadata": {},
   "source": [
    "# Drop unnecessary Columns"
   ]
  },
  {
   "cell_type": "code",
   "execution_count": 10,
   "id": "af310f86",
   "metadata": {},
   "outputs": [],
   "source": [
    "Processed_Flipdata=Processed_Flipdata.drop(['Unnamed: 0'], axis=1)"
   ]
  },
  {
   "cell_type": "code",
   "execution_count": 11,
   "id": "7f0b284d",
   "metadata": {},
   "outputs": [
    {
     "data": {
      "text/html": [
       "<div>\n",
       "<style scoped>\n",
       "    .dataframe tbody tr th:only-of-type {\n",
       "        vertical-align: middle;\n",
       "    }\n",
       "\n",
       "    .dataframe tbody tr th {\n",
       "        vertical-align: top;\n",
       "    }\n",
       "\n",
       "    .dataframe thead th {\n",
       "        text-align: right;\n",
       "    }\n",
       "</style>\n",
       "<table border=\"1\" class=\"dataframe\">\n",
       "  <thead>\n",
       "    <tr style=\"text-align: right;\">\n",
       "      <th></th>\n",
       "      <th>Model</th>\n",
       "      <th>Colour</th>\n",
       "      <th>Memory</th>\n",
       "      <th>RAM</th>\n",
       "      <th>Battery_</th>\n",
       "      <th>Rear Camera</th>\n",
       "      <th>Front Camera</th>\n",
       "      <th>AI Lens</th>\n",
       "      <th>Mobile Height</th>\n",
       "      <th>Processor_</th>\n",
       "      <th>Prize</th>\n",
       "    </tr>\n",
       "  </thead>\n",
       "  <tbody>\n",
       "    <tr>\n",
       "      <th>0</th>\n",
       "      <td>Infinix SMART 7</td>\n",
       "      <td>Night Black</td>\n",
       "      <td>64</td>\n",
       "      <td>4</td>\n",
       "      <td>6000</td>\n",
       "      <td>13MP</td>\n",
       "      <td>5MP</td>\n",
       "      <td>1</td>\n",
       "      <td>16.76</td>\n",
       "      <td>Unisoc Spreadtrum SC9863A1</td>\n",
       "      <td>7299</td>\n",
       "    </tr>\n",
       "    <tr>\n",
       "      <th>1</th>\n",
       "      <td>Infinix SMART 7</td>\n",
       "      <td>Azure Blue</td>\n",
       "      <td>64</td>\n",
       "      <td>4</td>\n",
       "      <td>6000</td>\n",
       "      <td>13MP</td>\n",
       "      <td>5MP</td>\n",
       "      <td>1</td>\n",
       "      <td>16.76</td>\n",
       "      <td>Unisoc Spreadtrum SC9863A1</td>\n",
       "      <td>7299</td>\n",
       "    </tr>\n",
       "    <tr>\n",
       "      <th>2</th>\n",
       "      <td>MOTOROLA G32</td>\n",
       "      <td>Mineral Gray</td>\n",
       "      <td>128</td>\n",
       "      <td>8</td>\n",
       "      <td>5000</td>\n",
       "      <td>50MP</td>\n",
       "      <td>16MP</td>\n",
       "      <td>0</td>\n",
       "      <td>16.64</td>\n",
       "      <td>Qualcomm Snapdragon 680</td>\n",
       "      <td>11999</td>\n",
       "    </tr>\n",
       "    <tr>\n",
       "      <th>3</th>\n",
       "      <td>POCO C50</td>\n",
       "      <td>Royal Blue</td>\n",
       "      <td>32</td>\n",
       "      <td>2</td>\n",
       "      <td>5000</td>\n",
       "      <td>8MP</td>\n",
       "      <td>5MP</td>\n",
       "      <td>0</td>\n",
       "      <td>16.56</td>\n",
       "      <td>Mediatek Helio A22</td>\n",
       "      <td>5649</td>\n",
       "    </tr>\n",
       "    <tr>\n",
       "      <th>4</th>\n",
       "      <td>Infinix HOT 30i</td>\n",
       "      <td>Marigold</td>\n",
       "      <td>128</td>\n",
       "      <td>8</td>\n",
       "      <td>5000</td>\n",
       "      <td>50MP</td>\n",
       "      <td>5MP</td>\n",
       "      <td>1</td>\n",
       "      <td>16.76</td>\n",
       "      <td>G37</td>\n",
       "      <td>8999</td>\n",
       "    </tr>\n",
       "  </tbody>\n",
       "</table>\n",
       "</div>"
      ],
      "text/plain": [
       "             Model        Colour  Memory  RAM  Battery_ Rear Camera  \\\n",
       "0  Infinix SMART 7   Night Black      64    4      6000        13MP   \n",
       "1  Infinix SMART 7    Azure Blue      64    4      6000        13MP   \n",
       "2     MOTOROLA G32  Mineral Gray     128    8      5000        50MP   \n",
       "3         POCO C50    Royal Blue      32    2      5000         8MP   \n",
       "4  Infinix HOT 30i      Marigold     128    8      5000        50MP   \n",
       "\n",
       "  Front Camera  AI Lens  Mobile Height                  Processor_  Prize  \n",
       "0          5MP        1          16.76  Unisoc Spreadtrum SC9863A1   7299  \n",
       "1          5MP        1          16.76  Unisoc Spreadtrum SC9863A1   7299  \n",
       "2         16MP        0          16.64     Qualcomm Snapdragon 680  11999  \n",
       "3          5MP        0          16.56          Mediatek Helio A22   5649  \n",
       "4          5MP        1          16.76                         G37   8999  "
      ]
     },
     "execution_count": 11,
     "metadata": {},
     "output_type": "execute_result"
    }
   ],
   "source": [
    "Processed_Flipdata.head(5)"
   ]
  },
  {
   "cell_type": "markdown",
   "id": "3c0bafd8",
   "metadata": {},
   "source": [
    "# Convert float column itni int64"
   ]
  },
  {
   "cell_type": "code",
   "execution_count": 12,
   "id": "62a539f8",
   "metadata": {},
   "outputs": [],
   "source": [
    "Processed_Flipdata['Mobile Height'] = Processed_Flipdata['Mobile Height'].astype('int64')"
   ]
  },
  {
   "cell_type": "code",
   "execution_count": 13,
   "id": "8cd916e6",
   "metadata": {},
   "outputs": [],
   "source": [
    "Processed_Flipdata['Front Camera'] = Processed_Flipdata['Front Camera'].apply(lambda x: int(x[:-2]))"
   ]
  },
  {
   "cell_type": "code",
   "execution_count": 14,
   "id": "7789b3e7",
   "metadata": {},
   "outputs": [],
   "source": [
    "Processed_Flipdata['Rear Camera'] = Processed_Flipdata['Rear Camera'].apply(lambda x: int(x[:-2]))"
   ]
  },
  {
   "cell_type": "code",
   "execution_count": 15,
   "id": "bbb4aa70",
   "metadata": {},
   "outputs": [
    {
     "data": {
      "text/html": [
       "<div>\n",
       "<style scoped>\n",
       "    .dataframe tbody tr th:only-of-type {\n",
       "        vertical-align: middle;\n",
       "    }\n",
       "\n",
       "    .dataframe tbody tr th {\n",
       "        vertical-align: top;\n",
       "    }\n",
       "\n",
       "    .dataframe thead th {\n",
       "        text-align: right;\n",
       "    }\n",
       "</style>\n",
       "<table border=\"1\" class=\"dataframe\">\n",
       "  <thead>\n",
       "    <tr style=\"text-align: right;\">\n",
       "      <th></th>\n",
       "      <th>Model</th>\n",
       "      <th>Colour</th>\n",
       "      <th>Memory</th>\n",
       "      <th>RAM</th>\n",
       "      <th>Battery_</th>\n",
       "      <th>Rear Camera</th>\n",
       "      <th>Front Camera</th>\n",
       "      <th>AI Lens</th>\n",
       "      <th>Mobile Height</th>\n",
       "      <th>Processor_</th>\n",
       "      <th>Prize</th>\n",
       "    </tr>\n",
       "  </thead>\n",
       "  <tbody>\n",
       "    <tr>\n",
       "      <th>0</th>\n",
       "      <td>Infinix SMART 7</td>\n",
       "      <td>Night Black</td>\n",
       "      <td>64</td>\n",
       "      <td>4</td>\n",
       "      <td>6000</td>\n",
       "      <td>13</td>\n",
       "      <td>5</td>\n",
       "      <td>1</td>\n",
       "      <td>16</td>\n",
       "      <td>Unisoc Spreadtrum SC9863A1</td>\n",
       "      <td>7299</td>\n",
       "    </tr>\n",
       "    <tr>\n",
       "      <th>1</th>\n",
       "      <td>Infinix SMART 7</td>\n",
       "      <td>Azure Blue</td>\n",
       "      <td>64</td>\n",
       "      <td>4</td>\n",
       "      <td>6000</td>\n",
       "      <td>13</td>\n",
       "      <td>5</td>\n",
       "      <td>1</td>\n",
       "      <td>16</td>\n",
       "      <td>Unisoc Spreadtrum SC9863A1</td>\n",
       "      <td>7299</td>\n",
       "    </tr>\n",
       "    <tr>\n",
       "      <th>2</th>\n",
       "      <td>MOTOROLA G32</td>\n",
       "      <td>Mineral Gray</td>\n",
       "      <td>128</td>\n",
       "      <td>8</td>\n",
       "      <td>5000</td>\n",
       "      <td>50</td>\n",
       "      <td>16</td>\n",
       "      <td>0</td>\n",
       "      <td>16</td>\n",
       "      <td>Qualcomm Snapdragon 680</td>\n",
       "      <td>11999</td>\n",
       "    </tr>\n",
       "    <tr>\n",
       "      <th>3</th>\n",
       "      <td>POCO C50</td>\n",
       "      <td>Royal Blue</td>\n",
       "      <td>32</td>\n",
       "      <td>2</td>\n",
       "      <td>5000</td>\n",
       "      <td>8</td>\n",
       "      <td>5</td>\n",
       "      <td>0</td>\n",
       "      <td>16</td>\n",
       "      <td>Mediatek Helio A22</td>\n",
       "      <td>5649</td>\n",
       "    </tr>\n",
       "    <tr>\n",
       "      <th>4</th>\n",
       "      <td>Infinix HOT 30i</td>\n",
       "      <td>Marigold</td>\n",
       "      <td>128</td>\n",
       "      <td>8</td>\n",
       "      <td>5000</td>\n",
       "      <td>50</td>\n",
       "      <td>5</td>\n",
       "      <td>1</td>\n",
       "      <td>16</td>\n",
       "      <td>G37</td>\n",
       "      <td>8999</td>\n",
       "    </tr>\n",
       "  </tbody>\n",
       "</table>\n",
       "</div>"
      ],
      "text/plain": [
       "             Model        Colour  Memory  RAM  Battery_  Rear Camera  \\\n",
       "0  Infinix SMART 7   Night Black      64    4      6000           13   \n",
       "1  Infinix SMART 7    Azure Blue      64    4      6000           13   \n",
       "2     MOTOROLA G32  Mineral Gray     128    8      5000           50   \n",
       "3         POCO C50    Royal Blue      32    2      5000            8   \n",
       "4  Infinix HOT 30i      Marigold     128    8      5000           50   \n",
       "\n",
       "   Front Camera  AI Lens  Mobile Height                  Processor_  Prize  \n",
       "0             5        1             16  Unisoc Spreadtrum SC9863A1   7299  \n",
       "1             5        1             16  Unisoc Spreadtrum SC9863A1   7299  \n",
       "2            16        0             16     Qualcomm Snapdragon 680  11999  \n",
       "3             5        0             16          Mediatek Helio A22   5649  \n",
       "4             5        1             16                         G37   8999  "
      ]
     },
     "execution_count": 15,
     "metadata": {},
     "output_type": "execute_result"
    }
   ],
   "source": [
    "Processed_Flipdata.head(5)"
   ]
  },
  {
   "cell_type": "markdown",
   "id": "87b282d0",
   "metadata": {},
   "source": [
    "# Handling inconsistencies (manually correcting data)"
   ]
  },
  {
   "cell_type": "markdown",
   "id": "6aaf0a81",
   "metadata": {},
   "source": [
    "# All Black colour category convert into Black"
   ]
  },
  {
   "cell_type": "code",
   "execution_count": 16,
   "id": "eacca227",
   "metadata": {},
   "outputs": [],
   "source": [
    "Processed_Flipdata['Colour'] = Processed_Flipdata['Colour'].replace({'Power Black','Force Black','Midnight Black','Carbon Black','OMG Black','Racing Black','Steller Black','Onyx Black','Phantom Black','Eco Black','Mirror Black ','Stripe Black','Cosmic Black','Glimmer Black','Glowing Black','Astral Black ','Submariner Black','Obsidian Black','Lunar Black','Rocking Black','Stardust Black','Endless Black','Laser Black','Elegant Black','Polar Black','Turbo Black','Space Black','Eclipse Black','Flashy Black','Matte Black','Steel Black','Stealth Black','Stellar Black','Metal Black','Starlight Black','Pure Black','Matte black','Starry Black','CHARCOAL BLACK','Prime Black ','Supersonic Black','Flash Black','Meteor Black','Night Black','Cross Black','Noble Black','Rush Black','Shadow Black','Ink Black','Jaguar Black','Speed Black','SapphireBlack','Prism Black ','Prism Black','Punk Black','Interstellar Black','Astral Black','Prime Black','Mirror Black','Black Engine','Dark Matter','Prime Black','Infinity Black','Rainy Night','Denim Black','Cyber Black','Agate Black'}, 'Black')"
   ]
  },
  {
   "cell_type": "markdown",
   "id": "6449aee8",
   "metadata": {},
   "source": [
    "# All Blue colour category convert into Blue"
   ]
  },
  {
   "cell_type": "code",
   "execution_count": 17,
   "id": "eb61dd88",
   "metadata": {},
   "outputs": [],
   "source": [
    "Processed_Flipdata['Colour'] = Processed_Flipdata['Colour'].replace({'Royal Blue','Cool Blue','Glacier Blue','Aqua Blue','Nebula Blue','Dark Blue','Marine Blue','Light Blue','Horizon Blue','Lake Blue','Pacific Blue','Ice Blue','Electric Blue','Iceberg Blue','Soulful Blue','Arctic Blue','Navy Blue','Wildcat Blue','Speed Blue','Waterfall Blue','Flash Blue','Magic Blue','Sailing Blue','Phantom Blue','Space Blue','Mystique Blue','Frosted Blue','Frost Blue','Icy Blue','Stripe Blue','FLASH BLUE','Laser Blue','Steel Blue','Oxygen Blue','Surfing Blue','Aurora Blue','UYUNI BLUE','Aquamarine Blue','Tuscany Blue','Deep Ocean Blue','Uyuni Blue','Exploratory Blue','Blue Marble','Watery Blue','Luna Blue','Baby Blue','Origin Blue','Metaverse Blue','Prime Blue','Racing Blue','Silk Blue','Midnight Blue','Lavender Blue','Azure Blue','Prism Blue','DawnBlue','Atlantic Blue','Atlantis Blue','Sunrise Blue','Lunar Blue','Sky Blue','Polar Blue'},'Blue')"
   ]
  },
  {
   "cell_type": "markdown",
   "id": "9ace8ff4",
   "metadata": {},
   "source": [
    "# All Green colour category convert into Green"
   ]
  },
  {
   "cell_type": "code",
   "execution_count": 18,
   "id": "8a873f9f",
   "metadata": {},
   "outputs": [],
   "source": [
    "Processed_Flipdata['Colour'] = Processed_Flipdata['Colour'].replace({'Light Green','Olive Green','Aurora Green','Coral Green','Nebula Green','Dark Green','Mint Green','Forest Green','Lightsaber Green','Nightsky Green','Playful Green','Playful Green','Country Green','GOAT Green','Emerald Green','Caribbean Green','Frosted Green','Blaster Green','Supernova Green','Atlantic Green','Olive Green ','Oxygen Green','Glacial Green','Bamboo Green','Opal Green','Light Sea Green'}, 'Green')"
   ]
  },
  {
   "cell_type": "markdown",
   "id": "44e7e9a5",
   "metadata": {},
   "source": [
    "# All Grey colour category convert into Grey"
   ]
  },
  {
   "cell_type": "code",
   "execution_count": 19,
   "id": "9b20c238",
   "metadata": {},
   "outputs": [],
   "source": [
    "Processed_Flipdata['Colour'] = Processed_Flipdata['Colour'].replace({'Meteorite Grey','Meteor Grey','Shadow Gray','Charcoal Grey','Midnight Gray','Mineral Gray','SLATE GREY','Cool Grey','Mithril Grey','Volcanic Grey','Meterorite Grey','Watery Grey','Carbon Gray','Cosmic grey','DEEP GRAY'},'Grey')"
   ]
  },
  {
   "cell_type": "markdown",
   "id": "81d4c491",
   "metadata": {},
   "source": [
    "# All White colour category convert into White"
   ]
  },
  {
   "cell_type": "code",
   "execution_count": 20,
   "id": "ee2b551c",
   "metadata": {},
   "outputs": [],
   "source": [
    "Processed_Flipdata['Colour'] = Processed_Flipdata['Colour'].replace({'Arctic White','Astral White','Snowstorm White','Diamond White','Pearly White','Diamond White','Creamy White','Clash White','Metallic White','Stardust White','Pearl White','Glacier White','Frost White','Halo White ','Starlight White','Paper White','Alpine White','Jade White','Halo White','White Lily','Lucent White','Astral White '}, 'White')"
   ]
  },
  {
   "cell_type": "markdown",
   "id": "caaddaf4",
   "metadata": {},
   "source": [
    "# All Red colour category convert into Red"
   ]
  },
  {
   "cell_type": "code",
   "execution_count": 21,
   "id": "8cbd36a6",
   "metadata": {},
   "outputs": [],
   "source": [
    "Processed_Flipdata['Colour'] = Processed_Flipdata['Colour'].replace({'Dark Red','Flame Red','Scarlet Red'}, 'Red')"
   ]
  },
  {
   "cell_type": "markdown",
   "id": "9cf95e3f",
   "metadata": {},
   "source": [
    "# All Gold colour category convert into Gold"
   ]
  },
  {
   "cell_type": "code",
   "execution_count": 22,
   "id": "14b3028d",
   "metadata": {},
   "outputs": [],
   "source": [
    "Processed_Flipdata['Colour'] = Processed_Flipdata['Colour'].replace({'Drizzling Gold','Sunrise Gold','Sandy Gold','Marigold','Metallica Gold','Solar Gold','Sunshine Gold','Twilight Gold','Dawn Gold ','Aurora Gold','Tahiti Gold'} , 'Gold')"
   ]
  },
  {
   "cell_type": "markdown",
   "id": "c5b3709a",
   "metadata": {},
   "source": [
    "# All Purple colour category convert into purple"
   ]
  },
  {
   "cell_type": "code",
   "execution_count": 23,
   "id": "38213a0c",
   "metadata": {},
   "outputs": [],
   "source": [
    "Processed_Flipdata['Colour'] = Processed_Flipdata['Colour'].replace({'Stardust Purple','Nebula Purple','B.A.E. Purple','Peppy Purple','Fantasy Purple','Jade Purple','Space Purple','7Â° Purple','Starry Purple','Iris Purple'} , 'Purple')"
   ]
  },
  {
   "cell_type": "markdown",
   "id": "bc929848",
   "metadata": {},
   "source": [
    "# All Silver colour category convert into Silver"
   ]
  },
  {
   "cell_type": "code",
   "execution_count": 24,
   "id": "133cbd00",
   "metadata": {},
   "outputs": [],
   "source": [
    "Processed_Flipdata['Colour'] = Processed_Flipdata['Colour'].replace({'Light Silver','Satin Silver','Quick Silver','Blade Silver','Racing Silver','Awesome Silver'} , 'Silver')"
   ]
  },
  {
   "cell_type": "markdown",
   "id": "bf864e0f",
   "metadata": {},
   "source": [
    "# All Orange colour category convert into Orange"
   ]
  },
  {
   "cell_type": "code",
   "execution_count": 25,
   "id": "300e1781",
   "metadata": {},
   "outputs": [],
   "source": [
    "Processed_Flipdata['Colour'] = Processed_Flipdata['Colour'].replace({'Coral Orange','Sunset Orange','Sunlight Orange','Sunrise Orange'} , 'Orange')"
   ]
  },
  {
   "cell_type": "code",
   "execution_count": 26,
   "id": "a10002b9",
   "metadata": {},
   "outputs": [
    {
     "data": {
      "text/plain": [
       "Colour\n",
       "Black           143\n",
       "Blue            132\n",
       "Green            52\n",
       "White            27\n",
       "Grey             21\n",
       "               ... \n",
       "Azure Glow        1\n",
       "Aqua Sky          1\n",
       "Chalk             1\n",
       "Green Apple       1\n",
       "Awesome Lime      1\n",
       "Name: count, Length: 62, dtype: int64"
      ]
     },
     "execution_count": 26,
     "metadata": {},
     "output_type": "execute_result"
    }
   ],
   "source": [
    "Processed_Flipdata['Colour'].value_counts()"
   ]
  },
  {
   "cell_type": "markdown",
   "id": "350c86dc",
   "metadata": {},
   "source": [
    "# All Samsung model category convert into SAMSUNG"
   ]
  },
  {
   "cell_type": "code",
   "execution_count": 27,
   "id": "249c7b29",
   "metadata": {},
   "outputs": [],
   "source": [
    "Processed_Flipdata['Model'] = Processed_Flipdata['Model'].replace({'SAMSUNG Galaxy A14 5G','SAMSUNG Galaxy S22 Plus 5G','SAMSUNG Galaxy Z Flip3 5G','SAMSUNG Galaxy A54 5G','SAMSUNG Galaxy F23 5G','SAMSUNG Galaxy F14 5G','SAMSUNG Galaxy F23 5G ','SAMSUNG Galaxy F13','SAMSUNG Galaxy A34 5G','SAMSUNG Galaxy A23 5G','SAMSUNG Galaxy A23','SAMSUNG Galaxy M04','SAMSUNG Galaxy F04','SAMSUNG M53 5G','SAMSUNG Galaxy A13','SAMSUNG Galaxy A04','SAMSUNG Galaxy A04e','SAMSUNG Galaxy S21 FE 5G','SAMSUNG Galaxy S23 5G'} , 'SAMSUNG')"
   ]
  },
  {
   "cell_type": "markdown",
   "id": "39d1f134",
   "metadata": {},
   "source": [
    "# All vivo model category convert vivo"
   ]
  },
  {
   "cell_type": "code",
   "execution_count": 28,
   "id": "9ca654d6",
   "metadata": {},
   "outputs": [],
   "source": [
    "Processed_Flipdata['Model'] = Processed_Flipdata['Model'].replace({'vivo Y16','vivo T2x 5G','vivo T1 44W','vivo Y100 5G','vivo Y56 5G','vivo T1 Pro 5G','vivo T2 5G','vivo V27 5G','vivo V23 5G','vivo V25 5G','vivo V25 Pro 5G','vivo Y75','vivo Y35','vivo Y565G','vivo Y21T','vivo Y33s','vivo Y12G','vivo Y1s'} , 'vivo')"
   ]
  },
  {
   "cell_type": "markdown",
   "id": "a9011629",
   "metadata": {},
   "source": [
    "# All realme model category convert realme"
   ]
  },
  {
   "cell_type": "code",
   "execution_count": 29,
   "id": "5f029e39",
   "metadata": {},
   "outputs": [],
   "source": [
    "Processed_Flipdata['Model'] = Processed_Flipdata['Model'].replace({'realme C55','realme narzo 50i Prime','realme 9 5G SE','realme C33 2023','realme 10 Pro 5G','realme 9i 5G','realme 10 Pro+ 5G','realme C33','realme C30s','realme C30','realme C31','realme Narzo 50','realme 9 Pro+ 5G','realme Narzo 50i Prime','realme Narzo 50i','realme 10','realme Narzo 30','realme GT 2','realme C35','realme 9 5G','realme Narzo 50A Prime','realme 9i','realme Narzo N55','realme X3 SuperZoom','realme Narzo 50A','realme C25s','realme 8i','realme 8','realme Narzo 30 Pro 5G','realme C11 2021','realme C21Y','realme NARZO 50A PRIME'} , 'realme')"
   ]
  },
  {
   "cell_type": "markdown",
   "id": "1b121b74",
   "metadata": {},
   "source": [
    "# All REDMI model category convert REDMI"
   ]
  },
  {
   "cell_type": "code",
   "execution_count": 30,
   "id": "fba934cf",
   "metadata": {},
   "outputs": [],
   "source": [
    "Processed_Flipdata['Model'] = Processed_Flipdata['Model'].replace({'REDMI Note 12 Pro 5G','REDMI Note 11S','REDMI 10','REDMI Note 12','REDMI K50i 5G','REDMI Note 12 Pro+ 5G','REDMI Note 12 5G','REDMI Note 11T 5G','REDMI 11 Prime','REDMI A1+','REDMI 10A SPORT','Redmi 9A Sport','redmi min','REDMI 9 Activ','redmi max','REDMI Note 9','REDMI 12c','REDMI 9i','REDMI Note 10 Lite','REDMI Note 10S','REDMI 10 Prime 2022','REDMI Note 11','redmi mono','realme narzo 50i Prime'} , 'REDMI')"
   ]
  },
  {
   "cell_type": "markdown",
   "id": "7e8713aa",
   "metadata": {},
   "source": [
    "# All MOTOROLA model category convert MOTOROLA"
   ]
  },
  {
   "cell_type": "code",
   "execution_count": 31,
   "id": "85c96e81",
   "metadata": {},
   "outputs": [],
   "source": [
    "Processed_Flipdata['Model'] = Processed_Flipdata['Model'].replace({'MOTOROLA e13','MOTOROLA G32','MOTOROLA G62 5G','MOTOROLA g52','MOTOROLA g13','MOTOROLA e32','MOTOROLA Edge 40','MOTOROLA g42','MOTOROLA Edge 30 Ultra','MOTOROLA Edge 30','MOTOROLA g31','MOTOROLA Edge 30 Fusion','MOTOROLA g73 5G','MOTOROLA g72','MOTOROLA g82 5G','MOTOROLA e22s','MOTOROLA e40','MOTOROLA G42','MOTOROLA g22'} , 'MOTOROLA')"
   ]
  },
  {
   "cell_type": "markdown",
   "id": "f73c606f",
   "metadata": {},
   "source": [
    "# All POCO model category convert POCO"
   ]
  },
  {
   "cell_type": "code",
   "execution_count": 32,
   "id": "1315bed8",
   "metadata": {},
   "outputs": [],
   "source": [
    "Processed_Flipdata['Model'] = Processed_Flipdata['Model'].replace({'POCO X5 Pro 5G','POCO F5 5G','POCO M5','POCO X5 5G','POCO X4 Pro 5G','POCO C55','POCO C50','POCO M4 5G','POCO C31','POCO M4 Pro','POCO M4 Pro 5G','POCO C51','POCO M3 Pro 5G','POCO F1','POCO X2'} , 'POCO')"
   ]
  },
  {
   "cell_type": "markdown",
   "id": "de173e02",
   "metadata": {},
   "source": [
    "# All OPPO model category convert OPPO"
   ]
  },
  {
   "cell_type": "code",
   "execution_count": 33,
   "id": "ae1ab255",
   "metadata": {},
   "outputs": [],
   "source": [
    "Processed_Flipdata['Model'] = Processed_Flipdata['Model'].replace({'OPPO A17','OPPO A17k','OPPO A77s','OPPO Reno8T 5G','OPPO F21s Pro','OPPO F21 Pro','OPPO A17K','OPPO A78 5G','OPPO A77'} ,'OPPO')"
   ]
  },
  {
   "cell_type": "markdown",
   "id": "91fa316c",
   "metadata": {},
   "source": [
    "# All Infinix model category convert Infinix"
   ]
  },
  {
   "cell_type": "code",
   "execution_count": 34,
   "id": "72fa81be",
   "metadata": {},
   "outputs": [],
   "source": [
    "Processed_Flipdata['Model'] = Processed_Flipdata['Model'].replace({'Infinix HOT 30i','Infinix HOT 20 Play','Infinix Hot 12 Pro','Infinix Hot 12','Infinix Smart 7 HD','Infinix HOT 20 Play ','Infinix Smart 6','Infinix SMART 7','Infinix Zero 5G 2023 TURBO','Infinix Zero 5G 2023','Infinix Smart 6 HD','Infinix HOT 20 5G','Infinix NOTE 12i','Infinix HOT 12 Play','Infinix Hot 11','Infinix Note 12 5G','Infinix Note 12 Pro','Infinix Zero 20','Infinix Note 12 Pro 5G','Infinix Hot 20 5G','Infinix Note 12','Infinix Smart 5A','Infinix Note 11s Free Fire Edition','Infinix Note 11s Free Fire Edition '} , 'Infinix')"
   ]
  },
  {
   "cell_type": "markdown",
   "id": "3ead36e5",
   "metadata": {},
   "source": [
    "# All Micromax model category convert Micromax"
   ]
  },
  {
   "cell_type": "code",
   "execution_count": 35,
   "id": "85e2d862",
   "metadata": {},
   "outputs": [],
   "source": [
    "Processed_Flipdata['Model'] = Processed_Flipdata['Model'].replace({'Micromax IN 2C','micromax 2','micromax 3','micromax 1','Micromax 3','micromax1'} , 'micromax')"
   ]
  },
  {
   "cell_type": "markdown",
   "id": "4ab7cb41",
   "metadata": {},
   "source": [
    "# All Tecno model category convert Tecno"
   ]
  },
  {
   "cell_type": "code",
   "execution_count": 36,
   "id": "96d88c7d",
   "metadata": {},
   "outputs": [],
   "source": [
    "Processed_Flipdata['Model'] = Processed_Flipdata['Model'].replace({'Tecno Spark 9T','Tecno Spark Go 2023 ','Tecno Spark 9','Tecno Pop 5 Pro','Tecno Pova 3','Tecno Spark 8T','Tecno Spark Go 2023'} , 'Tecno')"
   ]
  },
  {
   "cell_type": "markdown",
   "id": "58e9d857",
   "metadata": {},
   "source": [
    "# All Google Pixel model category convert Google Pixel"
   ]
  },
  {
   "cell_type": "code",
   "execution_count": 37,
   "id": "e3b32206",
   "metadata": {},
   "outputs": [],
   "source": [
    "Processed_Flipdata['Model'] = Processed_Flipdata['Model'].replace({'Google Pixel 6a','Google Pixel 7a','Google Pixel 7'} , 'Google Pixel')"
   ]
  },
  {
   "cell_type": "markdown",
   "id": "6c6d956e",
   "metadata": {},
   "source": [
    "# All APPLE model category convert APPLE"
   ]
  },
  {
   "cell_type": "code",
   "execution_count": 38,
   "id": "01abff8a",
   "metadata": {},
   "outputs": [],
   "source": [
    "Processed_Flipdata['Model'] = Processed_Flipdata['Model'].replace({'APPLE iPhone 14 Plus','APPLE iPhone 12','APPLE iPhone 11'} , 'APPLE')"
   ]
  },
  {
   "cell_type": "markdown",
   "id": "5b398425",
   "metadata": {},
   "source": [
    "# All OnePlus model category convert OnePlus"
   ]
  },
  {
   "cell_type": "code",
   "execution_count": 39,
   "id": "d91b9d63",
   "metadata": {},
   "outputs": [],
   "source": [
    "Processed_Flipdata['Model'] = Processed_Flipdata['Model'].replace({'OnePlus Nord 2T 5G ','OnePlus 8','OnePlus Nord','OnePlus Nord 2T 5G'} , 'OnePlus')"
   ]
  },
  {
   "cell_type": "markdown",
   "id": "f8688c3e",
   "metadata": {},
   "source": [
    "# All I Kall model category convert I Kall"
   ]
  },
  {
   "cell_type": "code",
   "execution_count": 40,
   "id": "f228e6c6",
   "metadata": {},
   "outputs": [],
   "source": [
    "Processed_Flipdata['Model'] = Processed_Flipdata['Model'].replace({'I Kall Z19Pro','I Kall Z19Pro Flash blue'} , 'I Kall')"
   ]
  },
  {
   "cell_type": "markdown",
   "id": "7f0c743d",
   "metadata": {},
   "source": [
    "# All Nokia model category convert Nokia"
   ]
  },
  {
   "cell_type": "code",
   "execution_count": 41,
   "id": "353e6932",
   "metadata": {},
   "outputs": [],
   "source": [
    "Processed_Flipdata['Model'] = Processed_Flipdata['Model'].replace({'Nokia G11 Plus','Nokia G11 Plus','Nokia C01 Plus'} , 'Nokia')"
   ]
  },
  {
   "cell_type": "markdown",
   "id": "8165a04f",
   "metadata": {},
   "source": [
    "# All LAVA model category convert LAVA"
   ]
  },
  {
   "cell_type": "code",
   "execution_count": 42,
   "id": "28875829",
   "metadata": {},
   "outputs": [],
   "source": [
    "Processed_Flipdata['Model'] = Processed_Flipdata['Model'].replace({'LAVA Z21','LAVA Z2'} , 'LAVA')"
   ]
  },
  {
   "cell_type": "code",
   "execution_count": 43,
   "id": "23a1afc3",
   "metadata": {},
   "outputs": [
    {
     "data": {
      "text/plain": [
       "Model\n",
       "realme             98\n",
       "REDMI              75\n",
       "Infinix            65\n",
       "vivo               62\n",
       "POCO               60\n",
       "SAMSUNG            55\n",
       "MOTOROLA           46\n",
       "Tecno              17\n",
       "OPPO               16\n",
       "micromax           14\n",
       "Google Pixel        9\n",
       "OnePlus             5\n",
       "APPLE               5\n",
       "itel A60            3\n",
       "Nokia               3\n",
       "nothing phone 1     2\n",
       "I Kall              2\n",
       "IQOO Neo 7 5G       2\n",
       "LAVA                2\n",
       "Name: count, dtype: int64"
      ]
     },
     "execution_count": 43,
     "metadata": {},
     "output_type": "execute_result"
    }
   ],
   "source": [
    "Processed_Flipdata['Model'].value_counts()"
   ]
  },
  {
   "cell_type": "markdown",
   "id": "ccf220bd",
   "metadata": {},
   "source": [
    "# Check outliers"
   ]
  },
  {
   "cell_type": "markdown",
   "id": "1951cfaa",
   "metadata": {},
   "source": [
    "# Box plot for target prize column"
   ]
  },
  {
   "cell_type": "code",
   "execution_count": 44,
   "id": "511c91c4",
   "metadata": {},
   "outputs": [
    {
     "data": {
      "image/png": "[encoded data removed]",
      "text/plain": [
       "<Figure size 1000x600 with 1 Axes>"
      ]
     },
     "metadata": {},
     "output_type": "display_data"
    }
   ],
   "source": [
    "plt.figure(figsize=(10, 6))\n",
    "sns.boxplot(data=Processed_Flipdata, y='Prize')\n",
    "plt.ylabel('Prize')\n",
    "plt.title('Box Plot of Prize')\n",
    "plt.show()"
   ]
  },
  {
   "cell_type": "markdown",
   "id": "ba71fe18",
   "metadata": {},
   "source": [
    "# Box plot for memory column"
   ]
  },
  {
   "cell_type": "code",
   "execution_count": 45,
   "id": "fd9684d3",
   "metadata": {},
   "outputs": [
    {
     "data": {
      "image/png": "[encoded data removed]",
      "text/plain": [
       "<Figure size 1000x600 with 1 Axes>"
      ]
     },
     "metadata": {},
     "output_type": "display_data"
    }
   ],
   "source": [
    "plt.figure(figsize=(10, 6))\n",
    "sns.boxplot(data=Processed_Flipdata, y='Memory')\n",
    "plt.ylabel('Memory')\n",
    "plt.title('Box Plot of Memory')\n",
    "plt.show()"
   ]
  },
  {
   "cell_type": "markdown",
   "id": "c4d4ce51",
   "metadata": {},
   "source": [
    "# Box plot for RAM column"
   ]
  },
  {
   "cell_type": "code",
   "execution_count": 46,
   "id": "ce48c7ae",
   "metadata": {},
   "outputs": [
    {
     "data": {
      "image/png": "[encoded data removed]",
      "text/plain": [
       "<Figure size 1000x600 with 1 Axes>"
      ]
     },
     "metadata": {},
     "output_type": "display_data"
    }
   ],
   "source": [
    "plt.figure(figsize=(10, 6))\n",
    "sns.boxplot(data=Processed_Flipdata, y='RAM')\n",
    "plt.ylabel('RAM')\n",
    "plt.title('Box Plot of RAM')\n",
    "plt.show()"
   ]
  },
  {
   "cell_type": "markdown",
   "id": "6db2c05c",
   "metadata": {},
   "source": [
    "# Kernel Density Estimation for target prize column"
   ]
  },
  {
   "cell_type": "code",
   "execution_count": 47,
   "id": "d0717597",
   "metadata": {},
   "outputs": [
    {
     "data": {
      "image/png": "[encoded data removed]",
      "text/plain": [
       "<Figure size 1000x600 with 1 Axes>"
      ]
     },
     "metadata": {},
     "output_type": "display_data"
    }
   ],
   "source": [
    "plt.figure(figsize=(10, 6))\n",
    "sns.kdeplot(data=Processed_Flipdata['Prize'], shade=True)\n",
    "plt.xlabel('Prize')\n",
    "plt.ylabel('Density')\n",
    "plt.title('Kernel Density Estimation of Prize')\n",
    "plt.show()"
   ]
  },
  {
   "cell_type": "markdown",
   "id": "147a73cb",
   "metadata": {},
   "source": [
    "# Kernel Density Estimation for memory column"
   ]
  },
  {
   "cell_type": "code",
   "execution_count": 48,
   "id": "a7d54c1e",
   "metadata": {},
   "outputs": [
    {
     "data": {
      "image/png": "[encoded data removed]",
      "text/plain": [
       "<Figure size 1000x600 with 1 Axes>"
      ]
     },
     "metadata": {},
     "output_type": "display_data"
    }
   ],
   "source": [
    "plt.figure(figsize=(10, 6))\n",
    "sns.kdeplot(data=Processed_Flipdata['Memory'], shade=True)\n",
    "plt.xlabel('Memory')\n",
    "plt.ylabel('Density')\n",
    "plt.title('Kernel Density Estimation of Memory')\n",
    "plt.show()"
   ]
  },
  {
   "cell_type": "markdown",
   "id": "e5bfde89",
   "metadata": {},
   "source": [
    "# Kernel Density Estimation for Ram column"
   ]
  },
  {
   "cell_type": "code",
   "execution_count": 49,
   "id": "47b258ea",
   "metadata": {},
   "outputs": [
    {
     "data": {
      "image/png": "[encoded data removed]",
      "text/plain": [
       "<Figure size 1000x600 with 1 Axes>"
      ]
     },
     "metadata": {},
     "output_type": "display_data"
    }
   ],
   "source": [
    "plt.figure(figsize=(10, 6))\n",
    "sns.kdeplot(data=Processed_Flipdata['RAM'], shade=True)\n",
    "plt.xlabel('RAM')\n",
    "plt.ylabel('Density')\n",
    "plt.title('Kernel Density Estimation of RAM')\n",
    "plt.show()"
   ]
  },
  {
   "cell_type": "markdown",
   "id": "1b28f5d7",
   "metadata": {},
   "source": [
    "# Remove Outliers"
   ]
  },
  {
   "cell_type": "code",
   "execution_count": 50,
   "id": "e73f2a19",
   "metadata": {},
   "outputs": [],
   "source": [
    "def iqr_technique(DFcolumn):\n",
    "  Q1 = np.percentile(DFcolumn, 25)\n",
    "  Q3 = np.percentile(DFcolumn, 75)\n",
    "  IQR = Q3 - Q1\n",
    "  lower_range = Q1 - (1.5 * IQR)\n",
    "  upper_range = Q3 + (1.5 * IQR)                        \n",
    "\n",
    "  return lower_range,upper_range"
   ]
  },
  {
   "cell_type": "code",
   "execution_count": 51,
   "id": "62719e79",
   "metadata": {},
   "outputs": [],
   "source": [
    "lower_bound,upper_bound = iqr_technique(Processed_Flipdata['Prize'])\n",
    "\n",
    "Processed_Flipdata = Processed_Flipdata[(Processed_Flipdata.Prize>lower_bound) & (Processed_Flipdata.Prize<upper_bound)]"
   ]
  },
  {
   "cell_type": "code",
   "execution_count": 52,
   "id": "dfeadc73",
   "metadata": {},
   "outputs": [],
   "source": [
    "lower_bound,upper_bound = iqr_technique(Processed_Flipdata['Memory'])\n",
    "\n",
    "Processed_Flipdata = Processed_Flipdata[(Processed_Flipdata.Memory>lower_bound) & (Processed_Flipdata.Memory<upper_bound)]"
   ]
  },
  {
   "cell_type": "code",
   "execution_count": 53,
   "id": "ba9b9e52",
   "metadata": {},
   "outputs": [],
   "source": [
    "lower_bound,upper_bound = iqr_technique(Processed_Flipdata['RAM'])\n",
    "\n",
    "Processed_Flipdata = Processed_Flipdata[(Processed_Flipdata.RAM>lower_bound) & (Processed_Flipdata.RAM<upper_bound)]"
   ]
  },
  {
   "cell_type": "code",
   "execution_count": 54,
   "id": "9608ffc1",
   "metadata": {},
   "outputs": [
    {
     "data": {
      "image/png": "[encoded data removed]",
      "text/plain": [
       "<Figure size 1000x600 with 1 Axes>"
      ]
     },
     "metadata": {},
     "output_type": "display_data"
    }
   ],
   "source": [
    "plt.figure(figsize=(10, 6))\n",
    "sns.boxplot(data=Processed_Flipdata, y='Prize')\n",
    "plt.ylabel('Prize')\n",
    "plt.title('Box Plot of Prize')\n",
    "plt.show()"
   ]
  },
  {
   "cell_type": "code",
   "execution_count": 55,
   "id": "312d830b",
   "metadata": {},
   "outputs": [
    {
     "data": {
      "image/png": "[encoded data removed]",
      "text/plain": [
       "<Figure size 1000x600 with 1 Axes>"
      ]
     },
     "metadata": {},
     "output_type": "display_data"
    }
   ],
   "source": [
    "plt.figure(figsize=(10, 6))\n",
    "sns.kdeplot(data=Processed_Flipdata['Prize'], shade=True)\n",
    "plt.xlabel('Prize')\n",
    "plt.ylabel('Density')\n",
    "plt.title('Kernel Density Estimation of Prize')\n",
    "plt.show()"
   ]
  },
  {
   "cell_type": "code",
   "execution_count": 56,
   "id": "8fdde646",
   "metadata": {},
   "outputs": [
    {
     "data": {
      "text/plain": [
       "(469, 11)"
      ]
     },
     "execution_count": 56,
     "metadata": {},
     "output_type": "execute_result"
    }
   ],
   "source": [
    "Processed_Flipdata.shape"
   ]
  },
  {
   "cell_type": "code",
   "execution_count": 57,
   "id": "95ee068b",
   "metadata": {},
   "outputs": [
    {
     "name": "stdout",
     "output_type": "stream",
     "text": [
      "<class 'pandas.core.frame.DataFrame'>\n",
      "Index: 469 entries, 0 to 540\n",
      "Data columns (total 11 columns):\n",
      " #   Column         Non-Null Count  Dtype \n",
      "---  ------         --------------  ----- \n",
      " 0   Model          469 non-null    object\n",
      " 1   Colour         469 non-null    object\n",
      " 2   Memory         469 non-null    int64 \n",
      " 3   RAM            469 non-null    int64 \n",
      " 4   Battery_       469 non-null    int64 \n",
      " 5   Rear Camera    469 non-null    int64 \n",
      " 6   Front Camera   469 non-null    int64 \n",
      " 7   AI Lens        469 non-null    int64 \n",
      " 8   Mobile Height  469 non-null    int64 \n",
      " 9   Processor_     469 non-null    object\n",
      " 10  Prize          469 non-null    int64 \n",
      "dtypes: int64(8), object(3)\n",
      "memory usage: 44.0+ KB\n"
     ]
    }
   ],
   "source": [
    "Processed_Flipdata.info()"
   ]
  },
  {
   "cell_type": "markdown",
   "id": "6981d2e9",
   "metadata": {},
   "source": [
    "# one hot encoding"
   ]
  },
  {
   "cell_type": "code",
   "execution_count": 58,
   "id": "9b836662",
   "metadata": {},
   "outputs": [],
   "source": [
    "encoding_Processed_Flipdata=pd.get_dummies(Processed_Flipdata, columns= ['Model','Colour','Processor_'],drop_first=True,dtype=int)"
   ]
  },
  {
   "cell_type": "code",
   "execution_count": 59,
   "id": "e4c53265",
   "metadata": {},
   "outputs": [
    {
     "data": {
      "text/html": [
       "<div>\n",
       "<style scoped>\n",
       "    .dataframe tbody tr th:only-of-type {\n",
       "        vertical-align: middle;\n",
       "    }\n",
       "\n",
       "    .dataframe tbody tr th {\n",
       "        vertical-align: top;\n",
       "    }\n",
       "\n",
       "    .dataframe thead th {\n",
       "        text-align: right;\n",
       "    }\n",
       "</style>\n",
       "<table border=\"1\" class=\"dataframe\">\n",
       "  <thead>\n",
       "    <tr style=\"text-align: right;\">\n",
       "      <th></th>\n",
       "      <th>Memory</th>\n",
       "      <th>RAM</th>\n",
       "      <th>Battery_</th>\n",
       "      <th>Rear Camera</th>\n",
       "      <th>Front Camera</th>\n",
       "      <th>AI Lens</th>\n",
       "      <th>Mobile Height</th>\n",
       "      <th>Prize</th>\n",
       "      <th>Model_I Kall</th>\n",
       "      <th>Model_IQOO Neo 7 5G</th>\n",
       "      <th>...</th>\n",
       "      <th>Processor__Unisoc SC9863A/ Unisoc SC9863A1</th>\n",
       "      <th>Processor__Unisoc Spreadtrum SC9863A1</th>\n",
       "      <th>Processor__Unisoc T606</th>\n",
       "      <th>Processor__Unisoc T610</th>\n",
       "      <th>Processor__Unisoc T612</th>\n",
       "      <th>Processor__Unisoc T612 processor</th>\n",
       "      <th>Processor__Unisoc T616</th>\n",
       "      <th>Processor__Unisoc Tiger T612 (12 nm)</th>\n",
       "      <th>Processor__Unisoc Tiger T616</th>\n",
       "      <th>Processor__snapdragon 888</th>\n",
       "    </tr>\n",
       "  </thead>\n",
       "  <tbody>\n",
       "    <tr>\n",
       "      <th>0</th>\n",
       "      <td>64</td>\n",
       "      <td>4</td>\n",
       "      <td>6000</td>\n",
       "      <td>13</td>\n",
       "      <td>5</td>\n",
       "      <td>1</td>\n",
       "      <td>16</td>\n",
       "      <td>7299</td>\n",
       "      <td>0</td>\n",
       "      <td>0</td>\n",
       "      <td>...</td>\n",
       "      <td>0</td>\n",
       "      <td>1</td>\n",
       "      <td>0</td>\n",
       "      <td>0</td>\n",
       "      <td>0</td>\n",
       "      <td>0</td>\n",
       "      <td>0</td>\n",
       "      <td>0</td>\n",
       "      <td>0</td>\n",
       "      <td>0</td>\n",
       "    </tr>\n",
       "    <tr>\n",
       "      <th>1</th>\n",
       "      <td>64</td>\n",
       "      <td>4</td>\n",
       "      <td>6000</td>\n",
       "      <td>13</td>\n",
       "      <td>5</td>\n",
       "      <td>1</td>\n",
       "      <td>16</td>\n",
       "      <td>7299</td>\n",
       "      <td>0</td>\n",
       "      <td>0</td>\n",
       "      <td>...</td>\n",
       "      <td>0</td>\n",
       "      <td>1</td>\n",
       "      <td>0</td>\n",
       "      <td>0</td>\n",
       "      <td>0</td>\n",
       "      <td>0</td>\n",
       "      <td>0</td>\n",
       "      <td>0</td>\n",
       "      <td>0</td>\n",
       "      <td>0</td>\n",
       "    </tr>\n",
       "    <tr>\n",
       "      <th>2</th>\n",
       "      <td>128</td>\n",
       "      <td>8</td>\n",
       "      <td>5000</td>\n",
       "      <td>50</td>\n",
       "      <td>16</td>\n",
       "      <td>0</td>\n",
       "      <td>16</td>\n",
       "      <td>11999</td>\n",
       "      <td>0</td>\n",
       "      <td>0</td>\n",
       "      <td>...</td>\n",
       "      <td>0</td>\n",
       "      <td>0</td>\n",
       "      <td>0</td>\n",
       "      <td>0</td>\n",
       "      <td>0</td>\n",
       "      <td>0</td>\n",
       "      <td>0</td>\n",
       "      <td>0</td>\n",
       "      <td>0</td>\n",
       "      <td>0</td>\n",
       "    </tr>\n",
       "    <tr>\n",
       "      <th>3</th>\n",
       "      <td>32</td>\n",
       "      <td>2</td>\n",
       "      <td>5000</td>\n",
       "      <td>8</td>\n",
       "      <td>5</td>\n",
       "      <td>0</td>\n",
       "      <td>16</td>\n",
       "      <td>5649</td>\n",
       "      <td>0</td>\n",
       "      <td>0</td>\n",
       "      <td>...</td>\n",
       "      <td>0</td>\n",
       "      <td>0</td>\n",
       "      <td>0</td>\n",
       "      <td>0</td>\n",
       "      <td>0</td>\n",
       "      <td>0</td>\n",
       "      <td>0</td>\n",
       "      <td>0</td>\n",
       "      <td>0</td>\n",
       "      <td>0</td>\n",
       "    </tr>\n",
       "    <tr>\n",
       "      <th>4</th>\n",
       "      <td>128</td>\n",
       "      <td>8</td>\n",
       "      <td>5000</td>\n",
       "      <td>50</td>\n",
       "      <td>5</td>\n",
       "      <td>1</td>\n",
       "      <td>16</td>\n",
       "      <td>8999</td>\n",
       "      <td>0</td>\n",
       "      <td>0</td>\n",
       "      <td>...</td>\n",
       "      <td>0</td>\n",
       "      <td>0</td>\n",
       "      <td>0</td>\n",
       "      <td>0</td>\n",
       "      <td>0</td>\n",
       "      <td>0</td>\n",
       "      <td>0</td>\n",
       "      <td>0</td>\n",
       "      <td>0</td>\n",
       "      <td>0</td>\n",
       "    </tr>\n",
       "    <tr>\n",
       "      <th>...</th>\n",
       "      <td>...</td>\n",
       "      <td>...</td>\n",
       "      <td>...</td>\n",
       "      <td>...</td>\n",
       "      <td>...</td>\n",
       "      <td>...</td>\n",
       "      <td>...</td>\n",
       "      <td>...</td>\n",
       "      <td>...</td>\n",
       "      <td>...</td>\n",
       "      <td>...</td>\n",
       "      <td>...</td>\n",
       "      <td>...</td>\n",
       "      <td>...</td>\n",
       "      <td>...</td>\n",
       "      <td>...</td>\n",
       "      <td>...</td>\n",
       "      <td>...</td>\n",
       "      <td>...</td>\n",
       "      <td>...</td>\n",
       "      <td>...</td>\n",
       "    </tr>\n",
       "    <tr>\n",
       "      <th>534</th>\n",
       "      <td>64</td>\n",
       "      <td>4</td>\n",
       "      <td>5000</td>\n",
       "      <td>50</td>\n",
       "      <td>8</td>\n",
       "      <td>0</td>\n",
       "      <td>16</td>\n",
       "      <td>9790</td>\n",
       "      <td>0</td>\n",
       "      <td>0</td>\n",
       "      <td>...</td>\n",
       "      <td>0</td>\n",
       "      <td>0</td>\n",
       "      <td>0</td>\n",
       "      <td>0</td>\n",
       "      <td>0</td>\n",
       "      <td>0</td>\n",
       "      <td>0</td>\n",
       "      <td>0</td>\n",
       "      <td>0</td>\n",
       "      <td>0</td>\n",
       "    </tr>\n",
       "    <tr>\n",
       "      <th>535</th>\n",
       "      <td>64</td>\n",
       "      <td>3</td>\n",
       "      <td>5000</td>\n",
       "      <td>13</td>\n",
       "      <td>5</td>\n",
       "      <td>0</td>\n",
       "      <td>16</td>\n",
       "      <td>9999</td>\n",
       "      <td>0</td>\n",
       "      <td>0</td>\n",
       "      <td>...</td>\n",
       "      <td>0</td>\n",
       "      <td>0</td>\n",
       "      <td>0</td>\n",
       "      <td>0</td>\n",
       "      <td>0</td>\n",
       "      <td>0</td>\n",
       "      <td>0</td>\n",
       "      <td>0</td>\n",
       "      <td>0</td>\n",
       "      <td>0</td>\n",
       "    </tr>\n",
       "    <tr>\n",
       "      <th>537</th>\n",
       "      <td>32</td>\n",
       "      <td>2</td>\n",
       "      <td>3100</td>\n",
       "      <td>5</td>\n",
       "      <td>2</td>\n",
       "      <td>0</td>\n",
       "      <td>12</td>\n",
       "      <td>5998</td>\n",
       "      <td>0</td>\n",
       "      <td>0</td>\n",
       "      <td>...</td>\n",
       "      <td>0</td>\n",
       "      <td>0</td>\n",
       "      <td>0</td>\n",
       "      <td>0</td>\n",
       "      <td>0</td>\n",
       "      <td>0</td>\n",
       "      <td>0</td>\n",
       "      <td>0</td>\n",
       "      <td>0</td>\n",
       "      <td>0</td>\n",
       "    </tr>\n",
       "    <tr>\n",
       "      <th>538</th>\n",
       "      <td>64</td>\n",
       "      <td>4</td>\n",
       "      <td>5000</td>\n",
       "      <td>50</td>\n",
       "      <td>8</td>\n",
       "      <td>0</td>\n",
       "      <td>16</td>\n",
       "      <td>9990</td>\n",
       "      <td>0</td>\n",
       "      <td>0</td>\n",
       "      <td>...</td>\n",
       "      <td>0</td>\n",
       "      <td>0</td>\n",
       "      <td>0</td>\n",
       "      <td>0</td>\n",
       "      <td>0</td>\n",
       "      <td>0</td>\n",
       "      <td>0</td>\n",
       "      <td>0</td>\n",
       "      <td>0</td>\n",
       "      <td>0</td>\n",
       "    </tr>\n",
       "    <tr>\n",
       "      <th>540</th>\n",
       "      <td>128</td>\n",
       "      <td>4</td>\n",
       "      <td>5000</td>\n",
       "      <td>50</td>\n",
       "      <td>8</td>\n",
       "      <td>0</td>\n",
       "      <td>16</td>\n",
       "      <td>15999</td>\n",
       "      <td>0</td>\n",
       "      <td>0</td>\n",
       "      <td>...</td>\n",
       "      <td>0</td>\n",
       "      <td>0</td>\n",
       "      <td>0</td>\n",
       "      <td>0</td>\n",
       "      <td>0</td>\n",
       "      <td>0</td>\n",
       "      <td>0</td>\n",
       "      <td>0</td>\n",
       "      <td>0</td>\n",
       "      <td>0</td>\n",
       "    </tr>\n",
       "  </tbody>\n",
       "</table>\n",
       "<p>469 rows × 182 columns</p>\n",
       "</div>"
      ],
      "text/plain": [
       "     Memory  RAM  Battery_  Rear Camera  Front Camera  AI Lens  Mobile Height  \\\n",
       "0        64    4      6000           13             5        1             16   \n",
       "1        64    4      6000           13             5        1             16   \n",
       "2       128    8      5000           50            16        0             16   \n",
       "3        32    2      5000            8             5        0             16   \n",
       "4       128    8      5000           50             5        1             16   \n",
       "..      ...  ...       ...          ...           ...      ...            ...   \n",
       "534      64    4      5000           50             8        0             16   \n",
       "535      64    3      5000           13             5        0             16   \n",
       "537      32    2      3100            5             2        0             12   \n",
       "538      64    4      5000           50             8        0             16   \n",
       "540     128    4      5000           50             8        0             16   \n",
       "\n",
       "     Prize  Model_I Kall  Model_IQOO Neo 7 5G  ...  \\\n",
       "0     7299             0                    0  ...   \n",
       "1     7299             0                    0  ...   \n",
       "2    11999             0                    0  ...   \n",
       "3     5649             0                    0  ...   \n",
       "4     8999             0                    0  ...   \n",
       "..     ...           ...                  ...  ...   \n",
       "534   9790             0                    0  ...   \n",
       "535   9999             0                    0  ...   \n",
       "537   5998             0                    0  ...   \n",
       "538   9990             0                    0  ...   \n",
       "540  15999             0                    0  ...   \n",
       "\n",
       "     Processor__Unisoc SC9863A/ Unisoc SC9863A1  \\\n",
       "0                                             0   \n",
       "1                                             0   \n",
       "2                                             0   \n",
       "3                                             0   \n",
       "4                                             0   \n",
       "..                                          ...   \n",
       "534                                           0   \n",
       "535                                           0   \n",
       "537                                           0   \n",
       "538                                           0   \n",
       "540                                           0   \n",
       "\n",
       "     Processor__Unisoc Spreadtrum SC9863A1  Processor__Unisoc T606  \\\n",
       "0                                        1                       0   \n",
       "1                                        1                       0   \n",
       "2                                        0                       0   \n",
       "3                                        0                       0   \n",
       "4                                        0                       0   \n",
       "..                                     ...                     ...   \n",
       "534                                      0                       0   \n",
       "535                                      0                       0   \n",
       "537                                      0                       0   \n",
       "538                                      0                       0   \n",
       "540                                      0                       0   \n",
       "\n",
       "     Processor__Unisoc T610  Processor__Unisoc T612  \\\n",
       "0                         0                       0   \n",
       "1                         0                       0   \n",
       "2                         0                       0   \n",
       "3                         0                       0   \n",
       "4                         0                       0   \n",
       "..                      ...                     ...   \n",
       "534                       0                       0   \n",
       "535                       0                       0   \n",
       "537                       0                       0   \n",
       "538                       0                       0   \n",
       "540                       0                       0   \n",
       "\n",
       "     Processor__Unisoc T612 processor  Processor__Unisoc T616  \\\n",
       "0                                   0                       0   \n",
       "1                                   0                       0   \n",
       "2                                   0                       0   \n",
       "3                                   0                       0   \n",
       "4                                   0                       0   \n",
       "..                                ...                     ...   \n",
       "534                                 0                       0   \n",
       "535                                 0                       0   \n",
       "537                                 0                       0   \n",
       "538                                 0                       0   \n",
       "540                                 0                       0   \n",
       "\n",
       "     Processor__Unisoc Tiger T612 (12 nm)  Processor__Unisoc Tiger T616  \\\n",
       "0                                       0                             0   \n",
       "1                                       0                             0   \n",
       "2                                       0                             0   \n",
       "3                                       0                             0   \n",
       "4                                       0                             0   \n",
       "..                                    ...                           ...   \n",
       "534                                     0                             0   \n",
       "535                                     0                             0   \n",
       "537                                     0                             0   \n",
       "538                                     0                             0   \n",
       "540                                     0                             0   \n",
       "\n",
       "     Processor__snapdragon 888  \n",
       "0                            0  \n",
       "1                            0  \n",
       "2                            0  \n",
       "3                            0  \n",
       "4                            0  \n",
       "..                         ...  \n",
       "534                          0  \n",
       "535                          0  \n",
       "537                          0  \n",
       "538                          0  \n",
       "540                          0  \n",
       "\n",
       "[469 rows x 182 columns]"
      ]
     },
     "execution_count": 59,
     "metadata": {},
     "output_type": "execute_result"
    }
   ],
   "source": [
    "encoding_Processed_Flipdata"
   ]
  },
  {
   "cell_type": "code",
   "execution_count": 60,
   "id": "82d6a309",
   "metadata": {},
   "outputs": [],
   "source": [
    "from sklearn.model_selection import train_test_split"
   ]
  },
  {
   "cell_type": "code",
   "execution_count": 61,
   "id": "cd641637",
   "metadata": {},
   "outputs": [],
   "source": [
    "X=encoding_Processed_Flipdata.drop('Prize',axis=1)\n",
    "Y=encoding_Processed_Flipdata.Prize"
   ]
  },
  {
   "cell_type": "code",
   "execution_count": 62,
   "id": "183b52b4",
   "metadata": {},
   "outputs": [
    {
     "data": {
      "text/html": [
       "<div>\n",
       "<style scoped>\n",
       "    .dataframe tbody tr th:only-of-type {\n",
       "        vertical-align: middle;\n",
       "    }\n",
       "\n",
       "    .dataframe tbody tr th {\n",
       "        vertical-align: top;\n",
       "    }\n",
       "\n",
       "    .dataframe thead th {\n",
       "        text-align: right;\n",
       "    }\n",
       "</style>\n",
       "<table border=\"1\" class=\"dataframe\">\n",
       "  <thead>\n",
       "    <tr style=\"text-align: right;\">\n",
       "      <th></th>\n",
       "      <th>Memory</th>\n",
       "      <th>RAM</th>\n",
       "      <th>Battery_</th>\n",
       "      <th>Rear Camera</th>\n",
       "      <th>Front Camera</th>\n",
       "      <th>AI Lens</th>\n",
       "      <th>Mobile Height</th>\n",
       "      <th>Model_I Kall</th>\n",
       "      <th>Model_IQOO Neo 7 5G</th>\n",
       "      <th>Model_Infinix</th>\n",
       "      <th>...</th>\n",
       "      <th>Processor__Unisoc SC9863A/ Unisoc SC9863A1</th>\n",
       "      <th>Processor__Unisoc Spreadtrum SC9863A1</th>\n",
       "      <th>Processor__Unisoc T606</th>\n",
       "      <th>Processor__Unisoc T610</th>\n",
       "      <th>Processor__Unisoc T612</th>\n",
       "      <th>Processor__Unisoc T612 processor</th>\n",
       "      <th>Processor__Unisoc T616</th>\n",
       "      <th>Processor__Unisoc Tiger T612 (12 nm)</th>\n",
       "      <th>Processor__Unisoc Tiger T616</th>\n",
       "      <th>Processor__snapdragon 888</th>\n",
       "    </tr>\n",
       "  </thead>\n",
       "  <tbody>\n",
       "    <tr>\n",
       "      <th>0</th>\n",
       "      <td>64</td>\n",
       "      <td>4</td>\n",
       "      <td>6000</td>\n",
       "      <td>13</td>\n",
       "      <td>5</td>\n",
       "      <td>1</td>\n",
       "      <td>16</td>\n",
       "      <td>0</td>\n",
       "      <td>0</td>\n",
       "      <td>1</td>\n",
       "      <td>...</td>\n",
       "      <td>0</td>\n",
       "      <td>1</td>\n",
       "      <td>0</td>\n",
       "      <td>0</td>\n",
       "      <td>0</td>\n",
       "      <td>0</td>\n",
       "      <td>0</td>\n",
       "      <td>0</td>\n",
       "      <td>0</td>\n",
       "      <td>0</td>\n",
       "    </tr>\n",
       "    <tr>\n",
       "      <th>1</th>\n",
       "      <td>64</td>\n",
       "      <td>4</td>\n",
       "      <td>6000</td>\n",
       "      <td>13</td>\n",
       "      <td>5</td>\n",
       "      <td>1</td>\n",
       "      <td>16</td>\n",
       "      <td>0</td>\n",
       "      <td>0</td>\n",
       "      <td>1</td>\n",
       "      <td>...</td>\n",
       "      <td>0</td>\n",
       "      <td>1</td>\n",
       "      <td>0</td>\n",
       "      <td>0</td>\n",
       "      <td>0</td>\n",
       "      <td>0</td>\n",
       "      <td>0</td>\n",
       "      <td>0</td>\n",
       "      <td>0</td>\n",
       "      <td>0</td>\n",
       "    </tr>\n",
       "    <tr>\n",
       "      <th>2</th>\n",
       "      <td>128</td>\n",
       "      <td>8</td>\n",
       "      <td>5000</td>\n",
       "      <td>50</td>\n",
       "      <td>16</td>\n",
       "      <td>0</td>\n",
       "      <td>16</td>\n",
       "      <td>0</td>\n",
       "      <td>0</td>\n",
       "      <td>0</td>\n",
       "      <td>...</td>\n",
       "      <td>0</td>\n",
       "      <td>0</td>\n",
       "      <td>0</td>\n",
       "      <td>0</td>\n",
       "      <td>0</td>\n",
       "      <td>0</td>\n",
       "      <td>0</td>\n",
       "      <td>0</td>\n",
       "      <td>0</td>\n",
       "      <td>0</td>\n",
       "    </tr>\n",
       "    <tr>\n",
       "      <th>3</th>\n",
       "      <td>32</td>\n",
       "      <td>2</td>\n",
       "      <td>5000</td>\n",
       "      <td>8</td>\n",
       "      <td>5</td>\n",
       "      <td>0</td>\n",
       "      <td>16</td>\n",
       "      <td>0</td>\n",
       "      <td>0</td>\n",
       "      <td>0</td>\n",
       "      <td>...</td>\n",
       "      <td>0</td>\n",
       "      <td>0</td>\n",
       "      <td>0</td>\n",
       "      <td>0</td>\n",
       "      <td>0</td>\n",
       "      <td>0</td>\n",
       "      <td>0</td>\n",
       "      <td>0</td>\n",
       "      <td>0</td>\n",
       "      <td>0</td>\n",
       "    </tr>\n",
       "    <tr>\n",
       "      <th>4</th>\n",
       "      <td>128</td>\n",
       "      <td>8</td>\n",
       "      <td>5000</td>\n",
       "      <td>50</td>\n",
       "      <td>5</td>\n",
       "      <td>1</td>\n",
       "      <td>16</td>\n",
       "      <td>0</td>\n",
       "      <td>0</td>\n",
       "      <td>1</td>\n",
       "      <td>...</td>\n",
       "      <td>0</td>\n",
       "      <td>0</td>\n",
       "      <td>0</td>\n",
       "      <td>0</td>\n",
       "      <td>0</td>\n",
       "      <td>0</td>\n",
       "      <td>0</td>\n",
       "      <td>0</td>\n",
       "      <td>0</td>\n",
       "      <td>0</td>\n",
       "    </tr>\n",
       "    <tr>\n",
       "      <th>...</th>\n",
       "      <td>...</td>\n",
       "      <td>...</td>\n",
       "      <td>...</td>\n",
       "      <td>...</td>\n",
       "      <td>...</td>\n",
       "      <td>...</td>\n",
       "      <td>...</td>\n",
       "      <td>...</td>\n",
       "      <td>...</td>\n",
       "      <td>...</td>\n",
       "      <td>...</td>\n",
       "      <td>...</td>\n",
       "      <td>...</td>\n",
       "      <td>...</td>\n",
       "      <td>...</td>\n",
       "      <td>...</td>\n",
       "      <td>...</td>\n",
       "      <td>...</td>\n",
       "      <td>...</td>\n",
       "      <td>...</td>\n",
       "      <td>...</td>\n",
       "    </tr>\n",
       "    <tr>\n",
       "      <th>534</th>\n",
       "      <td>64</td>\n",
       "      <td>4</td>\n",
       "      <td>5000</td>\n",
       "      <td>50</td>\n",
       "      <td>8</td>\n",
       "      <td>0</td>\n",
       "      <td>16</td>\n",
       "      <td>0</td>\n",
       "      <td>0</td>\n",
       "      <td>0</td>\n",
       "      <td>...</td>\n",
       "      <td>0</td>\n",
       "      <td>0</td>\n",
       "      <td>0</td>\n",
       "      <td>0</td>\n",
       "      <td>0</td>\n",
       "      <td>0</td>\n",
       "      <td>0</td>\n",
       "      <td>0</td>\n",
       "      <td>0</td>\n",
       "      <td>0</td>\n",
       "    </tr>\n",
       "    <tr>\n",
       "      <th>535</th>\n",
       "      <td>64</td>\n",
       "      <td>3</td>\n",
       "      <td>5000</td>\n",
       "      <td>13</td>\n",
       "      <td>5</td>\n",
       "      <td>0</td>\n",
       "      <td>16</td>\n",
       "      <td>0</td>\n",
       "      <td>0</td>\n",
       "      <td>0</td>\n",
       "      <td>...</td>\n",
       "      <td>0</td>\n",
       "      <td>0</td>\n",
       "      <td>0</td>\n",
       "      <td>0</td>\n",
       "      <td>0</td>\n",
       "      <td>0</td>\n",
       "      <td>0</td>\n",
       "      <td>0</td>\n",
       "      <td>0</td>\n",
       "      <td>0</td>\n",
       "    </tr>\n",
       "    <tr>\n",
       "      <th>537</th>\n",
       "      <td>32</td>\n",
       "      <td>2</td>\n",
       "      <td>3100</td>\n",
       "      <td>5</td>\n",
       "      <td>2</td>\n",
       "      <td>0</td>\n",
       "      <td>12</td>\n",
       "      <td>0</td>\n",
       "      <td>0</td>\n",
       "      <td>0</td>\n",
       "      <td>...</td>\n",
       "      <td>0</td>\n",
       "      <td>0</td>\n",
       "      <td>0</td>\n",
       "      <td>0</td>\n",
       "      <td>0</td>\n",
       "      <td>0</td>\n",
       "      <td>0</td>\n",
       "      <td>0</td>\n",
       "      <td>0</td>\n",
       "      <td>0</td>\n",
       "    </tr>\n",
       "    <tr>\n",
       "      <th>538</th>\n",
       "      <td>64</td>\n",
       "      <td>4</td>\n",
       "      <td>5000</td>\n",
       "      <td>50</td>\n",
       "      <td>8</td>\n",
       "      <td>0</td>\n",
       "      <td>16</td>\n",
       "      <td>0</td>\n",
       "      <td>0</td>\n",
       "      <td>0</td>\n",
       "      <td>...</td>\n",
       "      <td>0</td>\n",
       "      <td>0</td>\n",
       "      <td>0</td>\n",
       "      <td>0</td>\n",
       "      <td>0</td>\n",
       "      <td>0</td>\n",
       "      <td>0</td>\n",
       "      <td>0</td>\n",
       "      <td>0</td>\n",
       "      <td>0</td>\n",
       "    </tr>\n",
       "    <tr>\n",
       "      <th>540</th>\n",
       "      <td>128</td>\n",
       "      <td>4</td>\n",
       "      <td>5000</td>\n",
       "      <td>50</td>\n",
       "      <td>8</td>\n",
       "      <td>0</td>\n",
       "      <td>16</td>\n",
       "      <td>0</td>\n",
       "      <td>0</td>\n",
       "      <td>0</td>\n",
       "      <td>...</td>\n",
       "      <td>0</td>\n",
       "      <td>0</td>\n",
       "      <td>0</td>\n",
       "      <td>0</td>\n",
       "      <td>0</td>\n",
       "      <td>0</td>\n",
       "      <td>0</td>\n",
       "      <td>0</td>\n",
       "      <td>0</td>\n",
       "      <td>0</td>\n",
       "    </tr>\n",
       "  </tbody>\n",
       "</table>\n",
       "<p>469 rows × 181 columns</p>\n",
       "</div>"
      ],
      "text/plain": [
       "     Memory  RAM  Battery_  Rear Camera  Front Camera  AI Lens  Mobile Height  \\\n",
       "0        64    4      6000           13             5        1             16   \n",
       "1        64    4      6000           13             5        1             16   \n",
       "2       128    8      5000           50            16        0             16   \n",
       "3        32    2      5000            8             5        0             16   \n",
       "4       128    8      5000           50             5        1             16   \n",
       "..      ...  ...       ...          ...           ...      ...            ...   \n",
       "534      64    4      5000           50             8        0             16   \n",
       "535      64    3      5000           13             5        0             16   \n",
       "537      32    2      3100            5             2        0             12   \n",
       "538      64    4      5000           50             8        0             16   \n",
       "540     128    4      5000           50             8        0             16   \n",
       "\n",
       "     Model_I Kall  Model_IQOO Neo 7 5G  Model_Infinix  ...  \\\n",
       "0               0                    0              1  ...   \n",
       "1               0                    0              1  ...   \n",
       "2               0                    0              0  ...   \n",
       "3               0                    0              0  ...   \n",
       "4               0                    0              1  ...   \n",
       "..            ...                  ...            ...  ...   \n",
       "534             0                    0              0  ...   \n",
       "535             0                    0              0  ...   \n",
       "537             0                    0              0  ...   \n",
       "538             0                    0              0  ...   \n",
       "540             0                    0              0  ...   \n",
       "\n",
       "     Processor__Unisoc SC9863A/ Unisoc SC9863A1  \\\n",
       "0                                             0   \n",
       "1                                             0   \n",
       "2                                             0   \n",
       "3                                             0   \n",
       "4                                             0   \n",
       "..                                          ...   \n",
       "534                                           0   \n",
       "535                                           0   \n",
       "537                                           0   \n",
       "538                                           0   \n",
       "540                                           0   \n",
       "\n",
       "     Processor__Unisoc Spreadtrum SC9863A1  Processor__Unisoc T606  \\\n",
       "0                                        1                       0   \n",
       "1                                        1                       0   \n",
       "2                                        0                       0   \n",
       "3                                        0                       0   \n",
       "4                                        0                       0   \n",
       "..                                     ...                     ...   \n",
       "534                                      0                       0   \n",
       "535                                      0                       0   \n",
       "537                                      0                       0   \n",
       "538                                      0                       0   \n",
       "540                                      0                       0   \n",
       "\n",
       "     Processor__Unisoc T610  Processor__Unisoc T612  \\\n",
       "0                         0                       0   \n",
       "1                         0                       0   \n",
       "2                         0                       0   \n",
       "3                         0                       0   \n",
       "4                         0                       0   \n",
       "..                      ...                     ...   \n",
       "534                       0                       0   \n",
       "535                       0                       0   \n",
       "537                       0                       0   \n",
       "538                       0                       0   \n",
       "540                       0                       0   \n",
       "\n",
       "     Processor__Unisoc T612 processor  Processor__Unisoc T616  \\\n",
       "0                                   0                       0   \n",
       "1                                   0                       0   \n",
       "2                                   0                       0   \n",
       "3                                   0                       0   \n",
       "4                                   0                       0   \n",
       "..                                ...                     ...   \n",
       "534                                 0                       0   \n",
       "535                                 0                       0   \n",
       "537                                 0                       0   \n",
       "538                                 0                       0   \n",
       "540                                 0                       0   \n",
       "\n",
       "     Processor__Unisoc Tiger T612 (12 nm)  Processor__Unisoc Tiger T616  \\\n",
       "0                                       0                             0   \n",
       "1                                       0                             0   \n",
       "2                                       0                             0   \n",
       "3                                       0                             0   \n",
       "4                                       0                             0   \n",
       "..                                    ...                           ...   \n",
       "534                                     0                             0   \n",
       "535                                     0                             0   \n",
       "537                                     0                             0   \n",
       "538                                     0                             0   \n",
       "540                                     0                             0   \n",
       "\n",
       "     Processor__snapdragon 888  \n",
       "0                            0  \n",
       "1                            0  \n",
       "2                            0  \n",
       "3                            0  \n",
       "4                            0  \n",
       "..                         ...  \n",
       "534                          0  \n",
       "535                          0  \n",
       "537                          0  \n",
       "538                          0  \n",
       "540                          0  \n",
       "\n",
       "[469 rows x 181 columns]"
      ]
     },
     "execution_count": 62,
     "metadata": {},
     "output_type": "execute_result"
    }
   ],
   "source": [
    "X"
   ]
  },
  {
   "cell_type": "code",
   "execution_count": 63,
   "id": "9d6f05d6",
   "metadata": {},
   "outputs": [
    {
     "data": {
      "text/plain": [
       "0       7299\n",
       "1       7299\n",
       "2      11999\n",
       "3       5649\n",
       "4       8999\n",
       "       ...  \n",
       "534     9790\n",
       "535     9999\n",
       "537     5998\n",
       "538     9990\n",
       "540    15999\n",
       "Name: Prize, Length: 469, dtype: int64"
      ]
     },
     "execution_count": 63,
     "metadata": {},
     "output_type": "execute_result"
    }
   ],
   "source": [
    "Y\n"
   ]
  },
  {
   "cell_type": "code",
   "execution_count": 64,
   "id": "4cb15711",
   "metadata": {},
   "outputs": [],
   "source": [
    "X_train, X_test, Y_train, Y_test = train_test_split(X, Y, test_size=0.2, random_state=42)"
   ]
  },
  {
   "cell_type": "code",
   "execution_count": 65,
   "id": "5e2642dc",
   "metadata": {},
   "outputs": [
    {
     "data": {
      "text/html": [
       "<div>\n",
       "<style scoped>\n",
       "    .dataframe tbody tr th:only-of-type {\n",
       "        vertical-align: middle;\n",
       "    }\n",
       "\n",
       "    .dataframe tbody tr th {\n",
       "        vertical-align: top;\n",
       "    }\n",
       "\n",
       "    .dataframe thead th {\n",
       "        text-align: right;\n",
       "    }\n",
       "</style>\n",
       "<table border=\"1\" class=\"dataframe\">\n",
       "  <thead>\n",
       "    <tr style=\"text-align: right;\">\n",
       "      <th></th>\n",
       "      <th>Memory</th>\n",
       "      <th>RAM</th>\n",
       "      <th>Battery_</th>\n",
       "      <th>Rear Camera</th>\n",
       "      <th>Front Camera</th>\n",
       "      <th>AI Lens</th>\n",
       "      <th>Mobile Height</th>\n",
       "      <th>Model_I Kall</th>\n",
       "      <th>Model_IQOO Neo 7 5G</th>\n",
       "      <th>Model_Infinix</th>\n",
       "      <th>...</th>\n",
       "      <th>Processor__Unisoc SC9863A/ Unisoc SC9863A1</th>\n",
       "      <th>Processor__Unisoc Spreadtrum SC9863A1</th>\n",
       "      <th>Processor__Unisoc T606</th>\n",
       "      <th>Processor__Unisoc T610</th>\n",
       "      <th>Processor__Unisoc T612</th>\n",
       "      <th>Processor__Unisoc T612 processor</th>\n",
       "      <th>Processor__Unisoc T616</th>\n",
       "      <th>Processor__Unisoc Tiger T612 (12 nm)</th>\n",
       "      <th>Processor__Unisoc Tiger T616</th>\n",
       "      <th>Processor__snapdragon 888</th>\n",
       "    </tr>\n",
       "  </thead>\n",
       "  <tbody>\n",
       "    <tr>\n",
       "      <th>468</th>\n",
       "      <td>128</td>\n",
       "      <td>4</td>\n",
       "      <td>5000</td>\n",
       "      <td>50</td>\n",
       "      <td>16</td>\n",
       "      <td>0</td>\n",
       "      <td>16</td>\n",
       "      <td>0</td>\n",
       "      <td>0</td>\n",
       "      <td>0</td>\n",
       "      <td>...</td>\n",
       "      <td>0</td>\n",
       "      <td>0</td>\n",
       "      <td>0</td>\n",
       "      <td>0</td>\n",
       "      <td>0</td>\n",
       "      <td>0</td>\n",
       "      <td>0</td>\n",
       "      <td>0</td>\n",
       "      <td>0</td>\n",
       "      <td>0</td>\n",
       "    </tr>\n",
       "    <tr>\n",
       "      <th>340</th>\n",
       "      <td>64</td>\n",
       "      <td>3</td>\n",
       "      <td>5000</td>\n",
       "      <td>13</td>\n",
       "      <td>5</td>\n",
       "      <td>0</td>\n",
       "      <td>16</td>\n",
       "      <td>0</td>\n",
       "      <td>0</td>\n",
       "      <td>0</td>\n",
       "      <td>...</td>\n",
       "      <td>0</td>\n",
       "      <td>0</td>\n",
       "      <td>0</td>\n",
       "      <td>0</td>\n",
       "      <td>0</td>\n",
       "      <td>0</td>\n",
       "      <td>0</td>\n",
       "      <td>0</td>\n",
       "      <td>0</td>\n",
       "      <td>0</td>\n",
       "    </tr>\n",
       "    <tr>\n",
       "      <th>22</th>\n",
       "      <td>128</td>\n",
       "      <td>8</td>\n",
       "      <td>5000</td>\n",
       "      <td>50</td>\n",
       "      <td>8</td>\n",
       "      <td>0</td>\n",
       "      <td>16</td>\n",
       "      <td>0</td>\n",
       "      <td>0</td>\n",
       "      <td>0</td>\n",
       "      <td>...</td>\n",
       "      <td>0</td>\n",
       "      <td>0</td>\n",
       "      <td>0</td>\n",
       "      <td>0</td>\n",
       "      <td>0</td>\n",
       "      <td>0</td>\n",
       "      <td>0</td>\n",
       "      <td>0</td>\n",
       "      <td>0</td>\n",
       "      <td>0</td>\n",
       "    </tr>\n",
       "    <tr>\n",
       "      <th>342</th>\n",
       "      <td>128</td>\n",
       "      <td>8</td>\n",
       "      <td>4500</td>\n",
       "      <td>50</td>\n",
       "      <td>16</td>\n",
       "      <td>0</td>\n",
       "      <td>16</td>\n",
       "      <td>0</td>\n",
       "      <td>0</td>\n",
       "      <td>0</td>\n",
       "      <td>...</td>\n",
       "      <td>0</td>\n",
       "      <td>0</td>\n",
       "      <td>0</td>\n",
       "      <td>0</td>\n",
       "      <td>0</td>\n",
       "      <td>0</td>\n",
       "      <td>0</td>\n",
       "      <td>0</td>\n",
       "      <td>0</td>\n",
       "      <td>0</td>\n",
       "    </tr>\n",
       "    <tr>\n",
       "      <th>46</th>\n",
       "      <td>64</td>\n",
       "      <td>4</td>\n",
       "      <td>5000</td>\n",
       "      <td>50</td>\n",
       "      <td>8</td>\n",
       "      <td>0</td>\n",
       "      <td>16</td>\n",
       "      <td>0</td>\n",
       "      <td>0</td>\n",
       "      <td>0</td>\n",
       "      <td>...</td>\n",
       "      <td>0</td>\n",
       "      <td>0</td>\n",
       "      <td>0</td>\n",
       "      <td>0</td>\n",
       "      <td>0</td>\n",
       "      <td>0</td>\n",
       "      <td>0</td>\n",
       "      <td>0</td>\n",
       "      <td>0</td>\n",
       "      <td>0</td>\n",
       "    </tr>\n",
       "    <tr>\n",
       "      <th>...</th>\n",
       "      <td>...</td>\n",
       "      <td>...</td>\n",
       "      <td>...</td>\n",
       "      <td>...</td>\n",
       "      <td>...</td>\n",
       "      <td>...</td>\n",
       "      <td>...</td>\n",
       "      <td>...</td>\n",
       "      <td>...</td>\n",
       "      <td>...</td>\n",
       "      <td>...</td>\n",
       "      <td>...</td>\n",
       "      <td>...</td>\n",
       "      <td>...</td>\n",
       "      <td>...</td>\n",
       "      <td>...</td>\n",
       "      <td>...</td>\n",
       "      <td>...</td>\n",
       "      <td>...</td>\n",
       "      <td>...</td>\n",
       "      <td>...</td>\n",
       "    </tr>\n",
       "    <tr>\n",
       "      <th>106</th>\n",
       "      <td>32</td>\n",
       "      <td>3</td>\n",
       "      <td>5000</td>\n",
       "      <td>8</td>\n",
       "      <td>5</td>\n",
       "      <td>0</td>\n",
       "      <td>16</td>\n",
       "      <td>0</td>\n",
       "      <td>0</td>\n",
       "      <td>0</td>\n",
       "      <td>...</td>\n",
       "      <td>0</td>\n",
       "      <td>0</td>\n",
       "      <td>0</td>\n",
       "      <td>0</td>\n",
       "      <td>0</td>\n",
       "      <td>0</td>\n",
       "      <td>0</td>\n",
       "      <td>0</td>\n",
       "      <td>0</td>\n",
       "      <td>0</td>\n",
       "    </tr>\n",
       "    <tr>\n",
       "      <th>297</th>\n",
       "      <td>64</td>\n",
       "      <td>4</td>\n",
       "      <td>5000</td>\n",
       "      <td>50</td>\n",
       "      <td>5</td>\n",
       "      <td>0</td>\n",
       "      <td>16</td>\n",
       "      <td>0</td>\n",
       "      <td>0</td>\n",
       "      <td>0</td>\n",
       "      <td>...</td>\n",
       "      <td>0</td>\n",
       "      <td>0</td>\n",
       "      <td>0</td>\n",
       "      <td>0</td>\n",
       "      <td>1</td>\n",
       "      <td>0</td>\n",
       "      <td>0</td>\n",
       "      <td>0</td>\n",
       "      <td>0</td>\n",
       "      <td>0</td>\n",
       "    </tr>\n",
       "    <tr>\n",
       "      <th>388</th>\n",
       "      <td>128</td>\n",
       "      <td>8</td>\n",
       "      <td>5000</td>\n",
       "      <td>108</td>\n",
       "      <td>16</td>\n",
       "      <td>0</td>\n",
       "      <td>17</td>\n",
       "      <td>0</td>\n",
       "      <td>0</td>\n",
       "      <td>0</td>\n",
       "      <td>...</td>\n",
       "      <td>0</td>\n",
       "      <td>0</td>\n",
       "      <td>0</td>\n",
       "      <td>0</td>\n",
       "      <td>0</td>\n",
       "      <td>0</td>\n",
       "      <td>0</td>\n",
       "      <td>0</td>\n",
       "      <td>0</td>\n",
       "      <td>0</td>\n",
       "    </tr>\n",
       "    <tr>\n",
       "      <th>492</th>\n",
       "      <td>128</td>\n",
       "      <td>6</td>\n",
       "      <td>5020</td>\n",
       "      <td>48</td>\n",
       "      <td>16</td>\n",
       "      <td>0</td>\n",
       "      <td>16</td>\n",
       "      <td>0</td>\n",
       "      <td>0</td>\n",
       "      <td>0</td>\n",
       "      <td>...</td>\n",
       "      <td>0</td>\n",
       "      <td>0</td>\n",
       "      <td>0</td>\n",
       "      <td>0</td>\n",
       "      <td>0</td>\n",
       "      <td>0</td>\n",
       "      <td>0</td>\n",
       "      <td>0</td>\n",
       "      <td>0</td>\n",
       "      <td>0</td>\n",
       "    </tr>\n",
       "    <tr>\n",
       "      <th>102</th>\n",
       "      <td>128</td>\n",
       "      <td>8</td>\n",
       "      <td>5000</td>\n",
       "      <td>108</td>\n",
       "      <td>16</td>\n",
       "      <td>0</td>\n",
       "      <td>17</td>\n",
       "      <td>0</td>\n",
       "      <td>0</td>\n",
       "      <td>0</td>\n",
       "      <td>...</td>\n",
       "      <td>0</td>\n",
       "      <td>0</td>\n",
       "      <td>0</td>\n",
       "      <td>0</td>\n",
       "      <td>0</td>\n",
       "      <td>0</td>\n",
       "      <td>0</td>\n",
       "      <td>0</td>\n",
       "      <td>0</td>\n",
       "      <td>0</td>\n",
       "    </tr>\n",
       "  </tbody>\n",
       "</table>\n",
       "<p>375 rows × 181 columns</p>\n",
       "</div>"
      ],
      "text/plain": [
       "     Memory  RAM  Battery_  Rear Camera  Front Camera  AI Lens  Mobile Height  \\\n",
       "468     128    4      5000           50            16        0             16   \n",
       "340      64    3      5000           13             5        0             16   \n",
       "22      128    8      5000           50             8        0             16   \n",
       "342     128    8      4500           50            16        0             16   \n",
       "46       64    4      5000           50             8        0             16   \n",
       "..      ...  ...       ...          ...           ...      ...            ...   \n",
       "106      32    3      5000            8             5        0             16   \n",
       "297      64    4      5000           50             5        0             16   \n",
       "388     128    8      5000          108            16        0             17   \n",
       "492     128    6      5020           48            16        0             16   \n",
       "102     128    8      5000          108            16        0             17   \n",
       "\n",
       "     Model_I Kall  Model_IQOO Neo 7 5G  Model_Infinix  ...  \\\n",
       "468             0                    0              0  ...   \n",
       "340             0                    0              0  ...   \n",
       "22              0                    0              0  ...   \n",
       "342             0                    0              0  ...   \n",
       "46              0                    0              0  ...   \n",
       "..            ...                  ...            ...  ...   \n",
       "106             0                    0              0  ...   \n",
       "297             0                    0              0  ...   \n",
       "388             0                    0              0  ...   \n",
       "492             0                    0              0  ...   \n",
       "102             0                    0              0  ...   \n",
       "\n",
       "     Processor__Unisoc SC9863A/ Unisoc SC9863A1  \\\n",
       "468                                           0   \n",
       "340                                           0   \n",
       "22                                            0   \n",
       "342                                           0   \n",
       "46                                            0   \n",
       "..                                          ...   \n",
       "106                                           0   \n",
       "297                                           0   \n",
       "388                                           0   \n",
       "492                                           0   \n",
       "102                                           0   \n",
       "\n",
       "     Processor__Unisoc Spreadtrum SC9863A1  Processor__Unisoc T606  \\\n",
       "468                                      0                       0   \n",
       "340                                      0                       0   \n",
       "22                                       0                       0   \n",
       "342                                      0                       0   \n",
       "46                                       0                       0   \n",
       "..                                     ...                     ...   \n",
       "106                                      0                       0   \n",
       "297                                      0                       0   \n",
       "388                                      0                       0   \n",
       "492                                      0                       0   \n",
       "102                                      0                       0   \n",
       "\n",
       "     Processor__Unisoc T610  Processor__Unisoc T612  \\\n",
       "468                       0                       0   \n",
       "340                       0                       0   \n",
       "22                        0                       0   \n",
       "342                       0                       0   \n",
       "46                        0                       0   \n",
       "..                      ...                     ...   \n",
       "106                       0                       0   \n",
       "297                       0                       1   \n",
       "388                       0                       0   \n",
       "492                       0                       0   \n",
       "102                       0                       0   \n",
       "\n",
       "     Processor__Unisoc T612 processor  Processor__Unisoc T616  \\\n",
       "468                                 0                       0   \n",
       "340                                 0                       0   \n",
       "22                                  0                       0   \n",
       "342                                 0                       0   \n",
       "46                                  0                       0   \n",
       "..                                ...                     ...   \n",
       "106                                 0                       0   \n",
       "297                                 0                       0   \n",
       "388                                 0                       0   \n",
       "492                                 0                       0   \n",
       "102                                 0                       0   \n",
       "\n",
       "     Processor__Unisoc Tiger T612 (12 nm)  Processor__Unisoc Tiger T616  \\\n",
       "468                                     0                             0   \n",
       "340                                     0                             0   \n",
       "22                                      0                             0   \n",
       "342                                     0                             0   \n",
       "46                                      0                             0   \n",
       "..                                    ...                           ...   \n",
       "106                                     0                             0   \n",
       "297                                     0                             0   \n",
       "388                                     0                             0   \n",
       "492                                     0                             0   \n",
       "102                                     0                             0   \n",
       "\n",
       "     Processor__snapdragon 888  \n",
       "468                          0  \n",
       "340                          0  \n",
       "22                           0  \n",
       "342                          0  \n",
       "46                           0  \n",
       "..                         ...  \n",
       "106                          0  \n",
       "297                          0  \n",
       "388                          0  \n",
       "492                          0  \n",
       "102                          0  \n",
       "\n",
       "[375 rows x 181 columns]"
      ]
     },
     "execution_count": 65,
     "metadata": {},
     "output_type": "execute_result"
    }
   ],
   "source": [
    "X_train"
   ]
  },
  {
   "cell_type": "code",
   "execution_count": 66,
   "id": "751a1047",
   "metadata": {},
   "outputs": [],
   "source": [
    "from sklearn.ensemble import RandomForestRegressor"
   ]
  },
  {
   "cell_type": "code",
   "execution_count": 67,
   "id": "e15acc82",
   "metadata": {},
   "outputs": [],
   "source": [
    "model = RandomForestRegressor()"
   ]
  },
  {
   "cell_type": "code",
   "execution_count": 68,
   "id": "85c65fed",
   "metadata": {},
   "outputs": [
    {
     "data": {
      "text/html": [
       "<style>#sk-container-id-1 {color: black;}#sk-container-id-1 pre{padding: 0;}#sk-container-id-1 div.sk-toggleable {background-color: white;}#sk-container-id-1 label.sk-toggleable__label {cursor: pointer;display: block;width: 100%;margin-bottom: 0;padding: 0.3em;box-sizing: border-box;text-align: center;}#sk-container-id-1 label.sk-toggleable__label-arrow:before {content: \"▸\";float: left;margin-right: 0.25em;color: #696969;}#sk-container-id-1 label.sk-toggleable__label-arrow:hover:before {color: black;}#sk-container-id-1 div.sk-estimator:hover label.sk-toggleable__label-arrow:before {color: black;}#sk-container-id-1 div.sk-toggleable__content {max-height: 0;max-width: 0;overflow: hidden;text-align: left;background-color: #f0f8ff;}#sk-container-id-1 div.sk-toggleable__content pre {margin: 0.2em;color: black;border-radius: 0.25em;background-color: #f0f8ff;}#sk-container-id-1 input.sk-toggleable__control:checked~div.sk-toggleable__content {max-height: 200px;max-width: 100%;overflow: auto;}#sk-container-id-1 input.sk-toggleable__control:checked~label.sk-toggleable__label-arrow:before {content: \"▾\";}#sk-container-id-1 div.sk-estimator input.sk-toggleable__control:checked~label.sk-toggleable__label {background-color: #d4ebff;}#sk-container-id-1 div.sk-label input.sk-toggleable__control:checked~label.sk-toggleable__label {background-color: #d4ebff;}#sk-container-id-1 input.sk-hidden--visually {border: 0;clip: rect(1px 1px 1px 1px);clip: rect(1px, 1px, 1px, 1px);height: 1px;margin: -1px;overflow: hidden;padding: 0;position: absolute;width: 1px;}#sk-container-id-1 div.sk-estimator {font-family: monospace;background-color: #f0f8ff;border: 1px dotted black;border-radius: 0.25em;box-sizing: border-box;margin-bottom: 0.5em;}#sk-container-id-1 div.sk-estimator:hover {background-color: #d4ebff;}#sk-container-id-1 div.sk-parallel-item::after {content: \"\";width: 100%;border-bottom: 1px solid gray;flex-grow: 1;}#sk-container-id-1 div.sk-label:hover label.sk-toggleable__label {background-color: #d4ebff;}#sk-container-id-1 div.sk-serial::before {content: \"\";position: absolute;border-left: 1px solid gray;box-sizing: border-box;top: 0;bottom: 0;left: 50%;z-index: 0;}#sk-container-id-1 div.sk-serial {display: flex;flex-direction: column;align-items: center;background-color: white;padding-right: 0.2em;padding-left: 0.2em;position: relative;}#sk-container-id-1 div.sk-item {position: relative;z-index: 1;}#sk-container-id-1 div.sk-parallel {display: flex;align-items: stretch;justify-content: center;background-color: white;position: relative;}#sk-container-id-1 div.sk-item::before, #sk-container-id-1 div.sk-parallel-item::before {content: \"\";position: absolute;border-left: 1px solid gray;box-sizing: border-box;top: 0;bottom: 0;left: 50%;z-index: -1;}#sk-container-id-1 div.sk-parallel-item {display: flex;flex-direction: column;z-index: 1;position: relative;background-color: white;}#sk-container-id-1 div.sk-parallel-item:first-child::after {align-self: flex-end;width: 50%;}#sk-container-id-1 div.sk-parallel-item:last-child::after {align-self: flex-start;width: 50%;}#sk-container-id-1 div.sk-parallel-item:only-child::after {width: 0;}#sk-container-id-1 div.sk-dashed-wrapped {border: 1px dashed gray;margin: 0 0.4em 0.5em 0.4em;box-sizing: border-box;padding-bottom: 0.4em;background-color: white;}#sk-container-id-1 div.sk-label label {font-family: monospace;font-weight: bold;display: inline-block;line-height: 1.2em;}#sk-container-id-1 div.sk-label-container {text-align: center;}#sk-container-id-1 div.sk-container {/* jupyter's `normalize.less` sets `[hidden] { display: none; }` but bootstrap.min.css set `[hidden] { display: none !important; }` so we also need the `!important` here to be able to override the default hidden behavior on the sphinx rendered scikit-learn.org. See: https://github.com/scikit-learn/scikit-learn/issues/21755 */display: inline-block !important;position: relative;}#sk-container-id-1 div.sk-text-repr-fallback {display: none;}</style><div id=\"sk-container-id-1\" class=\"sk-top-container\"><div class=\"sk-text-repr-fallback\"><pre>RandomForestRegressor()</pre><b>In a Jupyter environment, please rerun this cell to show the HTML representation or trust the notebook. <br />On GitHub, the HTML representation is unable to render, please try loading this page with nbviewer.org.</b></div><div class=\"sk-container\" hidden><div class=\"sk-item\"><div class=\"sk-estimator sk-toggleable\"><input class=\"sk-toggleable__control sk-hidden--visually\" id=\"sk-estimator-id-1\" type=\"checkbox\" checked><label for=\"sk-estimator-id-1\" class=\"sk-toggleable__label sk-toggleable__label-arrow\">RandomForestRegressor</label><div class=\"sk-toggleable__content\"><pre>RandomForestRegressor()</pre></div></div></div></div></div>"
      ],
      "text/plain": [
       "RandomForestRegressor()"
      ]
     },
     "execution_count": 68,
     "metadata": {},
     "output_type": "execute_result"
    }
   ],
   "source": [
    "model.fit(X_train,Y_train)"
   ]
  },
  {
   "cell_type": "code",
   "execution_count": 69,
   "id": "9ad6f4e1",
   "metadata": {},
   "outputs": [],
   "source": [
    "y_pred = model.predict(X_test)"
   ]
  },
  {
   "cell_type": "code",
   "execution_count": 70,
   "id": "68fb3106",
   "metadata": {},
   "outputs": [
    {
     "data": {
      "text/plain": [
       "array([19991.63      ,  6364.59      ,  8340.83      , 10676.71      ,\n",
       "        8248.72333333,  1401.09      , 30193.83      ,  8329.33      ,\n",
       "       15602.91      ,  6663.23      ,  9920.92333333,  8189.89333333,\n",
       "        5015.21      , 10685.        , 13194.37      , 28071.15      ,\n",
       "       13116.72      ,  9855.98333333, 25188.37      , 14293.01      ,\n",
       "        7619.88      ,  9759.61333333,  8443.86      ,  9304.        ,\n",
       "        6475.925     , 15118.36      , 13141.63      , 16129.        ,\n",
       "        6581.42      ,  9954.88      , 16934.        , 16967.23      ,\n",
       "       17754.72      , 26713.41      ,  6379.7575    , 11183.57333333,\n",
       "        6610.71      , 16978.91      ,  9585.67      , 15476.08      ,\n",
       "       15761.54      ,  9341.        , 10108.99      ,  1500.09      ,\n",
       "       17870.38      , 11180.39666667,  8223.77333333, 16046.63      ,\n",
       "       13500.36      ,  9744.        , 11097.        , 11556.92      ,\n",
       "       16024.        ,  5117.53      , 17358.62      , 21629.95      ,\n",
       "       14317.03      , 17742.92      , 10577.03      , 11181.34333333,\n",
       "       27687.3       ,  9615.37      ,  8651.42      , 18428.8       ,\n",
       "       14317.03      , 11385.77333333, 10549.17      ,  8330.14      ,\n",
       "       14692.68      , 17301.8       , 11233.08      ,  7800.46      ,\n",
       "        9517.97666667, 14936.25      ,  7976.58      , 14286.45      ,\n",
       "       10688.51      , 11781.        , 16631.87      , 12181.85      ,\n",
       "        9675.67666667, 10007.58      , 12173.5       , 26628.13      ,\n",
       "       14254.        ,  8773.14      , 24252.5       , 15555.44      ,\n",
       "        8579.06333333, 10751.5       , 21313.82      , 14452.86      ,\n",
       "       10340.45      , 10668.27      ])"
      ]
     },
     "execution_count": 70,
     "metadata": {},
     "output_type": "execute_result"
    }
   ],
   "source": [
    "y_pred"
   ]
  },
  {
   "cell_type": "code",
   "execution_count": 71,
   "id": "e9d0dbf1",
   "metadata": {},
   "outputs": [
    {
     "name": "stdout",
     "output_type": "stream",
     "text": [
      "Model Score: 0.8721559648874913\n"
     ]
    }
   ],
   "source": [
    "score = model.score(X_test, Y_test)\n",
    "print(f'Model Score: {score}')"
   ]
  },
  {
   "cell_type": "code",
   "execution_count": null,
   "id": "d9ea636d",
   "metadata": {},
   "outputs": [],
   "source": []
  }
 ],
 "metadata": {
  "kernelspec": {
   "display_name": "Python 3 (ipykernel)",
   "language": "python",
   "name": "python3"
  },
  "language_info": {
   "codemirror_mode": {
    "name": "ipython",
    "version": 3
   },
   "file_extension": ".py",
   "mimetype": "text/x-python",
   "name": "python",
   "nbconvert_exporter": "python",
   "pygments_lexer": "ipython3",
   "version": "3.11.5"
  }
 },
 "nbformat": 4,
 "nbformat_minor": 5
}
