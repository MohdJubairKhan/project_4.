{
 "cells": [
  {
   "cell_type": "markdown",
   "id": "b3364169",
   "metadata": {},
   "source": [
    "# 1. Data Exploration:"
   ]
  },
  {
   "cell_type": "markdown",
   "id": "7438546f",
   "metadata": {},
   "source": [
    "# Import_Libraries"
   ]
  },
  {
   "cell_type": "code",
   "execution_count": 1,
   "id": "f2485f51",
   "metadata": {},
   "outputs": [],
   "source": [
    "import pandas as pd\n",
    "import numpy as np\n",
    "import seaborn as sns\n",
    "import matplotlib.pyplot as plt\n",
    "import warnings\n",
    "warnings.filterwarnings(\"ignore\")"
   ]
  },
  {
   "cell_type": "markdown",
   "id": "4dee5a5d",
   "metadata": {},
   "source": [
    "# Load the dataset"
   ]
  },
  {
   "cell_type": "code",
   "execution_count": 2,
   "id": "0f6f452f",
   "metadata": {},
   "outputs": [],
   "source": [
    "Processed_Flipdata = pd.read_excel('Processed_Flipdata.xlsx')"
   ]
  },
  {
   "cell_type": "markdown",
   "id": "2a8a0ee5",
   "metadata": {},
   "source": [
    "# Display the first few rows of the dataset"
   ]
  },
  {
   "cell_type": "code",
   "execution_count": 3,
   "id": "f9d7397b",
   "metadata": {},
   "outputs": [
    {
     "data": {
      "text/html": [
       "<div>\n",
       "<style scoped>\n",
       "    .dataframe tbody tr th:only-of-type {\n",
       "        vertical-align: middle;\n",
       "    }\n",
       "\n",
       "    .dataframe tbody tr th {\n",
       "        vertical-align: top;\n",
       "    }\n",
       "\n",
       "    .dataframe thead th {\n",
       "        text-align: right;\n",
       "    }\n",
       "</style>\n",
       "<table border=\"1\" class=\"dataframe\">\n",
       "  <thead>\n",
       "    <tr style=\"text-align: right;\">\n",
       "      <th></th>\n",
       "      <th>Unnamed: 0</th>\n",
       "      <th>Model</th>\n",
       "      <th>Colour</th>\n",
       "      <th>Memory</th>\n",
       "      <th>RAM</th>\n",
       "      <th>Battery_</th>\n",
       "      <th>Rear Camera</th>\n",
       "      <th>Front Camera</th>\n",
       "      <th>AI Lens</th>\n",
       "      <th>Mobile Height</th>\n",
       "      <th>Processor_</th>\n",
       "      <th>Prize</th>\n",
       "    </tr>\n",
       "  </thead>\n",
       "  <tbody>\n",
       "    <tr>\n",
       "      <th>0</th>\n",
       "      <td>0</td>\n",
       "      <td>Infinix SMART 7</td>\n",
       "      <td>Night Black</td>\n",
       "      <td>64</td>\n",
       "      <td>4</td>\n",
       "      <td>6000</td>\n",
       "      <td>13MP</td>\n",
       "      <td>5MP</td>\n",
       "      <td>1</td>\n",
       "      <td>16.76</td>\n",
       "      <td>Unisoc Spreadtrum SC9863A1</td>\n",
       "      <td>7299</td>\n",
       "    </tr>\n",
       "    <tr>\n",
       "      <th>1</th>\n",
       "      <td>1</td>\n",
       "      <td>Infinix SMART 7</td>\n",
       "      <td>Azure Blue</td>\n",
       "      <td>64</td>\n",
       "      <td>4</td>\n",
       "      <td>6000</td>\n",
       "      <td>13MP</td>\n",
       "      <td>5MP</td>\n",
       "      <td>1</td>\n",
       "      <td>16.76</td>\n",
       "      <td>Unisoc Spreadtrum SC9863A1</td>\n",
       "      <td>7299</td>\n",
       "    </tr>\n",
       "    <tr>\n",
       "      <th>2</th>\n",
       "      <td>2</td>\n",
       "      <td>MOTOROLA G32</td>\n",
       "      <td>Mineral Gray</td>\n",
       "      <td>128</td>\n",
       "      <td>8</td>\n",
       "      <td>5000</td>\n",
       "      <td>50MP</td>\n",
       "      <td>16MP</td>\n",
       "      <td>0</td>\n",
       "      <td>16.64</td>\n",
       "      <td>Qualcomm Snapdragon 680</td>\n",
       "      <td>11999</td>\n",
       "    </tr>\n",
       "    <tr>\n",
       "      <th>3</th>\n",
       "      <td>3</td>\n",
       "      <td>POCO C50</td>\n",
       "      <td>Royal Blue</td>\n",
       "      <td>32</td>\n",
       "      <td>2</td>\n",
       "      <td>5000</td>\n",
       "      <td>8MP</td>\n",
       "      <td>5MP</td>\n",
       "      <td>0</td>\n",
       "      <td>16.56</td>\n",
       "      <td>Mediatek Helio A22</td>\n",
       "      <td>5649</td>\n",
       "    </tr>\n",
       "    <tr>\n",
       "      <th>4</th>\n",
       "      <td>4</td>\n",
       "      <td>Infinix HOT 30i</td>\n",
       "      <td>Marigold</td>\n",
       "      <td>128</td>\n",
       "      <td>8</td>\n",
       "      <td>5000</td>\n",
       "      <td>50MP</td>\n",
       "      <td>5MP</td>\n",
       "      <td>1</td>\n",
       "      <td>16.76</td>\n",
       "      <td>G37</td>\n",
       "      <td>8999</td>\n",
       "    </tr>\n",
       "  </tbody>\n",
       "</table>\n",
       "</div>"
      ],
      "text/plain": [
       "   Unnamed: 0            Model        Colour  Memory  RAM  Battery_  \\\n",
       "0           0  Infinix SMART 7   Night Black      64    4      6000   \n",
       "1           1  Infinix SMART 7    Azure Blue      64    4      6000   \n",
       "2           2     MOTOROLA G32  Mineral Gray     128    8      5000   \n",
       "3           3         POCO C50    Royal Blue      32    2      5000   \n",
       "4           4  Infinix HOT 30i      Marigold     128    8      5000   \n",
       "\n",
       "  Rear Camera Front Camera  AI Lens  Mobile Height  \\\n",
       "0        13MP          5MP        1          16.76   \n",
       "1        13MP          5MP        1          16.76   \n",
       "2        50MP         16MP        0          16.64   \n",
       "3         8MP          5MP        0          16.56   \n",
       "4        50MP          5MP        1          16.76   \n",
       "\n",
       "                   Processor_  Prize  \n",
       "0  Unisoc Spreadtrum SC9863A1   7299  \n",
       "1  Unisoc Spreadtrum SC9863A1   7299  \n",
       "2     Qualcomm Snapdragon 680  11999  \n",
       "3          Mediatek Helio A22   5649  \n",
       "4                         G37   8999  "
      ]
     },
     "execution_count": 3,
     "metadata": {},
     "output_type": "execute_result"
    }
   ],
   "source": [
    "Processed_Flipdata.head(5)"
   ]
  },
  {
   "cell_type": "markdown",
   "id": "995c3f51",
   "metadata": {},
   "source": [
    "# Display the last few rows of the dataset"
   ]
  },
  {
   "cell_type": "code",
   "execution_count": 4,
   "id": "65bb382a",
   "metadata": {},
   "outputs": [
    {
     "data": {
      "text/html": [
       "<div>\n",
       "<style scoped>\n",
       "    .dataframe tbody tr th:only-of-type {\n",
       "        vertical-align: middle;\n",
       "    }\n",
       "\n",
       "    .dataframe tbody tr th {\n",
       "        vertical-align: top;\n",
       "    }\n",
       "\n",
       "    .dataframe thead th {\n",
       "        text-align: right;\n",
       "    }\n",
       "</style>\n",
       "<table border=\"1\" class=\"dataframe\">\n",
       "  <thead>\n",
       "    <tr style=\"text-align: right;\">\n",
       "      <th></th>\n",
       "      <th>Unnamed: 0</th>\n",
       "      <th>Model</th>\n",
       "      <th>Colour</th>\n",
       "      <th>Memory</th>\n",
       "      <th>RAM</th>\n",
       "      <th>Battery_</th>\n",
       "      <th>Rear Camera</th>\n",
       "      <th>Front Camera</th>\n",
       "      <th>AI Lens</th>\n",
       "      <th>Mobile Height</th>\n",
       "      <th>Processor_</th>\n",
       "      <th>Prize</th>\n",
       "    </tr>\n",
       "  </thead>\n",
       "  <tbody>\n",
       "    <tr>\n",
       "      <th>536</th>\n",
       "      <td>637</td>\n",
       "      <td>SAMSUNG Galaxy S23 5G</td>\n",
       "      <td>Cream</td>\n",
       "      <td>256</td>\n",
       "      <td>8</td>\n",
       "      <td>3900</td>\n",
       "      <td>50MP</td>\n",
       "      <td>12MP</td>\n",
       "      <td>0</td>\n",
       "      <td>15.49</td>\n",
       "      <td>Qualcomm Snapdragon 8 Gen 2</td>\n",
       "      <td>79999</td>\n",
       "    </tr>\n",
       "    <tr>\n",
       "      <th>537</th>\n",
       "      <td>638</td>\n",
       "      <td>LAVA Z21</td>\n",
       "      <td>Cyan</td>\n",
       "      <td>32</td>\n",
       "      <td>2</td>\n",
       "      <td>3100</td>\n",
       "      <td>5MP</td>\n",
       "      <td>2MP</td>\n",
       "      <td>0</td>\n",
       "      <td>12.70</td>\n",
       "      <td>Octa Core</td>\n",
       "      <td>5998</td>\n",
       "    </tr>\n",
       "    <tr>\n",
       "      <th>538</th>\n",
       "      <td>639</td>\n",
       "      <td>Tecno Spark 8T</td>\n",
       "      <td>Turquoise Cyan</td>\n",
       "      <td>64</td>\n",
       "      <td>4</td>\n",
       "      <td>5000</td>\n",
       "      <td>50MP</td>\n",
       "      <td>8MP</td>\n",
       "      <td>0</td>\n",
       "      <td>16.76</td>\n",
       "      <td>MediaTek Helio G35</td>\n",
       "      <td>9990</td>\n",
       "    </tr>\n",
       "    <tr>\n",
       "      <th>539</th>\n",
       "      <td>641</td>\n",
       "      <td>SAMSUNG Galaxy A54 5G</td>\n",
       "      <td>Awesome Lime</td>\n",
       "      <td>128</td>\n",
       "      <td>8</td>\n",
       "      <td>5000</td>\n",
       "      <td>50MP</td>\n",
       "      <td>32MP</td>\n",
       "      <td>0</td>\n",
       "      <td>16.26</td>\n",
       "      <td>Exynos 1380, Octa Core</td>\n",
       "      <td>38999</td>\n",
       "    </tr>\n",
       "    <tr>\n",
       "      <th>540</th>\n",
       "      <td>642</td>\n",
       "      <td>OPPO A77</td>\n",
       "      <td>Sky Blue</td>\n",
       "      <td>128</td>\n",
       "      <td>4</td>\n",
       "      <td>5000</td>\n",
       "      <td>50MP</td>\n",
       "      <td>8MP</td>\n",
       "      <td>0</td>\n",
       "      <td>16.66</td>\n",
       "      <td>Mediatek Helio G35</td>\n",
       "      <td>15999</td>\n",
       "    </tr>\n",
       "  </tbody>\n",
       "</table>\n",
       "</div>"
      ],
      "text/plain": [
       "     Unnamed: 0                  Model          Colour  Memory  RAM  Battery_  \\\n",
       "536         637  SAMSUNG Galaxy S23 5G           Cream     256    8      3900   \n",
       "537         638               LAVA Z21            Cyan      32    2      3100   \n",
       "538         639         Tecno Spark 8T  Turquoise Cyan      64    4      5000   \n",
       "539         641  SAMSUNG Galaxy A54 5G    Awesome Lime     128    8      5000   \n",
       "540         642               OPPO A77        Sky Blue     128    4      5000   \n",
       "\n",
       "    Rear Camera Front Camera  AI Lens  Mobile Height  \\\n",
       "536        50MP         12MP        0          15.49   \n",
       "537         5MP          2MP        0          12.70   \n",
       "538        50MP          8MP        0          16.76   \n",
       "539        50MP         32MP        0          16.26   \n",
       "540        50MP          8MP        0          16.66   \n",
       "\n",
       "                      Processor_  Prize  \n",
       "536  Qualcomm Snapdragon 8 Gen 2  79999  \n",
       "537                    Octa Core   5998  \n",
       "538           MediaTek Helio G35   9990  \n",
       "539      Exynos 1380, Octa Core   38999  \n",
       "540           Mediatek Helio G35  15999  "
      ]
     },
     "execution_count": 4,
     "metadata": {},
     "output_type": "execute_result"
    }
   ],
   "source": [
    "Processed_Flipdata.tail(5)"
   ]
  },
  {
   "cell_type": "markdown",
   "id": "08c11b78",
   "metadata": {},
   "source": [
    "# Display information about the dataset"
   ]
  },
  {
   "cell_type": "code",
   "execution_count": 5,
   "id": "e743e0f7",
   "metadata": {},
   "outputs": [
    {
     "name": "stdout",
     "output_type": "stream",
     "text": [
      "<class 'pandas.core.frame.DataFrame'>\n",
      "RangeIndex: 541 entries, 0 to 540\n",
      "Data columns (total 12 columns):\n",
      " #   Column         Non-Null Count  Dtype  \n",
      "---  ------         --------------  -----  \n",
      " 0   Unnamed: 0     541 non-null    int64  \n",
      " 1   Model          541 non-null    object \n",
      " 2   Colour         541 non-null    object \n",
      " 3   Memory         541 non-null    int64  \n",
      " 4   RAM            541 non-null    int64  \n",
      " 5   Battery_       541 non-null    int64  \n",
      " 6   Rear Camera    541 non-null    object \n",
      " 7   Front Camera   541 non-null    object \n",
      " 8   AI Lens        541 non-null    int64  \n",
      " 9   Mobile Height  541 non-null    float64\n",
      " 10  Processor_     541 non-null    object \n",
      " 11  Prize          541 non-null    int64  \n",
      "dtypes: float64(1), int64(6), object(5)\n",
      "memory usage: 50.8+ KB\n"
     ]
    }
   ],
   "source": [
    "Processed_Flipdata.info()"
   ]
  },
  {
   "cell_type": "code",
   "execution_count": 6,
   "id": "93e3bf2b",
   "metadata": {},
   "outputs": [
    {
     "data": {
      "text/plain": [
       "(541, 12)"
      ]
     },
     "execution_count": 6,
     "metadata": {},
     "output_type": "execute_result"
    }
   ],
   "source": [
    "Processed_Flipdata.shape"
   ]
  },
  {
   "cell_type": "code",
   "execution_count": 7,
   "id": "400c2d27",
   "metadata": {},
   "outputs": [
    {
     "data": {
      "text/plain": [
       "Index(['Unnamed: 0', 'Model', 'Colour', 'Memory', 'RAM', 'Battery_',\n",
       "       'Rear Camera', 'Front Camera', 'AI Lens', 'Mobile Height', 'Processor_',\n",
       "       'Prize'],\n",
       "      dtype='object')"
      ]
     },
     "execution_count": 7,
     "metadata": {},
     "output_type": "execute_result"
    }
   ],
   "source": [
    "Processed_Flipdata.columns"
   ]
  },
  {
   "cell_type": "markdown",
   "id": "d74b4677",
   "metadata": {},
   "source": [
    "# Display statistical summary of the dataset"
   ]
  },
  {
   "cell_type": "code",
   "execution_count": 8,
   "id": "fbbe899b",
   "metadata": {},
   "outputs": [
    {
     "data": {
      "text/html": [
       "<div>\n",
       "<style scoped>\n",
       "    .dataframe tbody tr th:only-of-type {\n",
       "        vertical-align: middle;\n",
       "    }\n",
       "\n",
       "    .dataframe tbody tr th {\n",
       "        vertical-align: top;\n",
       "    }\n",
       "\n",
       "    .dataframe thead th {\n",
       "        text-align: right;\n",
       "    }\n",
       "</style>\n",
       "<table border=\"1\" class=\"dataframe\">\n",
       "  <thead>\n",
       "    <tr style=\"text-align: right;\">\n",
       "      <th></th>\n",
       "      <th>Unnamed: 0</th>\n",
       "      <th>Memory</th>\n",
       "      <th>RAM</th>\n",
       "      <th>Battery_</th>\n",
       "      <th>AI Lens</th>\n",
       "      <th>Mobile Height</th>\n",
       "      <th>Prize</th>\n",
       "    </tr>\n",
       "  </thead>\n",
       "  <tbody>\n",
       "    <tr>\n",
       "      <th>count</th>\n",
       "      <td>541.000000</td>\n",
       "      <td>541.000000</td>\n",
       "      <td>541.000000</td>\n",
       "      <td>541.000000</td>\n",
       "      <td>541.000000</td>\n",
       "      <td>541.000000</td>\n",
       "      <td>541.000000</td>\n",
       "    </tr>\n",
       "    <tr>\n",
       "      <th>mean</th>\n",
       "      <td>289.711645</td>\n",
       "      <td>110.550832</td>\n",
       "      <td>5.397412</td>\n",
       "      <td>4871.587800</td>\n",
       "      <td>0.062847</td>\n",
       "      <td>16.431201</td>\n",
       "      <td>16228.375231</td>\n",
       "    </tr>\n",
       "    <tr>\n",
       "      <th>std</th>\n",
       "      <td>182.359185</td>\n",
       "      <td>60.600694</td>\n",
       "      <td>1.984923</td>\n",
       "      <td>780.148862</td>\n",
       "      <td>0.242911</td>\n",
       "      <td>2.523553</td>\n",
       "      <td>10793.588322</td>\n",
       "    </tr>\n",
       "    <tr>\n",
       "      <th>min</th>\n",
       "      <td>0.000000</td>\n",
       "      <td>16.000000</td>\n",
       "      <td>2.000000</td>\n",
       "      <td>800.000000</td>\n",
       "      <td>0.000000</td>\n",
       "      <td>4.500000</td>\n",
       "      <td>920.000000</td>\n",
       "    </tr>\n",
       "    <tr>\n",
       "      <th>25%</th>\n",
       "      <td>135.000000</td>\n",
       "      <td>64.000000</td>\n",
       "      <td>4.000000</td>\n",
       "      <td>5000.000000</td>\n",
       "      <td>0.000000</td>\n",
       "      <td>16.510000</td>\n",
       "      <td>9290.000000</td>\n",
       "    </tr>\n",
       "    <tr>\n",
       "      <th>50%</th>\n",
       "      <td>273.000000</td>\n",
       "      <td>128.000000</td>\n",
       "      <td>6.000000</td>\n",
       "      <td>5000.000000</td>\n",
       "      <td>0.000000</td>\n",
       "      <td>16.710000</td>\n",
       "      <td>13499.000000</td>\n",
       "    </tr>\n",
       "    <tr>\n",
       "      <th>75%</th>\n",
       "      <td>434.000000</td>\n",
       "      <td>128.000000</td>\n",
       "      <td>8.000000</td>\n",
       "      <td>5000.000000</td>\n",
       "      <td>0.000000</td>\n",
       "      <td>16.940000</td>\n",
       "      <td>19280.000000</td>\n",
       "    </tr>\n",
       "    <tr>\n",
       "      <th>max</th>\n",
       "      <td>642.000000</td>\n",
       "      <td>256.000000</td>\n",
       "      <td>8.000000</td>\n",
       "      <td>7000.000000</td>\n",
       "      <td>1.000000</td>\n",
       "      <td>41.940000</td>\n",
       "      <td>80999.000000</td>\n",
       "    </tr>\n",
       "  </tbody>\n",
       "</table>\n",
       "</div>"
      ],
      "text/plain": [
       "       Unnamed: 0      Memory         RAM     Battery_     AI Lens  \\\n",
       "count  541.000000  541.000000  541.000000   541.000000  541.000000   \n",
       "mean   289.711645  110.550832    5.397412  4871.587800    0.062847   \n",
       "std    182.359185   60.600694    1.984923   780.148862    0.242911   \n",
       "min      0.000000   16.000000    2.000000   800.000000    0.000000   \n",
       "25%    135.000000   64.000000    4.000000  5000.000000    0.000000   \n",
       "50%    273.000000  128.000000    6.000000  5000.000000    0.000000   \n",
       "75%    434.000000  128.000000    8.000000  5000.000000    0.000000   \n",
       "max    642.000000  256.000000    8.000000  7000.000000    1.000000   \n",
       "\n",
       "       Mobile Height         Prize  \n",
       "count     541.000000    541.000000  \n",
       "mean       16.431201  16228.375231  \n",
       "std         2.523553  10793.588322  \n",
       "min         4.500000    920.000000  \n",
       "25%        16.510000   9290.000000  \n",
       "50%        16.710000  13499.000000  \n",
       "75%        16.940000  19280.000000  \n",
       "max        41.940000  80999.000000  "
      ]
     },
     "execution_count": 8,
     "metadata": {},
     "output_type": "execute_result"
    }
   ],
   "source": [
    "Processed_Flipdata.describe()"
   ]
  },
  {
   "cell_type": "markdown",
   "id": "267472a1",
   "metadata": {},
   "source": [
    "# 2. Data Preprocessing:\n"
   ]
  },
  {
   "cell_type": "markdown",
   "id": "233f1ba1",
   "metadata": {},
   "source": [
    "# Check for missing values"
   ]
  },
  {
   "cell_type": "code",
   "execution_count": 9,
   "id": "a7c0db27",
   "metadata": {},
   "outputs": [
    {
     "data": {
      "text/plain": [
       "Unnamed: 0       0\n",
       "Model            0\n",
       "Colour           0\n",
       "Memory           0\n",
       "RAM              0\n",
       "Battery_         0\n",
       "Rear Camera      0\n",
       "Front Camera     0\n",
       "AI Lens          0\n",
       "Mobile Height    0\n",
       "Processor_       0\n",
       "Prize            0\n",
       "dtype: int64"
      ]
     },
     "execution_count": 9,
     "metadata": {},
     "output_type": "execute_result"
    }
   ],
   "source": [
    "Processed_Flipdata.isnull().sum()"
   ]
  },
  {
   "cell_type": "code",
   "execution_count": 10,
   "id": "3caf868e",
   "metadata": {},
   "outputs": [
    {
     "data": {
      "text/plain": [
       "Model\n",
       "vivo Y16                 9\n",
       "realme C55               9\n",
       "SAMSUNG Galaxy A14 5G    9\n",
       "REDMI Note 12 Pro 5G     9\n",
       "vivo T1 44W              8\n",
       "                        ..\n",
       "vivo Y1s                 1\n",
       "OnePlus Nord             1\n",
       "Micromax 3               1\n",
       "vivo Y33s                1\n",
       "OPPO A77                 1\n",
       "Name: count, Length: 187, dtype: int64"
      ]
     },
     "execution_count": 10,
     "metadata": {},
     "output_type": "execute_result"
    }
   ],
   "source": [
    "Processed_Flipdata['Model'].value_counts()"
   ]
  },
  {
   "cell_type": "markdown",
   "id": "73dbd21e",
   "metadata": {},
   "source": [
    "# Drop unnecessary Columns"
   ]
  },
  {
   "cell_type": "code",
   "execution_count": 11,
   "id": "af310f86",
   "metadata": {},
   "outputs": [],
   "source": [
    "Processed_Flipdata=Processed_Flipdata.drop(['Unnamed: 0'], axis=1)"
   ]
  },
  {
   "cell_type": "code",
   "execution_count": 12,
   "id": "7f0b284d",
   "metadata": {},
   "outputs": [
    {
     "data": {
      "text/html": [
       "<div>\n",
       "<style scoped>\n",
       "    .dataframe tbody tr th:only-of-type {\n",
       "        vertical-align: middle;\n",
       "    }\n",
       "\n",
       "    .dataframe tbody tr th {\n",
       "        vertical-align: top;\n",
       "    }\n",
       "\n",
       "    .dataframe thead th {\n",
       "        text-align: right;\n",
       "    }\n",
       "</style>\n",
       "<table border=\"1\" class=\"dataframe\">\n",
       "  <thead>\n",
       "    <tr style=\"text-align: right;\">\n",
       "      <th></th>\n",
       "      <th>Model</th>\n",
       "      <th>Colour</th>\n",
       "      <th>Memory</th>\n",
       "      <th>RAM</th>\n",
       "      <th>Battery_</th>\n",
       "      <th>Rear Camera</th>\n",
       "      <th>Front Camera</th>\n",
       "      <th>AI Lens</th>\n",
       "      <th>Mobile Height</th>\n",
       "      <th>Processor_</th>\n",
       "      <th>Prize</th>\n",
       "    </tr>\n",
       "  </thead>\n",
       "  <tbody>\n",
       "    <tr>\n",
       "      <th>0</th>\n",
       "      <td>Infinix SMART 7</td>\n",
       "      <td>Night Black</td>\n",
       "      <td>64</td>\n",
       "      <td>4</td>\n",
       "      <td>6000</td>\n",
       "      <td>13MP</td>\n",
       "      <td>5MP</td>\n",
       "      <td>1</td>\n",
       "      <td>16.76</td>\n",
       "      <td>Unisoc Spreadtrum SC9863A1</td>\n",
       "      <td>7299</td>\n",
       "    </tr>\n",
       "    <tr>\n",
       "      <th>1</th>\n",
       "      <td>Infinix SMART 7</td>\n",
       "      <td>Azure Blue</td>\n",
       "      <td>64</td>\n",
       "      <td>4</td>\n",
       "      <td>6000</td>\n",
       "      <td>13MP</td>\n",
       "      <td>5MP</td>\n",
       "      <td>1</td>\n",
       "      <td>16.76</td>\n",
       "      <td>Unisoc Spreadtrum SC9863A1</td>\n",
       "      <td>7299</td>\n",
       "    </tr>\n",
       "    <tr>\n",
       "      <th>2</th>\n",
       "      <td>MOTOROLA G32</td>\n",
       "      <td>Mineral Gray</td>\n",
       "      <td>128</td>\n",
       "      <td>8</td>\n",
       "      <td>5000</td>\n",
       "      <td>50MP</td>\n",
       "      <td>16MP</td>\n",
       "      <td>0</td>\n",
       "      <td>16.64</td>\n",
       "      <td>Qualcomm Snapdragon 680</td>\n",
       "      <td>11999</td>\n",
       "    </tr>\n",
       "    <tr>\n",
       "      <th>3</th>\n",
       "      <td>POCO C50</td>\n",
       "      <td>Royal Blue</td>\n",
       "      <td>32</td>\n",
       "      <td>2</td>\n",
       "      <td>5000</td>\n",
       "      <td>8MP</td>\n",
       "      <td>5MP</td>\n",
       "      <td>0</td>\n",
       "      <td>16.56</td>\n",
       "      <td>Mediatek Helio A22</td>\n",
       "      <td>5649</td>\n",
       "    </tr>\n",
       "    <tr>\n",
       "      <th>4</th>\n",
       "      <td>Infinix HOT 30i</td>\n",
       "      <td>Marigold</td>\n",
       "      <td>128</td>\n",
       "      <td>8</td>\n",
       "      <td>5000</td>\n",
       "      <td>50MP</td>\n",
       "      <td>5MP</td>\n",
       "      <td>1</td>\n",
       "      <td>16.76</td>\n",
       "      <td>G37</td>\n",
       "      <td>8999</td>\n",
       "    </tr>\n",
       "  </tbody>\n",
       "</table>\n",
       "</div>"
      ],
      "text/plain": [
       "             Model        Colour  Memory  RAM  Battery_ Rear Camera  \\\n",
       "0  Infinix SMART 7   Night Black      64    4      6000        13MP   \n",
       "1  Infinix SMART 7    Azure Blue      64    4      6000        13MP   \n",
       "2     MOTOROLA G32  Mineral Gray     128    8      5000        50MP   \n",
       "3         POCO C50    Royal Blue      32    2      5000         8MP   \n",
       "4  Infinix HOT 30i      Marigold     128    8      5000        50MP   \n",
       "\n",
       "  Front Camera  AI Lens  Mobile Height                  Processor_  Prize  \n",
       "0          5MP        1          16.76  Unisoc Spreadtrum SC9863A1   7299  \n",
       "1          5MP        1          16.76  Unisoc Spreadtrum SC9863A1   7299  \n",
       "2         16MP        0          16.64     Qualcomm Snapdragon 680  11999  \n",
       "3          5MP        0          16.56          Mediatek Helio A22   5649  \n",
       "4          5MP        1          16.76                         G37   8999  "
      ]
     },
     "execution_count": 12,
     "metadata": {},
     "output_type": "execute_result"
    }
   ],
   "source": [
    "Processed_Flipdata.head(5)"
   ]
  },
  {
   "cell_type": "markdown",
   "id": "3c0bafd8",
   "metadata": {},
   "source": [
    "# Convert float column itni int64"
   ]
  },
  {
   "cell_type": "code",
   "execution_count": null,
   "id": "62a539f8",
   "metadata": {},
   "outputs": [],
   "source": []
  }
 ],
 "metadata": {
  "kernelspec": {
   "display_name": "Python 3 (ipykernel)",
   "language": "python",
   "name": "python3"
  },
  "language_info": {
   "codemirror_mode": {
    "name": "ipython",
    "version": 3
   },
   "file_extension": ".py",
   "mimetype": "text/x-python",
   "name": "python",
   "nbconvert_exporter": "python",
   "pygments_lexer": "ipython3",
   "version": "3.11.5"
  }
 },
 "nbformat": 4,
 "nbformat_minor": 5
}
